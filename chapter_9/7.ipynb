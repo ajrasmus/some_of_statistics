{
 "cells": [
  {
   "cell_type": "code",
   "execution_count": 48,
   "id": "f2153c34",
   "metadata": {},
   "outputs": [],
   "source": [
    "import numpy as np\n",
    "from scipy.stats import binom\n",
    "from scipy.stats import norm\n",
    "import matplotlib.pyplot as plt"
   ]
  },
  {
   "cell_type": "markdown",
   "id": "2b97b106",
   "metadata": {},
   "source": [
    "Part (d)\n",
    "--"
   ]
  },
  {
   "cell_type": "markdown",
   "id": "f0b26403",
   "metadata": {},
   "source": [
    "First we calculated standard error using the multiparameter delta method, studied in part (c)."
   ]
  },
  {
   "cell_type": "code",
   "execution_count": 55,
   "id": "1bf49f1b",
   "metadata": {},
   "outputs": [],
   "source": [
    "np.random.seed(42)"
   ]
  },
  {
   "cell_type": "code",
   "execution_count": 56,
   "id": "c28fc6c2",
   "metadata": {},
   "outputs": [],
   "source": [
    "n_1 = 200"
   ]
  },
  {
   "cell_type": "code",
   "execution_count": 57,
   "id": "2750444b",
   "metadata": {},
   "outputs": [],
   "source": [
    "n_2 = 200"
   ]
  },
  {
   "cell_type": "code",
   "execution_count": 58,
   "id": "70dda73f",
   "metadata": {},
   "outputs": [],
   "source": [
    "X_1 = 160"
   ]
  },
  {
   "cell_type": "code",
   "execution_count": 59,
   "id": "d265fd64",
   "metadata": {},
   "outputs": [],
   "source": [
    "X_2 = 148"
   ]
  },
  {
   "cell_type": "code",
   "execution_count": 60,
   "id": "b615e28a",
   "metadata": {},
   "outputs": [],
   "source": [
    "p_1_hat = X_1/n_1"
   ]
  },
  {
   "cell_type": "code",
   "execution_count": 61,
   "id": "6438ac1f",
   "metadata": {},
   "outputs": [],
   "source": [
    "p_2_hat = X_2/n_2"
   ]
  },
  {
   "cell_type": "code",
   "execution_count": 62,
   "id": "9f151a42",
   "metadata": {},
   "outputs": [],
   "source": [
    "psi_hat = p_1_hat - p_2_hat"
   ]
  },
  {
   "cell_type": "code",
   "execution_count": 63,
   "id": "6e42a6d5",
   "metadata": {},
   "outputs": [],
   "source": [
    "alpha = 0.1"
   ]
  },
  {
   "cell_type": "code",
   "execution_count": 64,
   "id": "cecda8a5",
   "metadata": {},
   "outputs": [],
   "source": [
    "z = norm.ppf(1 - alpha/2)"
   ]
  },
  {
   "cell_type": "code",
   "execution_count": 44,
   "id": "2c17fc2f",
   "metadata": {},
   "outputs": [],
   "source": [
    "se_hat_delta = np.sqrt(\n",
    "    p_1_hat * (1 - p_1_hat) / n_1 + p_2_hat * (1 - p_2_hat) / n_2\n",
    ")"
   ]
  },
  {
   "cell_type": "markdown",
   "id": "59e697b8",
   "metadata": {},
   "source": [
    "Now we perform the parametric bootstrap to estimate the standard error."
   ]
  },
  {
   "cell_type": "code",
   "execution_count": 65,
   "id": "a8821167",
   "metadata": {},
   "outputs": [],
   "source": [
    "B = int(1e5)"
   ]
  },
  {
   "cell_type": "code",
   "execution_count": 66,
   "id": "b89bcb84",
   "metadata": {},
   "outputs": [],
   "source": [
    "T_boot = np.empty(B)"
   ]
  },
  {
   "cell_type": "code",
   "execution_count": 67,
   "id": "427a15f5",
   "metadata": {},
   "outputs": [],
   "source": [
    "for i in range(B):\n",
    "    X_1_star = binom.rvs(n=n_1, p=p_1_hat)\n",
    "    X_2_star = binom.rvs(n=n_2, p=p_2_hat)\n",
    "    p_1_star = X_1_star / n_1\n",
    "    p_2_star = X_2_star / n_2\n",
    "    psi_star = p_1_star - p_2_star\n",
    "    T_boot[i] = psi_star"
   ]
  },
  {
   "cell_type": "code",
   "execution_count": 68,
   "id": "195d9268",
   "metadata": {},
   "outputs": [],
   "source": [
    "se_hat_boot = np.sqrt(np.mean(T_boot - psi_hat)**2)"
   ]
  },
  {
   "cell_type": "code",
   "execution_count": 69,
   "id": "03f99bcc",
   "metadata": {},
   "outputs": [
    {
     "name": "stdout",
     "output_type": "stream",
     "text": [
      "Estimated value of psi: 0.06\n",
      "Delta method standard error: 0.04198\n",
      "Delta method 90% confidence interval: (-0.00904, 0.12904)\n",
      "Parametric bootstrap standard error: 0.00011\n",
      "Parametric bootstrap 90% confidence interval: (0.05982, 0.06018)\n"
     ]
    }
   ],
   "source": [
    "print('Estimated value of psi: {:.2f}'.format(psi_hat))\n",
    "print('Delta method standard error: {:.5f}'.format(se_hat_delta))\n",
    "print('Delta method 90% confidence interval: ({:.5f}, {:.5f})'.format(\n",
    "    psi_hat - z * se_hat_delta, psi_hat + z * se_hat_delta))\n",
    "print('Parametric bootstrap standard error: {:.5f}'.format(se_hat_boot))\n",
    "print('Parametric bootstrap 90% confidence interval: ({:.5f}, {:.5f})'.format(\n",
    "    psi_hat - z * se_hat_boot, psi_hat + z * se_hat_boot))"
   ]
  },
  {
   "cell_type": "markdown",
   "id": "a80b5a8b",
   "metadata": {},
   "source": [
    "It appears the bootstrap method gives a much smaller estimated standard error in this case."
   ]
  }
 ],
 "metadata": {
  "kernelspec": {
   "display_name": "deeplearn",
   "language": "python",
   "name": "deeplearn"
  },
  "language_info": {
   "codemirror_mode": {
    "name": "ipython",
    "version": 3
   },
   "file_extension": ".py",
   "mimetype": "text/x-python",
   "name": "python",
   "nbconvert_exporter": "python",
   "pygments_lexer": "ipython3",
   "version": "3.10.0"
  }
 },
 "nbformat": 4,
 "nbformat_minor": 5
}
