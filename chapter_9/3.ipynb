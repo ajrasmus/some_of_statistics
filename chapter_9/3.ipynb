{
 "cells": [
  {
   "cell_type": "code",
   "execution_count": 72,
   "id": "767e39ed",
   "metadata": {},
   "outputs": [],
   "source": [
    "import numpy as np\n",
    "from scipy.stats import norm\n",
    "import matplotlib.pyplot as plt"
   ]
  },
  {
   "cell_type": "code",
   "execution_count": 73,
   "id": "3a6006c5",
   "metadata": {},
   "outputs": [],
   "source": [
    "np.random.seed(42)"
   ]
  },
  {
   "cell_type": "markdown",
   "id": "e26dfe17",
   "metadata": {},
   "source": [
    "Part (a)\n",
    "--"
   ]
  },
  {
   "cell_type": "markdown",
   "id": "3bf39609",
   "metadata": {},
   "source": [
    "First, the maximum likelihood of $\\theta=(\\mu,\\sigma)$ is $(\\hat\\mu,\\hat\\sigma)=(\\overline X, S)$ where $\\overline X$ is the sample mean and $S$ is the sample standard deviation. By equivariance of the MLE, the MLE $\\hat\\tau$ for $\\tau$ is the .95 percentile for $N(\\hat\\mu,\\hat\\sigma^2)$. If $Y\\sim N(\\hat\\mu,\\hat\\sigma^2)$ then $(Y-\\hat\\mu)/\\hat\\sigma\\sim N(0,1)$ so $$0.95=\\mathbb P\\left(Y<\\hat\\tau\\right)=\\mathbb P\\left(\\frac{X-\\hat\\mu}{\\hat\\sigma} < \\frac{\\hat\\tau-\\hat\\mu}{\\hat\\sigma}\\right)=\\Phi\\left(\\frac{\\hat\\tau-\\hat\\mu}{\\hat\\sigma}\\right).$$ So\n",
    "$$\\hat\\tau = \\hat\\sigma \\Phi^{-1}(0.95) + \\hat\\mu = S\\Phi^{-1}(0.95) + \\overline X.$$"
   ]
  },
  {
   "cell_type": "markdown",
   "id": "1d70b988",
   "metadata": {},
   "source": [
    "Part (b)\n",
    "--"
   ]
  },
  {
   "cell_type": "markdown",
   "id": "869dcd4a",
   "metadata": {},
   "source": [
    "We use the multi-parameter methods described in the chapter. Consider the parameter $\\theta=(\\mu,\\sigma)$. We have\n",
    "$$\\ell_n = \\sum \\log f(X_i;\\mu,\\sigma^2) = c - n\\log\\sigma  - \\frac{1}{2}\\sum \\left(\\frac{X_i-\\mu}{\\sigma}\\right)^2$$ where $c$ is a constant. Thus\n",
    "$$\\frac{\\partial^2 \\ell_n}{\\partial \\mu^2} = -\\frac{n}{\\sigma^2}, \\ \\ \\ \\frac{\\partial^2 \\ell_n}{\\partial \\mu \\partial \\sigma} = -2\\sum \\frac{X_i-\\mu}{\\sigma^3}, \\ \\ \\ \\frac{\\partial^2 \\ell_n}{\\partial \\sigma^2} = \\frac{n}{\\sigma^2} - 3 \\sum \\frac{(X_i-\\mu)^2}{\\sigma^4}.$$\n",
    "The expected values of these partial derivatives are\n",
    "$$-\\frac{n}{\\sigma^2}, \\ \\ \\ -2\\sum \\frac{\\mathbb E X_i-\\mu}{\\sigma^3} = 0, \\text{ and }\n",
    "\\frac{n}{\\sigma^2} - 3 \\sum \\frac{\\mathbb E(X_i-\\mu)^2}{\\sigma^4} = -\\frac{2n}{\\sigma^2}.$$\n",
    "This yields\n",
    "$$I_n(\\theta) = \\frac{n}{\\sigma^2}\\begin{pmatrix} 1 & 0 \\\\ 0 & 2\\end{pmatrix} \\text{ and } J_n(\\theta) = \\frac{\\sigma^2}{n} \\begin{pmatrix} 1 & 0 \\\\ 0 & 1/2 \\end{pmatrix}.$$\n",
    "Setting $g(\\mu,\\theta)=\\tau=\\sigma z_{0.95} + \\mu$ we have\n",
    "$$\\nabla g = \\begin{pmatrix} 1 \\\\ z_{0.95}\\end{pmatrix} \\text{ and } \\nabla g^T J_n \\nabla g = \\frac{\\sigma^2}{n}\\left(1+\\frac{1}{2}z_{0.95}^2\\right).$$\n",
    "\n",
    "In the case of the maximum likelihood estimator $\\hat \\tau$ we can estimate $\\widehat{\\text{se}}(\\hat \\tau)=\\frac{S}{\\sqrt{n}}\\sqrt{1+z_{0.95}^2/2}$ where $S$ is the sample standard deviation, via Theorem 9.28. Thus, an approximate 95\\% confidence interval is\n",
    "$$\\left(\\hat \\tau - 2\\frac{S}{\\sqrt{n}}\\sqrt{1+z_{0.95}^2/2}, \\hat \\tau + 2\\frac{S}{\\sqrt{n}}\\sqrt{1+z_{0.95}^2/2}\\right)$$ where $\\hat \\tau$ is as in part (a)."
   ]
  },
  {
   "cell_type": "markdown",
   "id": "e855bbff",
   "metadata": {},
   "source": [
    "Part (c)\n",
    "--"
   ]
  },
  {
   "cell_type": "markdown",
   "id": "310ae151",
   "metadata": {},
   "source": [
    "To estimate the standard error using the delta method we use our calculations from parts (a) and (b)."
   ]
  },
  {
   "cell_type": "code",
   "execution_count": 74,
   "id": "92d8e180",
   "metadata": {},
   "outputs": [],
   "source": [
    "X = np.array([3.23, -2.50, 1.88, -0.68, 4.43, 0.17, 1.03, -0.07, -0.01, 0.76,\n",
    "     1.76, 3.18, 0.33, -0.31, 0.30, -0.61, 1.52, 5.43, 1.54, 2.28,\n",
    "     0.42, 2.33, -1.03, 4.00, 0.39])"
   ]
  },
  {
   "cell_type": "code",
   "execution_count": 75,
   "id": "0b6b90a2",
   "metadata": {},
   "outputs": [],
   "source": [
    "n = len(X)"
   ]
  },
  {
   "cell_type": "code",
   "execution_count": 76,
   "id": "c16207aa",
   "metadata": {},
   "outputs": [],
   "source": [
    "X_bar = np.mean(X)"
   ]
  },
  {
   "cell_type": "code",
   "execution_count": 77,
   "id": "70802b8b",
   "metadata": {},
   "outputs": [],
   "source": [
    "S = np.std(X)"
   ]
  },
  {
   "cell_type": "code",
   "execution_count": 78,
   "id": "4d51d5f9",
   "metadata": {},
   "outputs": [],
   "source": [
    "z = norm.ppf(0.95, loc=0, scale=1)"
   ]
  },
  {
   "cell_type": "code",
   "execution_count": 79,
   "id": "119bc03b",
   "metadata": {},
   "outputs": [],
   "source": [
    "tau_hat = S * z + X_bar"
   ]
  },
  {
   "cell_type": "code",
   "execution_count": 80,
   "id": "fc51e812",
   "metadata": {},
   "outputs": [],
   "source": [
    "se_hat_delta = (S / np.sqrt(n)) * np.sqrt(1+z**2/2)"
   ]
  },
  {
   "cell_type": "markdown",
   "id": "16511b3c",
   "metadata": {},
   "source": [
    "Now we estimate the standard error using the parametric bootstrap."
   ]
  },
  {
   "cell_type": "code",
   "execution_count": 81,
   "id": "0a0a9aa6",
   "metadata": {},
   "outputs": [],
   "source": [
    "B = int(1e5)"
   ]
  },
  {
   "cell_type": "code",
   "execution_count": 82,
   "id": "c799065f",
   "metadata": {},
   "outputs": [],
   "source": [
    "T_boot = np.empty(B)"
   ]
  },
  {
   "cell_type": "code",
   "execution_count": 83,
   "id": "260ee878",
   "metadata": {},
   "outputs": [],
   "source": [
    "for i in range(B):\n",
    "    X_star = norm.rvs(loc=X_bar, scale=S, size=n)\n",
    "    mu_star = np.mean(X_star)\n",
    "    sigma_star = np.std(X_star)\n",
    "    tau_star = sigma_star * z + mu_star\n",
    "    T_boot[i] = tau_star"
   ]
  },
  {
   "cell_type": "code",
   "execution_count": 84,
   "id": "a69d46f8",
   "metadata": {},
   "outputs": [
    {
     "data": {
      "text/plain": [
       "Text(0.5, 1.0, 'Histogram of parametric bootstrap estimates of $\\\\tau$')"
      ]
     },
     "execution_count": 84,
     "metadata": {},
     "output_type": "execute_result"
    },
    {
     "data": {
      "image/png": "[encoded data removed]",
      "text/plain": [
       "<Figure size 640x480 with 1 Axes>"
      ]
     },
     "metadata": {},
     "output_type": "display_data"
    }
   ],
   "source": [
    "plt.hist(T_boot, bins=50)\n",
    "plt.title(r'Histogram of parametric bootstrap estimates of $\\tau$')"
   ]
  },
  {
   "cell_type": "code",
   "execution_count": 85,
   "id": "fcdfa622",
   "metadata": {},
   "outputs": [],
   "source": [
    "se_hat_bootstrap = np.sqrt(np.mean((T_boot - tau_hat)**2))"
   ]
  },
  {
   "cell_type": "code",
   "execution_count": 86,
   "id": "26d6060a",
   "metadata": {},
   "outputs": [
    {
     "name": "stdout",
     "output_type": "stream",
     "text": [
      "Sample mean: 1.1908\n",
      "Sample standard deviation: 1.8176\n",
      "Estimate for .95 percentile tau: 4.1804\n",
      "Estimated standard error from delta method: 0.5576\n",
      "Estimated standard error from parametric bootstrap: 0.5617\n"
     ]
    }
   ],
   "source": [
    "print('Sample mean: {:.4f}'.format(X_bar))\n",
    "print('Sample standard deviation: {:.4f}'.format(S))\n",
    "print('Estimate for .95 percentile tau: {:.4f}'.format(tau_hat))\n",
    "print('Estimated standard error from delta method: {:.4f}'.format(se_hat_delta))\n",
    "print('Estimated standard error from parametric bootstrap: {:.4f}'.format(se_hat_bootstrap))"
   ]
  },
  {
   "cell_type": "markdown",
   "id": "006d5032",
   "metadata": {},
   "source": [
    "The estimates of standard error are quite close between the two methods."
   ]
  }
 ],
 "metadata": {
  "kernelspec": {
   "display_name": "deeplearn",
   "language": "python",
   "name": "deeplearn"
  },
  "language_info": {
   "codemirror_mode": {
    "name": "ipython",
    "version": 3
   },
   "file_extension": ".py",
   "mimetype": "text/x-python",
   "name": "python",
   "nbconvert_exporter": "python",
   "pygments_lexer": "ipython3",
   "version": "3.10.0"
  }
 },
 "nbformat": 4,
 "nbformat_minor": 5
}
