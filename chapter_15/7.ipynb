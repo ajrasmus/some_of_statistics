{
 "cells": [
  {
   "cell_type": "code",
   "execution_count": 71,
   "id": "faca1ecf",
   "metadata": {},
   "outputs": [],
   "source": [
    "import numpy as np\n",
    "import pandas as pd\n",
    "import matplotlib.pyplot as plt"
   ]
  },
  {
   "cell_type": "markdown",
   "id": "0c0ab2ce",
   "metadata": {},
   "source": [
    "We will carry out the Kolmogorov-Smirnov test to see if calcium intake and drop in blood pressure are associated."
   ]
  },
  {
   "cell_type": "code",
   "execution_count": 72,
   "id": "1f58250d",
   "metadata": {},
   "outputs": [],
   "source": [
    "with open('calcium_data.txt') as f:\n",
    "    rows = [line.split() for line in f]"
   ]
  },
  {
   "cell_type": "code",
   "execution_count": 73,
   "id": "70bd6e28",
   "metadata": {},
   "outputs": [],
   "source": [
    "df = pd.DataFrame.from_records(rows, columns = ['Treatment', 'Begin', 'End', 'Decrease'])"
   ]
  },
  {
   "cell_type": "code",
   "execution_count": 74,
   "id": "8db37dac",
   "metadata": {},
   "outputs": [
    {
     "data": {
      "text/html": [
       "<div>\n",
       "<style scoped>\n",
       "    .dataframe tbody tr th:only-of-type {\n",
       "        vertical-align: middle;\n",
       "    }\n",
       "\n",
       "    .dataframe tbody tr th {\n",
       "        vertical-align: top;\n",
       "    }\n",
       "\n",
       "    .dataframe thead th {\n",
       "        text-align: right;\n",
       "    }\n",
       "</style>\n",
       "<table border=\"1\" class=\"dataframe\">\n",
       "  <thead>\n",
       "    <tr style=\"text-align: right;\">\n",
       "      <th></th>\n",
       "      <th>Treatment</th>\n",
       "      <th>Begin</th>\n",
       "      <th>End</th>\n",
       "      <th>Decrease</th>\n",
       "    </tr>\n",
       "  </thead>\n",
       "  <tbody>\n",
       "    <tr>\n",
       "      <th>0</th>\n",
       "      <td>Calcium</td>\n",
       "      <td>107</td>\n",
       "      <td>100</td>\n",
       "      <td>7</td>\n",
       "    </tr>\n",
       "    <tr>\n",
       "      <th>1</th>\n",
       "      <td>Calcium</td>\n",
       "      <td>110</td>\n",
       "      <td>114</td>\n",
       "      <td>-4</td>\n",
       "    </tr>\n",
       "    <tr>\n",
       "      <th>2</th>\n",
       "      <td>Calcium</td>\n",
       "      <td>123</td>\n",
       "      <td>105</td>\n",
       "      <td>18</td>\n",
       "    </tr>\n",
       "    <tr>\n",
       "      <th>3</th>\n",
       "      <td>Calcium</td>\n",
       "      <td>129</td>\n",
       "      <td>112</td>\n",
       "      <td>17</td>\n",
       "    </tr>\n",
       "    <tr>\n",
       "      <th>4</th>\n",
       "      <td>Calcium</td>\n",
       "      <td>112</td>\n",
       "      <td>115</td>\n",
       "      <td>-3</td>\n",
       "    </tr>\n",
       "    <tr>\n",
       "      <th>5</th>\n",
       "      <td>Calcium</td>\n",
       "      <td>111</td>\n",
       "      <td>116</td>\n",
       "      <td>-5</td>\n",
       "    </tr>\n",
       "    <tr>\n",
       "      <th>6</th>\n",
       "      <td>Calcium</td>\n",
       "      <td>107</td>\n",
       "      <td>106</td>\n",
       "      <td>1</td>\n",
       "    </tr>\n",
       "    <tr>\n",
       "      <th>7</th>\n",
       "      <td>Calcium</td>\n",
       "      <td>112</td>\n",
       "      <td>102</td>\n",
       "      <td>10</td>\n",
       "    </tr>\n",
       "    <tr>\n",
       "      <th>8</th>\n",
       "      <td>Calcium</td>\n",
       "      <td>136</td>\n",
       "      <td>125</td>\n",
       "      <td>11</td>\n",
       "    </tr>\n",
       "    <tr>\n",
       "      <th>9</th>\n",
       "      <td>Calcium</td>\n",
       "      <td>102</td>\n",
       "      <td>104</td>\n",
       "      <td>-2</td>\n",
       "    </tr>\n",
       "    <tr>\n",
       "      <th>10</th>\n",
       "      <td>Placebo</td>\n",
       "      <td>123</td>\n",
       "      <td>124</td>\n",
       "      <td>-1</td>\n",
       "    </tr>\n",
       "    <tr>\n",
       "      <th>11</th>\n",
       "      <td>Placebo</td>\n",
       "      <td>109</td>\n",
       "      <td>97</td>\n",
       "      <td>12</td>\n",
       "    </tr>\n",
       "    <tr>\n",
       "      <th>12</th>\n",
       "      <td>Placebo</td>\n",
       "      <td>112</td>\n",
       "      <td>113</td>\n",
       "      <td>-1</td>\n",
       "    </tr>\n",
       "    <tr>\n",
       "      <th>13</th>\n",
       "      <td>Placebo</td>\n",
       "      <td>102</td>\n",
       "      <td>105</td>\n",
       "      <td>-3</td>\n",
       "    </tr>\n",
       "    <tr>\n",
       "      <th>14</th>\n",
       "      <td>Placebo</td>\n",
       "      <td>98</td>\n",
       "      <td>95</td>\n",
       "      <td>3</td>\n",
       "    </tr>\n",
       "    <tr>\n",
       "      <th>15</th>\n",
       "      <td>Placebo</td>\n",
       "      <td>114</td>\n",
       "      <td>119</td>\n",
       "      <td>-5</td>\n",
       "    </tr>\n",
       "    <tr>\n",
       "      <th>16</th>\n",
       "      <td>Placebo</td>\n",
       "      <td>119</td>\n",
       "      <td>114</td>\n",
       "      <td>5</td>\n",
       "    </tr>\n",
       "    <tr>\n",
       "      <th>17</th>\n",
       "      <td>Placebo</td>\n",
       "      <td>112</td>\n",
       "      <td>114</td>\n",
       "      <td>2</td>\n",
       "    </tr>\n",
       "    <tr>\n",
       "      <th>18</th>\n",
       "      <td>Placebo</td>\n",
       "      <td>110</td>\n",
       "      <td>121</td>\n",
       "      <td>-11</td>\n",
       "    </tr>\n",
       "    <tr>\n",
       "      <th>19</th>\n",
       "      <td>Placebo</td>\n",
       "      <td>117</td>\n",
       "      <td>118</td>\n",
       "      <td>-1</td>\n",
       "    </tr>\n",
       "    <tr>\n",
       "      <th>20</th>\n",
       "      <td>Placebo</td>\n",
       "      <td>130</td>\n",
       "      <td>133</td>\n",
       "      <td>-3</td>\n",
       "    </tr>\n",
       "  </tbody>\n",
       "</table>\n",
       "</div>"
      ],
      "text/plain": [
       "   Treatment Begin  End Decrease\n",
       "0    Calcium   107  100        7\n",
       "1    Calcium   110  114       -4\n",
       "2    Calcium   123  105       18\n",
       "3    Calcium   129  112       17\n",
       "4    Calcium   112  115       -3\n",
       "5    Calcium   111  116       -5\n",
       "6    Calcium   107  106        1\n",
       "7    Calcium   112  102       10\n",
       "8    Calcium   136  125       11\n",
       "9    Calcium   102  104       -2\n",
       "10   Placebo   123  124       -1\n",
       "11   Placebo   109   97       12\n",
       "12   Placebo   112  113       -1\n",
       "13   Placebo   102  105       -3\n",
       "14   Placebo    98   95        3\n",
       "15   Placebo   114  119       -5\n",
       "16   Placebo   119  114        5\n",
       "17   Placebo   112  114        2\n",
       "18   Placebo   110  121      -11\n",
       "19   Placebo   117  118       -1\n",
       "20   Placebo   130  133       -3"
      ]
     },
     "execution_count": 74,
     "metadata": {},
     "output_type": "execute_result"
    }
   ],
   "source": [
    "df"
   ]
  },
  {
   "cell_type": "code",
   "execution_count": 75,
   "id": "bfcda5e7",
   "metadata": {},
   "outputs": [],
   "source": [
    "# The decrease in blood pressure for patients taking calcium\n",
    "Z_1 = df.loc[df.Treatment == 'Calcium'].Decrease.astype('int').to_numpy()"
   ]
  },
  {
   "cell_type": "code",
   "execution_count": 76,
   "id": "7b3fc7f9",
   "metadata": {},
   "outputs": [],
   "source": [
    "# The decrease in blood pressure for patients taking the placebo\n",
    "Z_2 = df.loc[df.Treatment == 'Placebo'].Decrease.astype('int').to_numpy()"
   ]
  },
  {
   "cell_type": "code",
   "execution_count": 77,
   "id": "950c2b9f",
   "metadata": {},
   "outputs": [],
   "source": [
    "n_1 = len(Z_1)"
   ]
  },
  {
   "cell_type": "code",
   "execution_count": 78,
   "id": "b39ec914",
   "metadata": {},
   "outputs": [],
   "source": [
    "n_2 = len(Z_2)"
   ]
  },
  {
   "cell_type": "code",
   "execution_count": 79,
   "id": "f4f5ee36",
   "metadata": {},
   "outputs": [],
   "source": [
    "# The function \\hat{F}_1 defined as in the Kolmogorov-Smirnov test\n",
    "F_1 = lambda z: np.sum(Z_1 <= z) / n_1"
   ]
  },
  {
   "cell_type": "code",
   "execution_count": 80,
   "id": "e19340cc",
   "metadata": {},
   "outputs": [],
   "source": [
    "x = np.arange(-20,20,0.1)"
   ]
  },
  {
   "cell_type": "code",
   "execution_count": 81,
   "id": "f7257abb",
   "metadata": {},
   "outputs": [],
   "source": [
    "y = np.array([F_1(z) for z in x])"
   ]
  },
  {
   "cell_type": "code",
   "execution_count": 82,
   "id": "23ee9d2d",
   "metadata": {},
   "outputs": [
    {
     "data": {
      "text/plain": [
       "Text(0.5, 1.0, 'Graph of $\\\\hat F_1$')"
      ]
     },
     "execution_count": 82,
     "metadata": {},
     "output_type": "execute_result"
    },
    {
     "data": {
      "image/png": "[encoded data removed]",
      "text/plain": [
       "<Figure size 640x480 with 1 Axes>"
      ]
     },
     "metadata": {},
     "output_type": "display_data"
    }
   ],
   "source": [
    "plt.plot(x,y)\n",
    "plt.title(r'Graph of $\\hat F_1$')"
   ]
  },
  {
   "cell_type": "code",
   "execution_count": 83,
   "id": "d7013273",
   "metadata": {},
   "outputs": [],
   "source": [
    "# The function \\hat{F}_2 defined as in the Kolmogorov-Smirnov test\n",
    "F_2 = lambda z: np.sum(Z_2 <= z) / n_2"
   ]
  },
  {
   "cell_type": "code",
   "execution_count": 84,
   "id": "d32733d5",
   "metadata": {},
   "outputs": [],
   "source": [
    "x = np.arange(-20,20,0.1)"
   ]
  },
  {
   "cell_type": "code",
   "execution_count": 85,
   "id": "f7b7e138",
   "metadata": {},
   "outputs": [],
   "source": [
    "y = np.array([F_2(z) for z in x])"
   ]
  },
  {
   "cell_type": "code",
   "execution_count": 86,
   "id": "24d6cce7",
   "metadata": {},
   "outputs": [
    {
     "data": {
      "text/plain": [
       "Text(0.5, 1.0, 'Graph of $\\\\hat F_2$')"
      ]
     },
     "execution_count": 86,
     "metadata": {},
     "output_type": "execute_result"
    },
    {
     "data": {
      "image/png": "[encoded data removed]",
      "text/plain": [
       "<Figure size 640x480 with 1 Axes>"
      ]
     },
     "metadata": {},
     "output_type": "display_data"
    }
   ],
   "source": [
    "plt.plot(x,y)\n",
    "plt.title(r'Graph of $\\hat F_2$')"
   ]
  },
  {
   "cell_type": "markdown",
   "id": "fd3eeac9",
   "metadata": {},
   "source": [
    "We want to compute the quantity $D=\\sup_x |\\hat F_1(x) - \\hat F_2(x)|$. To do this, we will graph $|\\hat F_1 - \\hat F_2|$. Since this is a step function, with values changing only at discrete inputs, we will be able to find the supremum by looking at the graph."
   ]
  },
  {
   "cell_type": "code",
   "execution_count": 87,
   "id": "c96612d2",
   "metadata": {},
   "outputs": [],
   "source": [
    "x = np.arange(-20,20,0.1)"
   ]
  },
  {
   "cell_type": "code",
   "execution_count": 88,
   "id": "0beeb6b5",
   "metadata": {},
   "outputs": [],
   "source": [
    "y = np.array([abs(F_1(z)-F_2(z)) for z in x])"
   ]
  },
  {
   "cell_type": "code",
   "execution_count": 89,
   "id": "3a2f78cd",
   "metadata": {},
   "outputs": [
    {
     "data": {
      "image/png": "[encoded data removed]",
      "text/plain": [
       "<Figure size 640x480 with 1 Axes>"
      ]
     },
     "metadata": {},
     "output_type": "display_data"
    }
   ],
   "source": [
    "plt.plot(x,y)\n",
    "plt.title(r'Graph of $|F_1 - F_2|$')\n",
    "plt.grid()"
   ]
  },
  {
   "cell_type": "code",
   "execution_count": 90,
   "id": "4b52083d",
   "metadata": {},
   "outputs": [],
   "source": [
    "# The supremum of |F_1(x)-F_2(x)| occurs at x=5.1\n",
    "D = abs(F_1(5.1) - F_2(5.1))"
   ]
  },
  {
   "cell_type": "markdown",
   "id": "dc0a258a",
   "metadata": {},
   "source": [
    "Now we will estimate a p-value of our test."
   ]
  },
  {
   "cell_type": "code",
   "execution_count": 91,
   "id": "9cbe3b0a",
   "metadata": {},
   "outputs": [],
   "source": [
    "# The CDF H(t) appearing in the Kolmogorov-Smirnov test\n",
    "def Jacobi(t):\n",
    "    if t <= 0:\n",
    "        return 0\n",
    "    else:\n",
    "        terms = np.array([(-1)**(j-1) * np.exp(-2 * j**2 * t**2) for j in range(1,10001)])\n",
    "        return 1 - 2*np.sum(terms)"
   ]
  },
  {
   "cell_type": "code",
   "execution_count": 92,
   "id": "dfc15ad6",
   "metadata": {},
   "outputs": [],
   "source": [
    "# The infimal level at which we can reject the null hypothesis that blood pressure decrease\n",
    "# and calcium intake are independent. This is the p-value for the Kolmogorov-Smirnov test.\n",
    "alpha = 1 - Jacobi(np.sqrt(n_1 * n_2 / (n_1 + n_2)) * D)"
   ]
  },
  {
   "cell_type": "code",
   "execution_count": 93,
   "id": "0b27a432",
   "metadata": {},
   "outputs": [
    {
     "name": "stdout",
     "output_type": "stream",
     "text": [
      "Computed value of D: 0.40909\n",
      "Estimated p-value of the Kolmogorov-Smirnov test: 0.34462\n"
     ]
    }
   ],
   "source": [
    "print(f'Computed value of D: {D:.5f}')\n",
    "print(f'Estimated p-value of the Kolmogorov-Smirnov test: {alpha:.5f}')"
   ]
  },
  {
   "cell_type": "markdown",
   "id": "3748d3f1",
   "metadata": {},
   "source": [
    "Since our p-value is large, we do not reject the null hypothesis that blood pressure decrease and calcium intake are independent."
   ]
  }
 ],
 "metadata": {
  "kernelspec": {
   "display_name": "deeplearn",
   "language": "python",
   "name": "deeplearn"
  },
  "language_info": {
   "codemirror_mode": {
    "name": "ipython",
    "version": 3
   },
   "file_extension": ".py",
   "mimetype": "text/x-python",
   "name": "python",
   "nbconvert_exporter": "python",
   "pygments_lexer": "ipython3",
   "version": "3.10.0"
  }
 },
 "nbformat": 4,
 "nbformat_minor": 5
}
