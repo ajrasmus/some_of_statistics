{
 "cells": [
  {
   "cell_type": "code",
   "execution_count": 1,
   "id": "ba96bc52",
   "metadata": {},
   "outputs": [],
   "source": [
    "import numpy as np\n",
    "from scipy.stats import chi2"
   ]
  },
  {
   "cell_type": "markdown",
   "id": "6ef48e20",
   "metadata": {},
   "source": [
    "First we'll carry out the likelihood ratio test."
   ]
  },
  {
   "cell_type": "code",
   "execution_count": 23,
   "id": "65122e3e",
   "metadata": {},
   "outputs": [],
   "source": [
    "# The 2x2 table for the two binary variables\n",
    "X = np.array([[14,641], [62,594]])"
   ]
  },
  {
   "cell_type": "code",
   "execution_count": 24,
   "id": "80c75762",
   "metadata": {},
   "outputs": [],
   "source": [
    "# The row sums of X\n",
    "X_rows = X.sum(axis=1).reshape(-1,1)"
   ]
  },
  {
   "cell_type": "code",
   "execution_count": 25,
   "id": "ff4b1c86",
   "metadata": {},
   "outputs": [],
   "source": [
    "# The column sums of X\n",
    "X_cols = X.sum(axis=0)"
   ]
  },
  {
   "cell_type": "code",
   "execution_count": 26,
   "id": "65f2488e",
   "metadata": {},
   "outputs": [],
   "source": [
    "# The total number of data points\n",
    "n = X.sum()"
   ]
  },
  {
   "cell_type": "code",
   "execution_count": 27,
   "id": "de9bbab1",
   "metadata": {},
   "outputs": [],
   "source": [
    "# An array whose entries sum to (half) the likelihood ratio statistic in Theorem 15.3\n",
    "arr = X * np.log((X*n)/(X_rows*X_cols))"
   ]
  },
  {
   "cell_type": "code",
   "execution_count": 28,
   "id": "f40216da",
   "metadata": {},
   "outputs": [],
   "source": [
    "# The likelihood ratio\n",
    "T = 2 * arr.sum()"
   ]
  },
  {
   "cell_type": "code",
   "execution_count": 29,
   "id": "6bf6424b",
   "metadata": {},
   "outputs": [],
   "source": [
    "dist = chi2(df=1)"
   ]
  },
  {
   "cell_type": "code",
   "execution_count": 30,
   "id": "b7c2382f",
   "metadata": {},
   "outputs": [],
   "source": [
    "# The p-value for the likelihood ratio test\n",
    "likelihood_p = 1 - dist.cdf(T)"
   ]
  },
  {
   "cell_type": "markdown",
   "id": "5055a08d",
   "metadata": {},
   "source": [
    "Now we carry out Pearson's $\\chi^2$ test."
   ]
  },
  {
   "cell_type": "code",
   "execution_count": 31,
   "id": "9bc90b06",
   "metadata": {},
   "outputs": [],
   "source": [
    "# The matrix appearing in Pearson's chi^2 test Theorem 15.4\n",
    "E = X_rows * X_cols / n"
   ]
  },
  {
   "cell_type": "code",
   "execution_count": 32,
   "id": "63297521",
   "metadata": {},
   "outputs": [],
   "source": [
    "# The statistic U appearing in Theorem 15.4\n",
    "U = ((X - E)**2 / E).sum()"
   ]
  },
  {
   "cell_type": "code",
   "execution_count": 33,
   "id": "3ced7107",
   "metadata": {},
   "outputs": [],
   "source": [
    "# The p-value for Pearson's chi^2 test.\n",
    "pearson_p = 1 - dist.cdf(U)"
   ]
  },
  {
   "cell_type": "code",
   "execution_count": 34,
   "id": "b8ad9349",
   "metadata": {},
   "outputs": [
    {
     "name": "stdout",
     "output_type": "stream",
     "text": [
      "p-value for likelihood ratio test: 0.0000000042\n",
      "p-value for Pearson chi-squared test: 0.0000000146\n"
     ]
    }
   ],
   "source": [
    "print(f'p-value for likelihood ratio test: {likelihood_p:.10f}')\n",
    "print(f'p-value for Pearson chi-squared test: {pearson_p:.10f}')"
   ]
  },
  {
   "cell_type": "markdown",
   "id": "1ab14891",
   "metadata": {},
   "source": [
    "Using either the likelihood ratio test statistic or Pearson's $\\chi^2$ statistic, we reject the null hypothesis that race of the victim (black or white) is independent of whether the perpetrator will receive the death sentence. However, we cannot conclude that race of the victim causes a death sentence, only that the random variables are associated."
   ]
  }
 ],
 "metadata": {
  "kernelspec": {
   "display_name": "deeplearn",
   "language": "python",
   "name": "deeplearn"
  },
  "language_info": {
   "codemirror_mode": {
    "name": "ipython",
    "version": 3
   },
   "file_extension": ".py",
   "mimetype": "text/x-python",
   "name": "python",
   "nbconvert_exporter": "python",
   "pygments_lexer": "ipython3",
   "version": "3.10.0"
  }
 },
 "nbformat": 4,
 "nbformat_minor": 5
}
