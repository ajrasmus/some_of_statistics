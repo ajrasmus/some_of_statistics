{
 "cells": [
  {
   "cell_type": "code",
   "execution_count": 1,
   "id": "e3bc2e30",
   "metadata": {},
   "outputs": [],
   "source": [
    "import numpy as np\n",
    "import scipy\n",
    "import pandas as pd"
   ]
  },
  {
   "cell_type": "markdown",
   "id": "98c631b0",
   "metadata": {},
   "source": [
    "Here is the dataframe."
   ]
  },
  {
   "cell_type": "code",
   "execution_count": 2,
   "id": "5401d466",
   "metadata": {},
   "outputs": [],
   "source": [
    "names = ['Placebo', 'Chlorpromazine', 'Dimenhydrinate', 'Pentobarbital (100 mg)', 'Pentobarbital (150 mg)']"
   ]
  },
  {
   "cell_type": "code",
   "execution_count": 3,
   "id": "520c1c33",
   "metadata": {},
   "outputs": [],
   "source": [
    "df = pd.DataFrame({\n",
    "    'Name': names,\n",
    "    'Number of Patients': [80, 75, 85, 67, 85],\n",
    "    'Incidence of Nausea': [45, 26, 52, 35, 37]\n",
    "})"
   ]
  },
  {
   "cell_type": "code",
   "execution_count": 4,
   "id": "e225b46a",
   "metadata": {},
   "outputs": [
    {
     "data": {
      "text/html": [
       "<div>\n",
       "<style scoped>\n",
       "    .dataframe tbody tr th:only-of-type {\n",
       "        vertical-align: middle;\n",
       "    }\n",
       "\n",
       "    .dataframe tbody tr th {\n",
       "        vertical-align: top;\n",
       "    }\n",
       "\n",
       "    .dataframe thead th {\n",
       "        text-align: right;\n",
       "    }\n",
       "</style>\n",
       "<table border=\"1\" class=\"dataframe\">\n",
       "  <thead>\n",
       "    <tr style=\"text-align: right;\">\n",
       "      <th></th>\n",
       "      <th>Name</th>\n",
       "      <th>Number of Patients</th>\n",
       "      <th>Incidence of Nausea</th>\n",
       "    </tr>\n",
       "  </thead>\n",
       "  <tbody>\n",
       "    <tr>\n",
       "      <th>0</th>\n",
       "      <td>Placebo</td>\n",
       "      <td>80</td>\n",
       "      <td>45</td>\n",
       "    </tr>\n",
       "    <tr>\n",
       "      <th>1</th>\n",
       "      <td>Chlorpromazine</td>\n",
       "      <td>75</td>\n",
       "      <td>26</td>\n",
       "    </tr>\n",
       "    <tr>\n",
       "      <th>2</th>\n",
       "      <td>Dimenhydrinate</td>\n",
       "      <td>85</td>\n",
       "      <td>52</td>\n",
       "    </tr>\n",
       "    <tr>\n",
       "      <th>3</th>\n",
       "      <td>Pentobarbital (100 mg)</td>\n",
       "      <td>67</td>\n",
       "      <td>35</td>\n",
       "    </tr>\n",
       "    <tr>\n",
       "      <th>4</th>\n",
       "      <td>Pentobarbital (150 mg)</td>\n",
       "      <td>85</td>\n",
       "      <td>37</td>\n",
       "    </tr>\n",
       "  </tbody>\n",
       "</table>\n",
       "</div>"
      ],
      "text/plain": [
       "                     Name  Number of Patients  Incidence of Nausea\n",
       "0                 Placebo                  80                   45\n",
       "1          Chlorpromazine                  75                   26\n",
       "2          Dimenhydrinate                  85                   52\n",
       "3  Pentobarbital (100 mg)                  67                   35\n",
       "4  Pentobarbital (150 mg)                  85                   37"
      ]
     },
     "metadata": {},
     "output_type": "display_data"
    }
   ],
   "source": [
    "display(df)"
   ]
  },
  {
   "cell_type": "markdown",
   "id": "87d0e3b6",
   "metadata": {},
   "source": [
    "Part (a)\n",
    "--"
   ]
  },
  {
   "cell_type": "markdown",
   "id": "f5cf9d36",
   "metadata": {},
   "source": [
    "We'll test each drug against the placebo, using the Wald test. In a fixed trial, we have random variables $X_1,\\ldots,X_n$ where $X_i=1$ if patient $i$ had nausea and $X_i=0$ otherwise. We assume the $X_i\\sim \\operatorname{Bern}(p)$ for a common parameter $p$ and that the $X_i$ are independent. We measure the mean $\\hat{p}$ of the $X_i$ in the study. The standard error of $\\hat{p}$ is estimated as $\\sqrt{\\hat{p}(1-\\hat{p})/n}$ where $n$ is the number of patients in the study. We also measure $\\hat{p}_0$, the estimated mean for the placebo and the difference $\\hat{\\theta} = \\hat{p} - \\hat{p}_0$. The standard error of $\\hat{\\theta}$ is estimated as the square root of the sum of squares of standard errors for $\\hat{p}$ and $\\hat{p}_0$."
   ]
  },
  {
   "cell_type": "code",
   "execution_count": 5,
   "id": "baa2a504",
   "metadata": {},
   "outputs": [],
   "source": [
    "n_0 = df.loc[0, 'Number of Patients']\n",
    "p_0 = df.loc[0, 'Incidence of Nausea'] / n_0\n",
    "se_hat_0 = np.sqrt(p_0*(1-p_0)/n_0)"
   ]
  },
  {
   "cell_type": "code",
   "execution_count": 6,
   "id": "1464af1d",
   "metadata": {},
   "outputs": [
    {
     "name": "stdout",
     "output_type": "stream",
     "text": [
      "Estimated mean for placebo: 0.56250\n"
     ]
    }
   ],
   "source": [
    "print('Estimated mean for placebo: {0:.5f}'.format(p_0))"
   ]
  },
  {
   "cell_type": "code",
   "execution_count": 7,
   "id": "11614255",
   "metadata": {},
   "outputs": [],
   "source": [
    "from scipy.stats import norm\n",
    "p_vals = np.zeros(4)"
   ]
  },
  {
   "cell_type": "code",
   "execution_count": 8,
   "id": "415fc27a",
   "metadata": {},
   "outputs": [
    {
     "name": "stdout",
     "output_type": "stream",
     "text": [
      "Chlorpromazine\n",
      "Estimated mean for Chlorpromazine: 0.34667\n",
      "Estimated difference in mean from placebo: -0.21583\n",
      "Observed Wald test statistic: -2.76436\n",
      "p-value: 0.00570\n",
      "\n",
      "Dimenhydrinate\n",
      "Estimated mean for Dimenhydrinate: 0.61176\n",
      "Estimated difference in mean from placebo: 0.04926\n",
      "Observed Wald test statistic: 0.64299\n",
      "p-value: 0.52023\n",
      "\n",
      "Pentobarbital (100 mg)\n",
      "Estimated mean for Pentobarbital (100 mg): 0.52239\n",
      "Estimated difference in mean from placebo: -0.04011\n",
      "Observed Wald test statistic: -0.48643\n",
      "p-value: 0.62666\n",
      "\n",
      "Pentobarbital (150 mg)\n",
      "Estimated mean for Pentobarbital (150 mg): 0.43529\n",
      "Estimated difference in mean from placebo: -0.12721\n",
      "Observed Wald test statistic: -1.64661\n",
      "p-value: 0.09964\n",
      "\n"
     ]
    }
   ],
   "source": [
    "for i, name in enumerate(names[1:]):\n",
    "    print(name)\n",
    "    n = df.loc[i+1, 'Number of Patients']\n",
    "    p = df.loc[i+1, 'Incidence of Nausea'] / n\n",
    "    print('Estimated mean for {0}: {1:.5f}'.format(name, p))\n",
    "    theta_hat = p - p_0\n",
    "    print('Estimated difference in mean from placebo: {0:.5f}'.format(theta_hat))\n",
    "    se_hat_1 = np.sqrt(p*(1-p)/n)\n",
    "    se_hat = np.sqrt(se_hat_1**2 + se_hat_0**2)\n",
    "    W = theta_hat / se_hat\n",
    "    print('Observed Wald test statistic: {0:.5f}'.format(W))\n",
    "    p_val = 2*norm.cdf(-abs(W))\n",
    "    print('p-value: {0:.5f}'.format(p_val))\n",
    "    print('')\n",
    "    p_vals[i] = p_val"
   ]
  },
  {
   "cell_type": "markdown",
   "id": "59c764ca",
   "metadata": {},
   "source": [
    "For Chlorpromazine, its p-value is less than 0.05. So we reject the null hypothesis that the rate of nausea is the same under Chlorpromazine and the placebo. For all the other drugs we fail to reject the null hypothesis."
   ]
  },
  {
   "cell_type": "markdown",
   "id": "3baad5f1",
   "metadata": {},
   "source": [
    "Part (b)\n",
    "--"
   ]
  },
  {
   "cell_type": "markdown",
   "id": "eea6a520",
   "metadata": {},
   "source": [
    "Now we adjust our thresholds using the Bonferroni method and the FDR method. First the Bonferroni method."
   ]
  },
  {
   "cell_type": "code",
   "execution_count": 16,
   "id": "e99831ea",
   "metadata": {},
   "outputs": [
    {
     "name": "stdout",
     "output_type": "stream",
     "text": [
      "Chlorpromazine\n",
      "p-value: 0.00570\n",
      "Bonferroni method threshold: 0.01250\n",
      "\n",
      "Dimenhydrinate\n",
      "p-value: 0.52023\n",
      "Bonferroni method threshold: 0.01250\n",
      "\n",
      "Pentobarbital (100 mg)\n",
      "p-value: 0.62666\n",
      "Bonferroni method threshold: 0.01250\n",
      "\n",
      "Pentobarbital (150 mg)\n",
      "p-value: 0.09964\n",
      "Bonferroni method threshold: 0.01250\n",
      "\n"
     ]
    }
   ],
   "source": [
    "for i, name in enumerate(names[1:]):\n",
    "    print(name)\n",
    "    print('p-value: {0:.5f}'.format(p_vals[i]))\n",
    "    print('Bonferroni method threshold: {0:.5f}'.format(0.05/4))\n",
    "    print('')"
   ]
  },
  {
   "cell_type": "markdown",
   "id": "ec58a6ce",
   "metadata": {},
   "source": [
    "The only p-value smaller than the threshold specified by the Bonferroni method is for Chlorpromazine. So we reject the null hypothesis for Chlorpromazine and fail to reject it for all the other drugs."
   ]
  },
  {
   "cell_type": "markdown",
   "id": "4cbe09be",
   "metadata": {},
   "source": [
    "Now we try the FDR method. We follow the steps in the box on page 167. The array \"ls\" below is the array of numbers $\\ell_i$ defined on page 167. The numbers \"R\" and \"T\" are defined as on page 167."
   ]
  },
  {
   "cell_type": "code",
   "execution_count": 17,
   "id": "3d8fdac9",
   "metadata": {},
   "outputs": [],
   "source": [
    "sorted_p_vals = sorted(p_vals)"
   ]
  },
  {
   "cell_type": "code",
   "execution_count": 18,
   "id": "31414be7",
   "metadata": {},
   "outputs": [],
   "source": [
    "ls = np.array([i * 0.05 / 4 for i in range(1,5)])"
   ]
  },
  {
   "cell_type": "code",
   "execution_count": 19,
   "id": "829fc73a",
   "metadata": {},
   "outputs": [
    {
     "data": {
      "text/plain": [
       "array([0.0125, 0.025 , 0.0375, 0.05  ])"
      ]
     },
     "execution_count": 19,
     "metadata": {},
     "output_type": "execute_result"
    }
   ],
   "source": [
    "ls"
   ]
  },
  {
   "cell_type": "code",
   "execution_count": 20,
   "id": "06744b85",
   "metadata": {},
   "outputs": [],
   "source": [
    "R = np.max(np.flatnonzero(sorted_p_vals < ls))"
   ]
  },
  {
   "cell_type": "code",
   "execution_count": 21,
   "id": "849c3adc",
   "metadata": {},
   "outputs": [],
   "source": [
    "T = sorted_p_vals[R]"
   ]
  },
  {
   "cell_type": "code",
   "execution_count": 22,
   "id": "a9fdbca7",
   "metadata": {},
   "outputs": [
    {
     "name": "stdout",
     "output_type": "stream",
     "text": [
      "Value of R: 0\n",
      "Value of BH rejection threshold T: 0.00570\n"
     ]
    }
   ],
   "source": [
    "print('Value of R: {}'.format(R))\n",
    "print('Value of BH rejection threshold T: {0:.5f}'.format(T))"
   ]
  },
  {
   "cell_type": "code",
   "execution_count": 23,
   "id": "3ac5a674",
   "metadata": {},
   "outputs": [
    {
     "name": "stdout",
     "output_type": "stream",
     "text": [
      "Chlorpromazine\n",
      "p-value: 0.00570\n",
      "FDR method threshold: 0.00570\n",
      "\n",
      "Dimenhydrinate\n",
      "p-value: 0.52023\n",
      "FDR method threshold: 0.00570\n",
      "\n",
      "Pentobarbital (100 mg)\n",
      "p-value: 0.62666\n",
      "FDR method threshold: 0.00570\n",
      "\n",
      "Pentobarbital (150 mg)\n",
      "p-value: 0.09964\n",
      "FDR method threshold: 0.00570\n",
      "\n"
     ]
    }
   ],
   "source": [
    "for i, name in enumerate(names[1:]):\n",
    "    print(name)\n",
    "    print('p-value: {0:.5f}'.format(p_vals[i]))\n",
    "    print('FDR method threshold: {0:.5f}'.format(T))\n",
    "    print('')"
   ]
  },
  {
   "cell_type": "markdown",
   "id": "171e12d2",
   "metadata": {},
   "source": [
    "Thus we reject the null hypothesis that the rate of nausea is the same as the rate under placebo for the Chlorpromazine trial and for none of the other drugs."
   ]
  }
 ],
 "metadata": {
  "kernelspec": {
   "display_name": "cs224n-cpu",
   "language": "python",
   "name": "cs224n-cpu"
  },
  "language_info": {
   "codemirror_mode": {
    "name": "ipython",
    "version": 3
   },
   "file_extension": ".py",
   "mimetype": "text/x-python",
   "name": "python",
   "nbconvert_exporter": "python",
   "pygments_lexer": "ipython3",
   "version": "3.10.0"
  }
 },
 "nbformat": 4,
 "nbformat_minor": 5
}
