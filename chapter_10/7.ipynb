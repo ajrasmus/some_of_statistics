{
 "cells": [
  {
   "cell_type": "code",
   "execution_count": 42,
   "id": "a5aceba6",
   "metadata": {},
   "outputs": [],
   "source": [
    "import numpy as np\n",
    "import matplotlib.pyplot as plt\n",
    "import scipy"
   ]
  },
  {
   "cell_type": "code",
   "execution_count": 43,
   "id": "4a39f2fe",
   "metadata": {},
   "outputs": [],
   "source": [
    "np.random.seed(42)"
   ]
  },
  {
   "cell_type": "markdown",
   "id": "1be5c1b6",
   "metadata": {},
   "source": [
    "Part (a)\n",
    "---"
   ]
  },
  {
   "cell_type": "markdown",
   "id": "0f234e29",
   "metadata": {},
   "source": [
    "We perform a Wald test for the equality of the means $\\mu_1$ and $\\mu_2$. The null hypothesis is $H_0:\\mu_1=\\mu_2$. The difference $\\theta=\\mu_1-\\mu_2$. So the null hypothesis is $H_0:\\theta=0$. We compute the plug-in estimator $\\hat{\\theta}$ of the difference $\\theta$."
   ]
  },
  {
   "cell_type": "code",
   "execution_count": 44,
   "id": "88ad231f",
   "metadata": {},
   "outputs": [],
   "source": [
    "Twain = np.array([.225, .262, .217, .240, .230, .229, .235, .217])"
   ]
  },
  {
   "cell_type": "code",
   "execution_count": 45,
   "id": "cbecca52",
   "metadata": {},
   "outputs": [],
   "source": [
    "Snodgrass = np.array([.209, .205, .196, .210, .202, .207, .224, .223, .220, .201])"
   ]
  },
  {
   "cell_type": "code",
   "execution_count": 46,
   "id": "6da13ba6",
   "metadata": {},
   "outputs": [],
   "source": [
    "m = len(Twain)"
   ]
  },
  {
   "cell_type": "code",
   "execution_count": 47,
   "id": "fc20168b",
   "metadata": {},
   "outputs": [],
   "source": [
    "n = len(Snodgrass)"
   ]
  },
  {
   "cell_type": "code",
   "execution_count": 48,
   "id": "aa4dd84b",
   "metadata": {},
   "outputs": [],
   "source": [
    "mu_1_hat = np.mean(Twain)"
   ]
  },
  {
   "cell_type": "code",
   "execution_count": 49,
   "id": "1d08d38c",
   "metadata": {},
   "outputs": [],
   "source": [
    "mu_2_hat = np.mean(Snodgrass)"
   ]
  },
  {
   "cell_type": "code",
   "execution_count": 50,
   "id": "f438b8ed",
   "metadata": {},
   "outputs": [],
   "source": [
    "theta_hat = mu_1_hat - mu_2_hat"
   ]
  },
  {
   "cell_type": "code",
   "execution_count": 51,
   "id": "fe19413b",
   "metadata": {},
   "outputs": [
    {
     "name": "stdout",
     "output_type": "stream",
     "text": [
      "Mean proportion of 3-letter words in Twain essays: 0.23187\n",
      "Mean proportion of 3-letter words in Snodgrass essays: 0.20970\n",
      "Plug-in estimator for difference: 0.02218\n"
     ]
    }
   ],
   "source": [
    "print('Mean proportion of 3-letter words in Twain essays: {0:.5f}'.format(mu_1_hat))\n",
    "print('Mean proportion of 3-letter words in Snodgrass essays: {0:.5f}'.format(mu_2_hat))\n",
    "print('Plug-in estimator for difference: {0:.5f}'.format(theta_hat))"
   ]
  },
  {
   "cell_type": "markdown",
   "id": "59a102c8",
   "metadata": {},
   "source": [
    "We estimate the standard error of $\\hat{\\theta}$ by $\\widehat{\\text{se}}=\\sqrt{\\widehat{\\text{se}}(\\mu_1)^2 + \\widehat{\\text{se}}(\\mu_2)^2}$"
   ]
  },
  {
   "cell_type": "code",
   "execution_count": 52,
   "id": "4f1a84ee",
   "metadata": {},
   "outputs": [],
   "source": [
    "se_1_hat = np.std(Twain) / np.sqrt(m)"
   ]
  },
  {
   "cell_type": "code",
   "execution_count": 53,
   "id": "6119b8b0",
   "metadata": {},
   "outputs": [],
   "source": [
    "se_2_hat = np.std(Snodgrass) / np.sqrt(n)"
   ]
  },
  {
   "cell_type": "code",
   "execution_count": 54,
   "id": "830aa143",
   "metadata": {},
   "outputs": [],
   "source": [
    "se_hat = np.sqrt(se_1_hat**2 + se_2_hat**2)"
   ]
  },
  {
   "cell_type": "code",
   "execution_count": 55,
   "id": "b391ca8b",
   "metadata": {},
   "outputs": [],
   "source": [
    "w = theta_hat / se_hat"
   ]
  },
  {
   "cell_type": "code",
   "execution_count": 56,
   "id": "4654cd31",
   "metadata": {},
   "outputs": [
    {
     "name": "stdout",
     "output_type": "stream",
     "text": [
      "Estimated standard error of mean proportions from Twain: 0.00482\n",
      "Estimated standard error of mean proportions from Snodgrass: 0.00290\n",
      "Estimated standard error of difference: 0.00562\n",
      "Observed Wald statistic: 3.94462\n"
     ]
    }
   ],
   "source": [
    "print('Estimated standard error of mean proportions from Twain: {0:.5f}'.format(se_1_hat))\n",
    "print('Estimated standard error of mean proportions from Snodgrass: {0:.5f}'.format(se_2_hat))\n",
    "print('Estimated standard error of difference: {0:.5f}'.format(se_hat))\n",
    "print('Observed Wald statistic: {0:.5f}'.format(w))"
   ]
  },
  {
   "cell_type": "markdown",
   "id": "317880e8",
   "metadata": {},
   "source": [
    "By Theorem 10.13 the p-value for the Wald test is $2\\Phi(-w)$. A 95% confidence interval for $\\theta$ is $(\\hat{\\theta} - 2\\widehat{\\text{se}}, \\hat{\\theta} + 2\\widehat{\\text{se}})$."
   ]
  },
  {
   "cell_type": "code",
   "execution_count": 57,
   "id": "22dbc7b4",
   "metadata": {},
   "outputs": [],
   "source": [
    "from scipy.stats import norm"
   ]
  },
  {
   "cell_type": "code",
   "execution_count": 58,
   "id": "45f32538",
   "metadata": {},
   "outputs": [],
   "source": [
    "wald_p_val = 2*norm.cdf(-w)"
   ]
  },
  {
   "cell_type": "code",
   "execution_count": 59,
   "id": "258e98a7",
   "metadata": {},
   "outputs": [
    {
     "name": "stdout",
     "output_type": "stream",
     "text": [
      "Estimated p-value: 0.00008\n",
      "Estimated 95% confidence interval: (0.01093, 0.03342)\n"
     ]
    }
   ],
   "source": [
    "print('Estimated p-value: {0:.5f}'.format(wald_p_val))\n",
    "print('Estimated 95% confidence interval: ({0:.5f}, {1:.5f})'.format(\n",
    "    theta_hat - 2*se_hat, theta_hat + 2*se_hat))"
   ]
  },
  {
   "cell_type": "markdown",
   "id": "8a08e5d8",
   "metadata": {},
   "source": [
    "Thus, using a size threshold of 0.05, we do reject the null hypothesis that $\\mu_1 - \\mu_2 = \\theta = 0$ using the Wald test. I.e. we conclude that the mean proportions of three letter words are different for the two authors."
   ]
  },
  {
   "cell_type": "markdown",
   "id": "57d1e688",
   "metadata": {},
   "source": [
    "Part (b)\n",
    "--"
   ]
  },
  {
   "cell_type": "markdown",
   "id": "d9346dc2",
   "metadata": {},
   "source": [
    "Now we use the permutation test to test the null hypothesis that $\\mu_1-\\mu_2=\\theta=0$. Thus, we will consider the tuple $(X_1,\\ldots,X_m,Y_1,\\ldots,Y_n)$ where $X_i$ are the proportions of 3-letter words in the Twain essays and $Y_i$ are the proportions of 3-letter words in the Snodgrass essays. We will consider $t_{\\text{obs}} = \\overline{X_m} - \\overline{Y_n}$. We will then permute $(X_1,\\ldots,X_m,Y_1,\\ldots,Y_n)$ randomly to form $(X_1',\\ldots,X_m',Y_1',\\ldots,Y_n')$ some large number $B$ of times. We will compute the difference $\\overline{X_m'} - \\overline{Y_n'}$ of means. The p-value will be estimated as the mean of $I(\\overline{X_m'} - \\overline{Y_n'} > t_{\\text{obs}})$ over all these permutations."
   ]
  },
  {
   "cell_type": "code",
   "execution_count": 60,
   "id": "43a46955",
   "metadata": {},
   "outputs": [],
   "source": [
    "t_obs = theta_hat"
   ]
  },
  {
   "cell_type": "code",
   "execution_count": 61,
   "id": "9b5e6834",
   "metadata": {},
   "outputs": [],
   "source": [
    "B = int(1e6)"
   ]
  },
  {
   "cell_type": "code",
   "execution_count": 62,
   "id": "0464519e",
   "metadata": {},
   "outputs": [],
   "source": [
    "T_boot = np.empty(B)"
   ]
  },
  {
   "cell_type": "code",
   "execution_count": 63,
   "id": "97f69df1",
   "metadata": {},
   "outputs": [],
   "source": [
    "full_ds = np.concatenate((Twain, Snodgrass))"
   ]
  },
  {
   "cell_type": "code",
   "execution_count": 64,
   "id": "65a57526",
   "metadata": {},
   "outputs": [],
   "source": [
    "for i in range(B):\n",
    "    perm = np.random.permutation(full_ds)\n",
    "    mu = np.mean(perm[:m])\n",
    "    nu = np.mean(perm[m:])\n",
    "    T_boot[i] = 1 if nu-mu > t_obs else 0"
   ]
  },
  {
   "cell_type": "code",
   "execution_count": 65,
   "id": "52f58647",
   "metadata": {},
   "outputs": [],
   "source": [
    "perm_p_val = np.mean(T_boot)"
   ]
  },
  {
   "cell_type": "code",
   "execution_count": 66,
   "id": "5f0d489d",
   "metadata": {},
   "outputs": [
    {
     "name": "stdout",
     "output_type": "stream",
     "text": [
      "p-value from permutation test: 0.000260\n"
     ]
    }
   ],
   "source": [
    "print('p-value from permutation test: {0:.6f}'.format(perm_p_val))"
   ]
  },
  {
   "cell_type": "markdown",
   "id": "6380d185",
   "metadata": {},
   "source": [
    "Since the estimated p-value $0.00026 < 0.05$, using the permutation test, we reject the null hypothesis that $\\mu_1=\\mu_2$. I.e. we conclude that the mean proportions of three letter words are different for the two authors."
   ]
  }
 ],
 "metadata": {
  "kernelspec": {
   "display_name": "cs224n-cpu",
   "language": "python",
   "name": "cs224n-cpu"
  },
  "language_info": {
   "codemirror_mode": {
    "name": "ipython",
    "version": 3
   },
   "file_extension": ".py",
   "mimetype": "text/x-python",
   "name": "python",
   "nbconvert_exporter": "python",
   "pygments_lexer": "ipython3",
   "version": "3.10.0"
  }
 },
 "nbformat": 4,
 "nbformat_minor": 5
}
