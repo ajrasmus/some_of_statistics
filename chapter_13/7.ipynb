{
 "cells": [
  {
   "cell_type": "code",
   "execution_count": 149,
   "id": "9b854494",
   "metadata": {},
   "outputs": [],
   "source": [
    "import pandas as pd\n",
    "import numpy as np\n",
    "import matplotlib.pyplot as plt\n",
    "from numpy.linalg import inv\n",
    "from itertools import chain, combinations"
   ]
  },
  {
   "cell_type": "markdown",
   "id": "d61588a4",
   "metadata": {},
   "source": [
    "First let's process the data."
   ]
  },
  {
   "cell_type": "code",
   "execution_count": 150,
   "id": "67608d8e",
   "metadata": {},
   "outputs": [],
   "source": [
    "with open('car_data.txt') as f:\n",
    "    rows = [line.split() for line in f]"
   ]
  },
  {
   "cell_type": "code",
   "execution_count": 151,
   "id": "5e87b754",
   "metadata": {},
   "outputs": [],
   "source": [
    "df = pd.DataFrame.from_records(rows, columns = ['make/model', 'vol', 'hp', 'mpg', 'sp', 'wt'])"
   ]
  },
  {
   "cell_type": "code",
   "execution_count": 152,
   "id": "5c7dcbcf",
   "metadata": {},
   "outputs": [],
   "source": [
    "df['vol'] = df['vol'].astype('int')"
   ]
  },
  {
   "cell_type": "code",
   "execution_count": 153,
   "id": "8549029b",
   "metadata": {},
   "outputs": [],
   "source": [
    "df['hp'] = df['hp'].astype('int')"
   ]
  },
  {
   "cell_type": "code",
   "execution_count": 154,
   "id": "aac0a8e3",
   "metadata": {},
   "outputs": [],
   "source": [
    "df['mpg'] = df['mpg'].astype('float')"
   ]
  },
  {
   "cell_type": "code",
   "execution_count": 155,
   "id": "c45b0113",
   "metadata": {},
   "outputs": [],
   "source": [
    "df['sp'] = df['sp'].astype('int')"
   ]
  },
  {
   "cell_type": "code",
   "execution_count": 156,
   "id": "a2a283c2",
   "metadata": {},
   "outputs": [],
   "source": [
    "df['wt'] = df['wt'].astype('float')"
   ]
  },
  {
   "cell_type": "code",
   "execution_count": 157,
   "id": "644050d5",
   "metadata": {},
   "outputs": [
    {
     "data": {
      "text/html": [
       "<div>\n",
       "<style scoped>\n",
       "    .dataframe tbody tr th:only-of-type {\n",
       "        vertical-align: middle;\n",
       "    }\n",
       "\n",
       "    .dataframe tbody tr th {\n",
       "        vertical-align: top;\n",
       "    }\n",
       "\n",
       "    .dataframe thead th {\n",
       "        text-align: right;\n",
       "    }\n",
       "</style>\n",
       "<table border=\"1\" class=\"dataframe\">\n",
       "  <thead>\n",
       "    <tr style=\"text-align: right;\">\n",
       "      <th></th>\n",
       "      <th>make/model</th>\n",
       "      <th>vol</th>\n",
       "      <th>hp</th>\n",
       "      <th>mpg</th>\n",
       "      <th>sp</th>\n",
       "      <th>wt</th>\n",
       "    </tr>\n",
       "  </thead>\n",
       "  <tbody>\n",
       "    <tr>\n",
       "      <th>0</th>\n",
       "      <td>GM/GeoMetroXF1</td>\n",
       "      <td>89</td>\n",
       "      <td>49</td>\n",
       "      <td>65.4</td>\n",
       "      <td>96</td>\n",
       "      <td>17.5</td>\n",
       "    </tr>\n",
       "    <tr>\n",
       "      <th>1</th>\n",
       "      <td>GM/GeoMetro</td>\n",
       "      <td>92</td>\n",
       "      <td>55</td>\n",
       "      <td>56.0</td>\n",
       "      <td>97</td>\n",
       "      <td>20.0</td>\n",
       "    </tr>\n",
       "    <tr>\n",
       "      <th>2</th>\n",
       "      <td>GM/GeoMetroLSI</td>\n",
       "      <td>92</td>\n",
       "      <td>55</td>\n",
       "      <td>55.9</td>\n",
       "      <td>97</td>\n",
       "      <td>20.0</td>\n",
       "    </tr>\n",
       "    <tr>\n",
       "      <th>3</th>\n",
       "      <td>SuzukiSwift</td>\n",
       "      <td>92</td>\n",
       "      <td>70</td>\n",
       "      <td>49.0</td>\n",
       "      <td>105</td>\n",
       "      <td>20.0</td>\n",
       "    </tr>\n",
       "    <tr>\n",
       "      <th>4</th>\n",
       "      <td>DaihatsuCharade</td>\n",
       "      <td>92</td>\n",
       "      <td>53</td>\n",
       "      <td>46.5</td>\n",
       "      <td>96</td>\n",
       "      <td>20.0</td>\n",
       "    </tr>\n",
       "    <tr>\n",
       "      <th>...</th>\n",
       "      <td>...</td>\n",
       "      <td>...</td>\n",
       "      <td>...</td>\n",
       "      <td>...</td>\n",
       "      <td>...</td>\n",
       "      <td>...</td>\n",
       "    </tr>\n",
       "    <tr>\n",
       "      <th>77</th>\n",
       "      <td>Mercedes500SL</td>\n",
       "      <td>50</td>\n",
       "      <td>322</td>\n",
       "      <td>18.1</td>\n",
       "      <td>165</td>\n",
       "      <td>45.0</td>\n",
       "    </tr>\n",
       "    <tr>\n",
       "      <th>78</th>\n",
       "      <td>Mercedes560SEL</td>\n",
       "      <td>115</td>\n",
       "      <td>238</td>\n",
       "      <td>17.2</td>\n",
       "      <td>140</td>\n",
       "      <td>45.0</td>\n",
       "    </tr>\n",
       "    <tr>\n",
       "      <th>79</th>\n",
       "      <td>JaguarXJSConvert</td>\n",
       "      <td>50</td>\n",
       "      <td>263</td>\n",
       "      <td>17.0</td>\n",
       "      <td>147</td>\n",
       "      <td>45.0</td>\n",
       "    </tr>\n",
       "    <tr>\n",
       "      <th>80</th>\n",
       "      <td>BMW750IL</td>\n",
       "      <td>119</td>\n",
       "      <td>295</td>\n",
       "      <td>16.7</td>\n",
       "      <td>157</td>\n",
       "      <td>45.0</td>\n",
       "    </tr>\n",
       "    <tr>\n",
       "      <th>81</th>\n",
       "      <td>Rolls-RoyceVarious</td>\n",
       "      <td>107</td>\n",
       "      <td>236</td>\n",
       "      <td>13.2</td>\n",
       "      <td>130</td>\n",
       "      <td>55.0</td>\n",
       "    </tr>\n",
       "  </tbody>\n",
       "</table>\n",
       "<p>82 rows × 6 columns</p>\n",
       "</div>"
      ],
      "text/plain": [
       "            make/model  vol   hp   mpg   sp    wt\n",
       "0       GM/GeoMetroXF1   89   49  65.4   96  17.5\n",
       "1          GM/GeoMetro   92   55  56.0   97  20.0\n",
       "2       GM/GeoMetroLSI   92   55  55.9   97  20.0\n",
       "3          SuzukiSwift   92   70  49.0  105  20.0\n",
       "4      DaihatsuCharade   92   53  46.5   96  20.0\n",
       "..                 ...  ...  ...   ...  ...   ...\n",
       "77       Mercedes500SL   50  322  18.1  165  45.0\n",
       "78      Mercedes560SEL  115  238  17.2  140  45.0\n",
       "79    JaguarXJSConvert   50  263  17.0  147  45.0\n",
       "80            BMW750IL  119  295  16.7  157  45.0\n",
       "81  Rolls-RoyceVarious  107  236  13.2  130  55.0\n",
       "\n",
       "[82 rows x 6 columns]"
      ]
     },
     "execution_count": 157,
     "metadata": {},
     "output_type": "execute_result"
    }
   ],
   "source": [
    "df"
   ]
  },
  {
   "cell_type": "markdown",
   "id": "f7b85bd0",
   "metadata": {},
   "source": [
    "# Part (a)"
   ]
  },
  {
   "cell_type": "code",
   "execution_count": 158,
   "id": "15871e1a",
   "metadata": {},
   "outputs": [],
   "source": [
    "Y = df['mpg'].to_numpy().reshape(-1,1)"
   ]
  },
  {
   "cell_type": "code",
   "execution_count": 159,
   "id": "67a43c5a",
   "metadata": {},
   "outputs": [],
   "source": [
    "X = df[['vol', 'hp', 'sp', 'wt']].to_numpy()"
   ]
  },
  {
   "cell_type": "code",
   "execution_count": 160,
   "id": "3fe4dad3",
   "metadata": {},
   "outputs": [],
   "source": [
    "X = np.concatenate((np.ones((len(X), 1)), X), axis=1)"
   ]
  },
  {
   "cell_type": "code",
   "execution_count": 161,
   "id": "dde2d801",
   "metadata": {},
   "outputs": [],
   "source": [
    "beta = inv(X.T @ X) @ X.T @ Y"
   ]
  },
  {
   "cell_type": "code",
   "execution_count": 162,
   "id": "f3d608ad",
   "metadata": {},
   "outputs": [],
   "source": [
    "Y_hat = X @ beta"
   ]
  },
  {
   "cell_type": "code",
   "execution_count": 163,
   "id": "31482faa",
   "metadata": {},
   "outputs": [],
   "source": [
    "# The array of residuals.\n",
    "res = Y - Y_hat"
   ]
  },
  {
   "cell_type": "code",
   "execution_count": 164,
   "id": "4917779c",
   "metadata": {},
   "outputs": [],
   "source": [
    "mse = (res**2).mean()"
   ]
  },
  {
   "cell_type": "code",
   "execution_count": 165,
   "id": "dff4ab75",
   "metadata": {},
   "outputs": [],
   "source": [
    "sigma = np.sqrt((res**2).sum() / (len(res) - len(beta)))"
   ]
  },
  {
   "cell_type": "code",
   "execution_count": 166,
   "id": "7e47b2b4",
   "metadata": {},
   "outputs": [],
   "source": [
    "to_print = map(str, beta.flatten().tolist())"
   ]
  },
  {
   "cell_type": "code",
   "execution_count": 167,
   "id": "fda355d1",
   "metadata": {},
   "outputs": [
    {
     "name": "stdout",
     "output_type": "stream",
     "text": [
      "beta: 192.43775332063407 -0.015645011317609703 0.39221231455809424 -1.2948184772442466 -1.8598037272929624\n",
      "Mean squared error: 12.5290\n"
     ]
    }
   ],
   "source": [
    "print('beta: ' + ' '.join(to_print))\n",
    "print(f'Mean squared error: {mse:.4f}')"
   ]
  },
  {
   "cell_type": "markdown",
   "id": "09307a17",
   "metadata": {},
   "source": [
    "We see that 'sp' (top speed) and 'wt' (weight) are strongly negatively correlated with 'mpg.' Additionally, the mean squared error is much less than we saw when fitting a simple linear regression from 'hp.'"
   ]
  },
  {
   "cell_type": "markdown",
   "id": "22151b19",
   "metadata": {},
   "source": [
    "# Part (b)"
   ]
  },
  {
   "cell_type": "code",
   "execution_count": 168,
   "id": "930b1730",
   "metadata": {},
   "outputs": [],
   "source": [
    "variables = ['vol', 'hp', 'sp', 'wt']"
   ]
  },
  {
   "cell_type": "code",
   "execution_count": 169,
   "id": "d1f8614e",
   "metadata": {},
   "outputs": [],
   "source": [
    "# An array to store the variables with the lowest C_p score\n",
    "# for the current round of forward stepwise selection.\n",
    "cur_best_vars = []"
   ]
  },
  {
   "cell_type": "code",
   "execution_count": 170,
   "id": "17a07f44",
   "metadata": {},
   "outputs": [],
   "source": [
    "# An array to store the variables with the lowest C_p score\n",
    "# among all the rounds of stepwise selection.\n",
    "best_vars = []"
   ]
  },
  {
   "cell_type": "code",
   "execution_count": 171,
   "id": "5002df48",
   "metadata": {},
   "outputs": [],
   "source": [
    "# The lowest C_p score among all rounds of stepwise selection.\n",
    "best_mallow = float('inf')"
   ]
  },
  {
   "cell_type": "code",
   "execution_count": 172,
   "id": "1d553403",
   "metadata": {},
   "outputs": [
    {
     "name": "stdout",
     "output_type": "stream",
     "text": [
      "['vol'], C_p score: 7032.5378\n",
      "['hp'], C_p score: 3076.1203\n",
      "['sp'], C_p score: 4291.5494\n",
      "['wt'], C_p score: 1492.6869\n",
      "\n",
      "['wt', 'vol'], C_p score: 1515.4894\n",
      "['wt', 'hp'], C_p score: 1483.9923\n",
      "['wt', 'sp'], C_p score: 1436.3913\n",
      "\n",
      "['wt', 'sp', 'vol'], C_p score: 1417.1098\n",
      "['wt', 'sp', 'hp'], C_p score: 1113.7056\n",
      "\n",
      "['wt', 'sp', 'hp', 'vol'], C_p score: 1134.1224\n"
     ]
    }
   ],
   "source": [
    "for i in range(4):\n",
    "    # The lowest C_p score for the current round and the corresponding variable.\n",
    "    cur_best_mallow = float('inf')\n",
    "    cur_best_var = None\n",
    "    \n",
    "    for var in variables:\n",
    "        # Try adding on var to cur_best_vars and evaluate the C_p score.\n",
    "        the_vars = cur_best_vars + [var]\n",
    "        X = df[the_vars].to_numpy()\n",
    "        X = np.concatenate((np.ones((len(X), 1)), X), axis=1)\n",
    "        beta = inv(X.T @ X) @ X.T @ Y\n",
    "        Y_hat = X @ beta\n",
    "        \n",
    "        # Calculate the C_p score.\n",
    "        R_tr = np.sum((Y - Y_hat)**2)\n",
    "        mallow = R_tr + 2 * len(the_vars) * sigma**2\n",
    "        print(f'{the_vars}, C_p score: {mallow:.4f}')\n",
    "        \n",
    "        # Store this variable and its C_p score\n",
    "        # if the C_p score is the best this round.\n",
    "        if mallow < cur_best_mallow:\n",
    "            cur_best_var = var\n",
    "            cur_best_mallow = mallow\n",
    "            \n",
    "    cur_best_vars = cur_best_vars + [cur_best_var]\n",
    "    \n",
    "    # Reset best_mallow and cur_best_mallow if the best\n",
    "    # C_p score dropped this round. Otherwise break.\n",
    "    if cur_best_mallow < best_mallow:\n",
    "        best_mallow = cur_best_mallow\n",
    "        best_vars = cur_best_vars\n",
    "    else:\n",
    "        break\n",
    "    \n",
    "    variables.remove(cur_best_var)\n",
    "    print('')"
   ]
  },
  {
   "cell_type": "code",
   "execution_count": 173,
   "id": "6e6b82fd",
   "metadata": {},
   "outputs": [
    {
     "name": "stdout",
     "output_type": "stream",
     "text": [
      "Best variables for forward stepwise: ['wt', 'sp', 'hp']\n",
      "Best C_p score: 1113.7056\n"
     ]
    }
   ],
   "source": [
    "print(f'Best variables for forward stepwise: {best_vars}')\n",
    "print(f'Best C_p score: {best_mallow:.4f}')"
   ]
  },
  {
   "cell_type": "markdown",
   "id": "8c6ef8ef",
   "metadata": {},
   "source": [
    "Now we'll repeat the analysis for backward stepwise selection."
   ]
  },
  {
   "cell_type": "code",
   "execution_count": 174,
   "id": "cdc01d4d",
   "metadata": {},
   "outputs": [],
   "source": [
    "variables = ['vol', 'hp', 'sp', 'wt']"
   ]
  },
  {
   "cell_type": "code",
   "execution_count": 175,
   "id": "1102200d",
   "metadata": {},
   "outputs": [],
   "source": [
    "# An array to store the variables with the lowest C_p score\n",
    "# for the current round of backward stepwise selection.\n",
    "cur_best_vars = variables[:]"
   ]
  },
  {
   "cell_type": "code",
   "execution_count": 176,
   "id": "5aa662c1",
   "metadata": {},
   "outputs": [],
   "source": [
    "# An array to store the variables with the lowest C_p score\n",
    "# among all the rounds of stepwise selection.\n",
    "best_vars = variables[:]"
   ]
  },
  {
   "cell_type": "code",
   "execution_count": 177,
   "id": "10744bb9",
   "metadata": {},
   "outputs": [],
   "source": [
    "# Calculate the C_p score with all variables.\n",
    "X = df[cur_best_vars].to_numpy()\n",
    "X = np.concatenate((np.ones((len(X), 1)), X), axis=1)\n",
    "beta = inv(X.T @ X) @ X.T @ Y\n",
    "Y_hat = X @ beta\n",
    "R_tr = np.sum((Y - Y_hat)**2)\n",
    "best_mallow = R_tr + 2 * len(cur_best_vars) * sigma**2"
   ]
  },
  {
   "cell_type": "code",
   "execution_count": 178,
   "id": "e639d64d",
   "metadata": {},
   "outputs": [
    {
     "name": "stdout",
     "output_type": "stream",
     "text": [
      "['vol', 'hp', 'sp', 'wt'], C_p score: 1134.1224\n"
     ]
    }
   ],
   "source": [
    "print(f'{cur_best_vars}, C_p score: {best_mallow:.4f}')"
   ]
  },
  {
   "cell_type": "code",
   "execution_count": 179,
   "id": "148851e6",
   "metadata": {},
   "outputs": [
    {
     "name": "stdout",
     "output_type": "stream",
     "text": [
      "['hp', 'sp', 'wt'], C_p score: 1113.7056\n",
      "['vol', 'sp', 'wt'], C_p score: 1417.1098\n",
      "['vol', 'hp', 'wt'], C_p score: 1480.7991\n",
      "['vol', 'hp', 'sp'], C_p score: 2121.2013\n",
      "\n",
      "['sp', 'wt'], C_p score: 1436.3913\n",
      "['hp', 'wt'], C_p score: 1483.9923\n",
      "['hp', 'sp'], C_p score: 2409.8936\n"
     ]
    }
   ],
   "source": [
    "for i in range(3):\n",
    "    # The lowest C_p score for the current round and the corresponding variable.\n",
    "    cur_best_mallow = float('inf')\n",
    "    cur_best_var = None\n",
    "    \n",
    "    for var in variables:\n",
    "        # Try removing var from cur_best_vars and evaluate the C_p score.\n",
    "        the_vars = cur_best_vars[:]\n",
    "        the_vars.remove(var)\n",
    "        X = df[the_vars].to_numpy()\n",
    "        X = np.concatenate((np.ones((len(X), 1)), X), axis=1)\n",
    "        beta = inv(X.T @ X) @ X.T @ Y\n",
    "        \n",
    "        # Calculate the C_p score.\n",
    "        Y_hat = X @ beta\n",
    "        R_tr = np.sum((Y - Y_hat)**2)\n",
    "        mallow = R_tr + 2 * len(the_vars) * sigma**2\n",
    "        print(f'{the_vars}, C_p score: {mallow:.4f}')\n",
    "\n",
    "        # Store this variable and its C_p score\n",
    "        # if the C_p score is the best this round.\n",
    "        if mallow < cur_best_mallow:\n",
    "            cur_best_var = var\n",
    "            cur_best_mallow = mallow\n",
    "    \n",
    "    # Reset best_mallow and cur_best_mallow if the best\n",
    "    # C_p score dropped this round. Otherwise break.\n",
    "    if cur_best_mallow < best_mallow:\n",
    "        cur_best_vars.remove(cur_best_var)\n",
    "        best_mallow = cur_best_mallow\n",
    "        best_vars = cur_best_vars\n",
    "        \n",
    "        variables.remove(cur_best_var)\n",
    "        print('')\n",
    "    else:\n",
    "        break"
   ]
  },
  {
   "cell_type": "code",
   "execution_count": 180,
   "id": "ef1f2ef7",
   "metadata": {},
   "outputs": [
    {
     "name": "stdout",
     "output_type": "stream",
     "text": [
      "Best variables for backward stepwise: ['hp', 'sp', 'wt']\n",
      "Best C_p score: 1113.7056\n"
     ]
    }
   ],
   "source": [
    "print(f'Best variables for backward stepwise: {best_vars}')\n",
    "print(f'Best C_p score: {best_mallow:.4f}')"
   ]
  },
  {
   "cell_type": "markdown",
   "id": "d333027d",
   "metadata": {},
   "source": [
    "We find that backward and forward stepwise selection both yield the same set of variables: 'hp', 'sp', and 'wt.'"
   ]
  },
  {
   "cell_type": "markdown",
   "id": "1f7e472d",
   "metadata": {},
   "source": [
    "Part (c)\n",
    "--"
   ]
  },
  {
   "cell_type": "code",
   "execution_count": 220,
   "id": "67159538",
   "metadata": {},
   "outputs": [],
   "source": [
    "variables = np.array(['vol', 'hp', 'sp', 'wt'])"
   ]
  },
  {
   "cell_type": "code",
   "execution_count": 221,
   "id": "6d64a4bd",
   "metadata": {},
   "outputs": [],
   "source": [
    "X = df[variables].to_numpy()"
   ]
  },
  {
   "cell_type": "code",
   "execution_count": 222,
   "id": "85d70be8",
   "metadata": {},
   "outputs": [],
   "source": [
    "X = np.concatenate((np.ones((len(X), 1)), X), axis=1)"
   ]
  },
  {
   "cell_type": "code",
   "execution_count": 223,
   "id": "8b9e794b",
   "metadata": {},
   "outputs": [],
   "source": [
    "n = X.shape[0]"
   ]
  },
  {
   "cell_type": "code",
   "execution_count": 224,
   "id": "45469287",
   "metadata": {},
   "outputs": [],
   "source": [
    "beta = inv(X.T @ X) @ X.T @ Y"
   ]
  },
  {
   "cell_type": "code",
   "execution_count": 225,
   "id": "30464c0f",
   "metadata": {},
   "outputs": [],
   "source": [
    "Y_hat = X @ beta"
   ]
  },
  {
   "cell_type": "code",
   "execution_count": 226,
   "id": "bb3824b1",
   "metadata": {},
   "outputs": [],
   "source": [
    "# The array of residuals.\n",
    "res = Y - Y_hat"
   ]
  },
  {
   "cell_type": "code",
   "execution_count": 227,
   "id": "688236de",
   "metadata": {},
   "outputs": [],
   "source": [
    "# Unbiased estimator of sigma.\n",
    "sigma = np.sqrt((res**2).sum() / (len(res) - len(beta)))"
   ]
  },
  {
   "cell_type": "code",
   "execution_count": 228,
   "id": "302a7eee",
   "metadata": {},
   "outputs": [],
   "source": [
    "# The estimated standard errors for the coefficients of beta\n",
    "# are the diagonal entries of the matrix se calculated below.\n",
    "se = sigma**2 * inv(X.T @ X)"
   ]
  },
  {
   "cell_type": "code",
   "execution_count": 229,
   "id": "207693ed",
   "metadata": {},
   "outputs": [],
   "source": [
    "# The Wald statistics for the coefficients of beta.\n",
    "Wald = beta.flatten() / se.diagonal()"
   ]
  },
  {
   "cell_type": "code",
   "execution_count": 230,
   "id": "c650996d",
   "metadata": {},
   "outputs": [],
   "source": [
    "# Drop the Wald coefficient for beta_0\n",
    "Wald = Wald[1:]\n",
    "Wald = list(enumerate(Wald))"
   ]
  },
  {
   "cell_type": "code",
   "execution_count": 231,
   "id": "6169a3e9",
   "metadata": {},
   "outputs": [],
   "source": [
    "Wald.sort(key=lambda x: abs(x[1]), reverse=True)"
   ]
  },
  {
   "cell_type": "code",
   "execution_count": 232,
   "id": "cdeab785",
   "metadata": {},
   "outputs": [
    {
     "name": "stdout",
     "output_type": "stream",
     "text": [
      "Ranked Wald statistics: [(1, 59.17530990583489), (3, -40.8534551345469), (0, -30.029219991271308), (2, -21.61126177566326)]\n"
     ]
    }
   ],
   "source": [
    "print(f'Ranked Wald statistics: {Wald}')"
   ]
  },
  {
   "cell_type": "code",
   "execution_count": 233,
   "id": "f7f1b7e1",
   "metadata": {},
   "outputs": [],
   "source": [
    "# An array to store the Zheng-Loh values RSS + j*sigma^2*log(n)\n",
    "Zheng_Loh = []"
   ]
  },
  {
   "cell_type": "code",
   "execution_count": 234,
   "id": "cdd43349",
   "metadata": {},
   "outputs": [],
   "source": [
    "for j in range(1,5):\n",
    "    ind = [Wald[i][0] for i in range(j)]\n",
    "    X_ = X[:, ind]\n",
    "    beta_ = inv(X_.T @ X_) @ X_.T @ Y\n",
    "    Y_hat_ = X_ @ beta_\n",
    "    res = Y - Y_hat_\n",
    "    rss = (Y - Y_hat_).sum()\n",
    "    zl = rss + j * sigma**2 * np.log(n)\n",
    "    Zheng_Loh.append(zl)"
   ]
  },
  {
   "cell_type": "code",
   "execution_count": 235,
   "id": "f81dbeae",
   "metadata": {},
   "outputs": [
    {
     "name": "stdout",
     "output_type": "stream",
     "text": [
      "Zheng-Loh values: [253.83497919601743, 216.85399769875423, 176.39149597798055, 235.18866130426315]\n"
     ]
    }
   ],
   "source": [
    "print(f'Zheng-Loh values: {Zheng_Loh}')"
   ]
  },
  {
   "cell_type": "code",
   "execution_count": 236,
   "id": "cfb1c22f",
   "metadata": {},
   "outputs": [],
   "source": [
    "j_hat = np.argmin(Zheng_Loh) + 1"
   ]
  },
  {
   "cell_type": "code",
   "execution_count": 238,
   "id": "e40250cd",
   "metadata": {},
   "outputs": [],
   "source": [
    "best_vars = variables[[Wald[i][0] for i in range(j_hat)]]"
   ]
  },
  {
   "cell_type": "code",
   "execution_count": 240,
   "id": "5669a1c5",
   "metadata": {},
   "outputs": [
    {
     "name": "stdout",
     "output_type": "stream",
     "text": [
      "Best variables for backward stepwise: ['hp' 'wt' 'vol']\n",
      "Best Zheng-Loh score: 176.3915\n"
     ]
    }
   ],
   "source": [
    "print(f'Best variables for backward stepwise: {best_vars}')\n",
    "print(f'Best Zheng-Loh score: {Zheng_Loh[j_hat-1]:.4f}')"
   ]
  },
  {
   "cell_type": "markdown",
   "id": "75a61e4f",
   "metadata": {},
   "source": [
    "The best variables identified by Zheng-Loh are a bit different: 'sp' was swapped out for 'vol.'"
   ]
  },
  {
   "cell_type": "markdown",
   "id": "ab6f205a",
   "metadata": {},
   "source": [
    "Part (d)\n",
    "--"
   ]
  },
  {
   "cell_type": "code",
   "execution_count": 271,
   "id": "30d5ee22",
   "metadata": {},
   "outputs": [],
   "source": [
    "variables = np.array(['vol', 'hp', 'sp', 'wt'])"
   ]
  },
  {
   "cell_type": "code",
   "execution_count": 272,
   "id": "06c3616c",
   "metadata": {},
   "outputs": [],
   "source": [
    "n = len(Y)"
   ]
  },
  {
   "cell_type": "code",
   "execution_count": 273,
   "id": "103c8b03",
   "metadata": {},
   "outputs": [],
   "source": [
    "# A function to get the power set of the set of variables.\n",
    "def powerset(iterable):\n",
    "    s = list(iterable)\n",
    "    return chain.from_iterable(combinations(s, r) for r in range(len(s)+1))"
   ]
  },
  {
   "cell_type": "code",
   "execution_count": 274,
   "id": "4abd584b",
   "metadata": {},
   "outputs": [],
   "source": [
    "# Ignore the subset with no variables.\n",
    "subsets = list(powerset(variables))[1:]"
   ]
  },
  {
   "cell_type": "code",
   "execution_count": 275,
   "id": "f77ea785",
   "metadata": {},
   "outputs": [],
   "source": [
    "best_mallow = float('inf')"
   ]
  },
  {
   "cell_type": "code",
   "execution_count": 276,
   "id": "efd03f73",
   "metadata": {},
   "outputs": [],
   "source": [
    "best_mallow_vars = None"
   ]
  },
  {
   "cell_type": "code",
   "execution_count": 277,
   "id": "e5a9687a",
   "metadata": {},
   "outputs": [],
   "source": [
    "best_bic = -float('inf')"
   ]
  },
  {
   "cell_type": "code",
   "execution_count": 278,
   "id": "94309ce1",
   "metadata": {},
   "outputs": [],
   "source": [
    "best_bic_vars = None"
   ]
  },
  {
   "cell_type": "code",
   "execution_count": 279,
   "id": "c9f5d3a8",
   "metadata": {
    "scrolled": true
   },
   "outputs": [
    {
     "name": "stdout",
     "output_type": "stream",
     "text": [
      "Subset ('vol',) --- BIC: -370.9695, C_p: 7032.5378\n",
      "Subset ('hp',) --- BIC: -222.7071, C_p: 3076.1203\n",
      "Subset ('sp',) --- BIC: -268.2540, C_p: 4291.5494\n",
      "Subset ('wt',) --- BIC: -163.3697, C_p: 1492.6869\n",
      "Subset ('vol', 'hp') --- BIC: -195.8806, C_p: 2328.1379\n",
      "Subset ('vol', 'sp') --- BIC: -222.1789, C_p: 3029.9136\n",
      "Subset ('vol', 'wt') --- BIC: -165.4275, C_p: 1515.4894\n",
      "Subset ('hp', 'sp') --- BIC: -198.9443, C_p: 2409.8936\n",
      "Subset ('hp', 'wt') --- BIC: -164.2472, C_p: 1483.9923\n",
      "Subset ('sp', 'wt') --- BIC: -162.4634, C_p: 1436.3913\n",
      "Subset ('vol', 'hp', 'sp') --- BIC: -189.3293, C_p: 2121.2013\n",
      "Subset ('vol', 'hp', 'wt') --- BIC: -165.3309, C_p: 1480.7991\n",
      "Subset ('vol', 'sp', 'wt') --- BIC: -162.9442, C_p: 1417.1098\n",
      "Subset ('hp', 'sp', 'wt') --- BIC: -151.5745, C_p: 1113.7056\n",
      "Subset ('vol', 'hp', 'sp', 'wt') --- BIC: -153.5429, C_p: 1134.1224\n"
     ]
    }
   ],
   "source": [
    "for subset in subsets:\n",
    "    X = df[list(subset)].to_numpy()\n",
    "    X = np.concatenate((np.ones((len(X), 1)), X), axis=1)\n",
    "    beta = inv(X.T @ X) @ X.T @ Y\n",
    "    Y_hat = X @ beta\n",
    "    R_tr = np.sum((Y - Y_hat)**2)\n",
    "    mallow = R_tr + 2 * len(subset) * sigma**2\n",
    "    if mallow < best_mallow:\n",
    "        best_mallow = mallow\n",
    "        best_mallow_vars = subset\n",
    "    log_lik = -n * np.log(sigma) - (1 / (2 * sigma**2))*R_tr\n",
    "    bic = log_lik - (len(subset)/2)*np.log(n)\n",
    "    if bic > best_bic:\n",
    "        best_bic = bic\n",
    "        best_bic_vars = subset\n",
    "    print(f'Subset {subset} --- BIC: {bic:.4f}, C_p: {mallow:.4f}')"
   ]
  },
  {
   "cell_type": "code",
   "execution_count": 281,
   "id": "9ebeca8d",
   "metadata": {},
   "outputs": [
    {
     "name": "stdout",
     "output_type": "stream",
     "text": [
      "Best subset for BIC: ('hp', 'sp', 'wt')\n",
      "Best BIC score: -151.5745\n",
      "Best subset for Mallow C_p: ('hp', 'sp', 'wt')\n",
      "Best Mallow C_p score: 1113.7056\n"
     ]
    }
   ],
   "source": [
    "print(f'Best subset for BIC: {best_bic_vars}')\n",
    "print(f'Best BIC score: {best_bic:.4f}')\n",
    "print(f'Best subset for Mallow C_p: {best_mallow_vars}')\n",
    "print(f'Best Mallow C_p score: {best_mallow:.4f}')"
   ]
  },
  {
   "cell_type": "markdown",
   "id": "48549fcd",
   "metadata": {},
   "source": [
    "We see that BIC and $C_p$ both identify the same subset of variables, which were previously identified by both forward and backward stepwise selection with $C_p$."
   ]
  }
 ],
 "metadata": {
  "kernelspec": {
   "display_name": "deeplearn",
   "language": "python",
   "name": "deeplearn"
  },
  "language_info": {
   "codemirror_mode": {
    "name": "ipython",
    "version": 3
   },
   "file_extension": ".py",
   "mimetype": "text/x-python",
   "name": "python",
   "nbconvert_exporter": "python",
   "pygments_lexer": "ipython3",
   "version": "3.10.0"
  }
 },
 "nbformat": 4,
 "nbformat_minor": 5
}
