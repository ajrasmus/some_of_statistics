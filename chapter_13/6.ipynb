{
 "cells": [
  {
   "cell_type": "code",
   "execution_count": 193,
   "id": "32f647a5",
   "metadata": {},
   "outputs": [],
   "source": [
    "import pandas as pd\n",
    "import numpy as np\n",
    "import matplotlib.pyplot as plt"
   ]
  },
  {
   "cell_type": "markdown",
   "id": "4ffe8268",
   "metadata": {},
   "source": [
    "# Part (a)"
   ]
  },
  {
   "cell_type": "markdown",
   "id": "16500001",
   "metadata": {},
   "source": [
    "First let's process the data."
   ]
  },
  {
   "cell_type": "code",
   "execution_count": 194,
   "id": "f610222a",
   "metadata": {},
   "outputs": [],
   "source": [
    "with open('car_data.txt') as f:\n",
    "    rows = [line.split() for line in f]"
   ]
  },
  {
   "cell_type": "code",
   "execution_count": 195,
   "id": "e8101917",
   "metadata": {},
   "outputs": [],
   "source": [
    "df = pd.DataFrame.from_records(rows, columns = ['make/model', 'vol', 'hp', 'mpg', 'sp', 'wt'])"
   ]
  },
  {
   "cell_type": "code",
   "execution_count": 196,
   "id": "688a8717",
   "metadata": {},
   "outputs": [
    {
     "data": {
      "text/html": [
       "<div>\n",
       "<style scoped>\n",
       "    .dataframe tbody tr th:only-of-type {\n",
       "        vertical-align: middle;\n",
       "    }\n",
       "\n",
       "    .dataframe tbody tr th {\n",
       "        vertical-align: top;\n",
       "    }\n",
       "\n",
       "    .dataframe thead th {\n",
       "        text-align: right;\n",
       "    }\n",
       "</style>\n",
       "<table border=\"1\" class=\"dataframe\">\n",
       "  <thead>\n",
       "    <tr style=\"text-align: right;\">\n",
       "      <th></th>\n",
       "      <th>make/model</th>\n",
       "      <th>vol</th>\n",
       "      <th>hp</th>\n",
       "      <th>mpg</th>\n",
       "      <th>sp</th>\n",
       "      <th>wt</th>\n",
       "    </tr>\n",
       "  </thead>\n",
       "  <tbody>\n",
       "    <tr>\n",
       "      <th>0</th>\n",
       "      <td>GM/GeoMetroXF1</td>\n",
       "      <td>89</td>\n",
       "      <td>49</td>\n",
       "      <td>65.4</td>\n",
       "      <td>96</td>\n",
       "      <td>17.5</td>\n",
       "    </tr>\n",
       "    <tr>\n",
       "      <th>1</th>\n",
       "      <td>GM/GeoMetro</td>\n",
       "      <td>92</td>\n",
       "      <td>55</td>\n",
       "      <td>56.0</td>\n",
       "      <td>97</td>\n",
       "      <td>20.0</td>\n",
       "    </tr>\n",
       "    <tr>\n",
       "      <th>2</th>\n",
       "      <td>GM/GeoMetroLSI</td>\n",
       "      <td>92</td>\n",
       "      <td>55</td>\n",
       "      <td>55.9</td>\n",
       "      <td>97</td>\n",
       "      <td>20.0</td>\n",
       "    </tr>\n",
       "    <tr>\n",
       "      <th>3</th>\n",
       "      <td>SuzukiSwift</td>\n",
       "      <td>92</td>\n",
       "      <td>70</td>\n",
       "      <td>49.0</td>\n",
       "      <td>105</td>\n",
       "      <td>20.0</td>\n",
       "    </tr>\n",
       "    <tr>\n",
       "      <th>4</th>\n",
       "      <td>DaihatsuCharade</td>\n",
       "      <td>92</td>\n",
       "      <td>53</td>\n",
       "      <td>46.5</td>\n",
       "      <td>96</td>\n",
       "      <td>20.0</td>\n",
       "    </tr>\n",
       "    <tr>\n",
       "      <th>...</th>\n",
       "      <td>...</td>\n",
       "      <td>...</td>\n",
       "      <td>...</td>\n",
       "      <td>...</td>\n",
       "      <td>...</td>\n",
       "      <td>...</td>\n",
       "    </tr>\n",
       "    <tr>\n",
       "      <th>77</th>\n",
       "      <td>Mercedes500SL</td>\n",
       "      <td>50</td>\n",
       "      <td>322</td>\n",
       "      <td>18.1</td>\n",
       "      <td>165</td>\n",
       "      <td>45.0</td>\n",
       "    </tr>\n",
       "    <tr>\n",
       "      <th>78</th>\n",
       "      <td>Mercedes560SEL</td>\n",
       "      <td>115</td>\n",
       "      <td>238</td>\n",
       "      <td>17.2</td>\n",
       "      <td>140</td>\n",
       "      <td>45.0</td>\n",
       "    </tr>\n",
       "    <tr>\n",
       "      <th>79</th>\n",
       "      <td>JaguarXJSConvert</td>\n",
       "      <td>50</td>\n",
       "      <td>263</td>\n",
       "      <td>17.0</td>\n",
       "      <td>147</td>\n",
       "      <td>45.0</td>\n",
       "    </tr>\n",
       "    <tr>\n",
       "      <th>80</th>\n",
       "      <td>BMW750IL</td>\n",
       "      <td>119</td>\n",
       "      <td>295</td>\n",
       "      <td>16.7</td>\n",
       "      <td>157</td>\n",
       "      <td>45.0</td>\n",
       "    </tr>\n",
       "    <tr>\n",
       "      <th>81</th>\n",
       "      <td>Rolls-RoyceVarious</td>\n",
       "      <td>107</td>\n",
       "      <td>236</td>\n",
       "      <td>13.2</td>\n",
       "      <td>130</td>\n",
       "      <td>55.0</td>\n",
       "    </tr>\n",
       "  </tbody>\n",
       "</table>\n",
       "<p>82 rows × 6 columns</p>\n",
       "</div>"
      ],
      "text/plain": [
       "            make/model  vol   hp   mpg   sp    wt\n",
       "0       GM/GeoMetroXF1   89   49  65.4   96  17.5\n",
       "1          GM/GeoMetro   92   55  56.0   97  20.0\n",
       "2       GM/GeoMetroLSI   92   55  55.9   97  20.0\n",
       "3          SuzukiSwift   92   70  49.0  105  20.0\n",
       "4      DaihatsuCharade   92   53  46.5   96  20.0\n",
       "..                 ...  ...  ...   ...  ...   ...\n",
       "77       Mercedes500SL   50  322  18.1  165  45.0\n",
       "78      Mercedes560SEL  115  238  17.2  140  45.0\n",
       "79    JaguarXJSConvert   50  263  17.0  147  45.0\n",
       "80            BMW750IL  119  295  16.7  157  45.0\n",
       "81  Rolls-RoyceVarious  107  236  13.2  130  55.0\n",
       "\n",
       "[82 rows x 6 columns]"
      ]
     },
     "execution_count": 196,
     "metadata": {},
     "output_type": "execute_result"
    }
   ],
   "source": [
    "df"
   ]
  },
  {
   "cell_type": "code",
   "execution_count": 197,
   "id": "abe3d38a",
   "metadata": {},
   "outputs": [],
   "source": [
    "df['hp'] = df['hp'].astype('int')"
   ]
  },
  {
   "cell_type": "code",
   "execution_count": 198,
   "id": "899e0fc2",
   "metadata": {},
   "outputs": [],
   "source": [
    "df['mpg'] = df['mpg'].astype('float')"
   ]
  },
  {
   "cell_type": "markdown",
   "id": "c0282f17",
   "metadata": {},
   "source": [
    "We take 'hp' as our only feature. So $X$ will be 'hp' and $Y$ will be 'mpg.'"
   ]
  },
  {
   "cell_type": "code",
   "execution_count": 199,
   "id": "11e3ec2e",
   "metadata": {},
   "outputs": [],
   "source": [
    "Y = df['mpg'].to_numpy()"
   ]
  },
  {
   "cell_type": "code",
   "execution_count": 200,
   "id": "051237d5",
   "metadata": {},
   "outputs": [],
   "source": [
    "X = df['hp'].to_numpy()"
   ]
  },
  {
   "cell_type": "markdown",
   "id": "dcfaacad",
   "metadata": {},
   "source": [
    "Here we compute the coefficients for the linear regression."
   ]
  },
  {
   "cell_type": "code",
   "execution_count": 201,
   "id": "79f63186",
   "metadata": {},
   "outputs": [],
   "source": [
    "beta1 = np.dot(X - X.mean(), Y - Y.mean()) / np.linalg.norm(X - X.mean())**2"
   ]
  },
  {
   "cell_type": "code",
   "execution_count": 202,
   "id": "b8309826",
   "metadata": {},
   "outputs": [],
   "source": [
    "beta0 = Y.mean() - beta1*X.mean()"
   ]
  },
  {
   "cell_type": "code",
   "execution_count": 203,
   "id": "56ca8582",
   "metadata": {},
   "outputs": [
    {
     "name": "stdout",
     "output_type": "stream",
     "text": [
      "Regression line: y = 50.0661 + -0.1390x\n"
     ]
    }
   ],
   "source": [
    "print(f'Regression line: y = {beta0:.4f} + {beta1:.4f}x')"
   ]
  },
  {
   "cell_type": "markdown",
   "id": "64c1fb4b",
   "metadata": {},
   "source": [
    "Let's plot the regression line together with the data points."
   ]
  },
  {
   "cell_type": "code",
   "execution_count": 204,
   "id": "1d712095",
   "metadata": {},
   "outputs": [],
   "source": [
    "xmin = X.min()"
   ]
  },
  {
   "cell_type": "code",
   "execution_count": 205,
   "id": "2c4df49a",
   "metadata": {},
   "outputs": [],
   "source": [
    "xmax = X.max()"
   ]
  },
  {
   "cell_type": "code",
   "execution_count": 206,
   "id": "6f6539e2",
   "metadata": {},
   "outputs": [
    {
     "data": {
      "text/plain": [
       "Text(0, 0.5, 'Miles per gallon')"
      ]
     },
     "execution_count": 206,
     "metadata": {},
     "output_type": "execute_result"
    },
    {
     "data": {
      "image/png": "[encoded data removed]",
      "text/plain": [
       "<Figure size 640x480 with 1 Axes>"
      ]
     },
     "metadata": {},
     "output_type": "display_data"
    }
   ],
   "source": [
    "plt.plot(np.linspace(xmin, xmax, 2),\n",
    "         beta0 + beta1*np.linspace(xmin, xmax, 2), color='blue')\n",
    "plt.scatter(X, Y, color='green')\n",
    "plt.xlabel('Horsepower')\n",
    "plt.ylabel('Miles per gallon')"
   ]
  },
  {
   "cell_type": "markdown",
   "id": "0a661863",
   "metadata": {},
   "source": [
    "So we see that horsepower is negatively correlated with MPG, as is to be expected. Let's compute the mean squared training error and the Wald statistics for whether the coefficients we computed are non-zero."
   ]
  },
  {
   "cell_type": "code",
   "execution_count": 207,
   "id": "164c1d98",
   "metadata": {},
   "outputs": [],
   "source": [
    "res = Y - (beta0 + beta1 * X)"
   ]
  },
  {
   "cell_type": "code",
   "execution_count": 208,
   "id": "646cd772",
   "metadata": {},
   "outputs": [],
   "source": [
    "mse = (res**2).mean()"
   ]
  },
  {
   "cell_type": "markdown",
   "id": "df017de7",
   "metadata": {},
   "source": [
    "Assuming normal errors $\\epsilon_i|X_i \\sim N(0,\\sigma^2)$, $\\sigma$ is estimated as $\\hat\\sigma$, the mean squared error."
   ]
  },
  {
   "cell_type": "code",
   "execution_count": 209,
   "id": "3c5e225e",
   "metadata": {},
   "outputs": [],
   "source": [
    "sigma_hat = np.sqrt(mse)"
   ]
  },
  {
   "cell_type": "code",
   "execution_count": 210,
   "id": "68bc8f12",
   "metadata": {},
   "outputs": [],
   "source": [
    "s_X = np.sqrt(X.var())"
   ]
  },
  {
   "cell_type": "code",
   "execution_count": 211,
   "id": "6c016844",
   "metadata": {},
   "outputs": [],
   "source": [
    "n = len(X)"
   ]
  },
  {
   "cell_type": "markdown",
   "id": "56cae48a",
   "metadata": {},
   "source": [
    "Here we calculate the Wald statistics for $\\beta_0$ and $\\beta_1$."
   ]
  },
  {
   "cell_type": "code",
   "execution_count": 212,
   "id": "6fcc051f",
   "metadata": {},
   "outputs": [],
   "source": [
    "se_beta0 = (sigma_hat / (s_X * np.sqrt(n))) * np.sqrt((X**2).mean())"
   ]
  },
  {
   "cell_type": "code",
   "execution_count": 213,
   "id": "899e13a7",
   "metadata": {},
   "outputs": [],
   "source": [
    "wald_beta0 = beta0 / se_beta0"
   ]
  },
  {
   "cell_type": "code",
   "execution_count": 214,
   "id": "48b8ac75",
   "metadata": {},
   "outputs": [],
   "source": [
    "se_beta1 = (sigma_hat / (s_X * np.sqrt(n)))"
   ]
  },
  {
   "cell_type": "code",
   "execution_count": 215,
   "id": "0ce505a8",
   "metadata": {},
   "outputs": [],
   "source": [
    "wald_beta1 = beta1 / se_beta1"
   ]
  },
  {
   "cell_type": "code",
   "execution_count": 216,
   "id": "5f930ee3",
   "metadata": {},
   "outputs": [
    {
     "name": "stdout",
     "output_type": "stream",
     "text": [
      "Mean squared error: 37.1882\n",
      "Wald statistic for beta_0: 32.2959\n",
      "Wald statistic for beta_1: -11.6624\n"
     ]
    }
   ],
   "source": [
    "print(f'Mean squared error: {mse:.4f}')\n",
    "print(f'Wald statistic for beta_0: {wald_beta0:.4f}')\n",
    "print(f'Wald statistic for beta_1: {wald_beta1:.4f}')"
   ]
  },
  {
   "cell_type": "markdown",
   "id": "a1ac6b70",
   "metadata": {},
   "source": [
    "# Part (b)"
   ]
  },
  {
   "cell_type": "code",
   "execution_count": 217,
   "id": "f2900ee9",
   "metadata": {},
   "outputs": [],
   "source": [
    "Y = np.log(df['mpg'].to_numpy())"
   ]
  },
  {
   "cell_type": "code",
   "execution_count": 218,
   "id": "b6cc0b9f",
   "metadata": {},
   "outputs": [],
   "source": [
    "X = df['hp'].to_numpy()"
   ]
  },
  {
   "cell_type": "code",
   "execution_count": 219,
   "id": "9493a3aa",
   "metadata": {},
   "outputs": [],
   "source": [
    "beta1 = np.dot(X - X.mean(), Y - Y.mean()) / np.linalg.norm(X - X.mean())**2"
   ]
  },
  {
   "cell_type": "code",
   "execution_count": 220,
   "id": "a504dcd8",
   "metadata": {},
   "outputs": [],
   "source": [
    "beta0 = Y.mean() - beta1*X.mean()"
   ]
  },
  {
   "cell_type": "code",
   "execution_count": 221,
   "id": "3fac8d5d",
   "metadata": {},
   "outputs": [],
   "source": [
    "xmin = X.min()"
   ]
  },
  {
   "cell_type": "code",
   "execution_count": 222,
   "id": "4ce3c6e9",
   "metadata": {},
   "outputs": [],
   "source": [
    "xmax = X.max()"
   ]
  },
  {
   "cell_type": "code",
   "execution_count": 223,
   "id": "55d71689",
   "metadata": {},
   "outputs": [
    {
     "name": "stdout",
     "output_type": "stream",
     "text": [
      "Regression line: y = 4.0132 + -0.0046x\n"
     ]
    }
   ],
   "source": [
    "print(f'Regression line: y = {beta0:.4f} + {beta1:.4f}x')"
   ]
  },
  {
   "cell_type": "code",
   "execution_count": 224,
   "id": "00c79ed7",
   "metadata": {},
   "outputs": [
    {
     "data": {
      "text/plain": [
       "Text(0, 0.5, 'Miles per gallon')"
      ]
     },
     "execution_count": 224,
     "metadata": {},
     "output_type": "execute_result"
    },
    {
     "data": {
      "image/png": "[encoded data removed]",
      "text/plain": [
       "<Figure size 640x480 with 1 Axes>"
      ]
     },
     "metadata": {},
     "output_type": "display_data"
    }
   ],
   "source": [
    "plt.plot(np.linspace(xmin, xmax, 2),\n",
    "         beta0 + beta1*np.linspace(xmin, xmax, 2), color='blue')\n",
    "plt.scatter(X, Y, color='green')\n",
    "plt.xlabel('Horsepower')\n",
    "plt.ylabel('Miles per gallon')"
   ]
  },
  {
   "cell_type": "markdown",
   "id": "4cbdf3ce",
   "metadata": {},
   "source": [
    "Let's compute the mean squared training error and Wald statistics, as before."
   ]
  },
  {
   "cell_type": "code",
   "execution_count": 225,
   "id": "94d39350",
   "metadata": {},
   "outputs": [],
   "source": [
    "res = Y - (beta0 + beta1 * X)"
   ]
  },
  {
   "cell_type": "code",
   "execution_count": 226,
   "id": "79c38f76",
   "metadata": {},
   "outputs": [],
   "source": [
    "mse = (res**2).mean()"
   ]
  },
  {
   "cell_type": "markdown",
   "id": "049b2c64",
   "metadata": {},
   "source": [
    "Let's also compute the mean squared error when we exponentiate $Y$ and the predictions from $X$."
   ]
  },
  {
   "cell_type": "code",
   "execution_count": 227,
   "id": "060949ac",
   "metadata": {},
   "outputs": [],
   "source": [
    "comp_res = np.exp(Y) - np.exp(beta0 + beta1 * X)"
   ]
  },
  {
   "cell_type": "code",
   "execution_count": 228,
   "id": "b737d658",
   "metadata": {},
   "outputs": [],
   "source": [
    "comp_mse = (comp_res**2).mean()"
   ]
  },
  {
   "cell_type": "markdown",
   "id": "cb32f9ab",
   "metadata": {},
   "source": [
    "Here we compute the Wald statistics."
   ]
  },
  {
   "cell_type": "code",
   "execution_count": 229,
   "id": "c0076724",
   "metadata": {},
   "outputs": [],
   "source": [
    "sigma_hat = np.sqrt(mse)"
   ]
  },
  {
   "cell_type": "code",
   "execution_count": 230,
   "id": "00a5ecdd",
   "metadata": {},
   "outputs": [],
   "source": [
    "s_X = np.sqrt(X.var())"
   ]
  },
  {
   "cell_type": "code",
   "execution_count": 231,
   "id": "028bd852",
   "metadata": {},
   "outputs": [],
   "source": [
    "n = len(X)"
   ]
  },
  {
   "cell_type": "code",
   "execution_count": 232,
   "id": "08f18f11",
   "metadata": {},
   "outputs": [],
   "source": [
    "se_beta0 = (sigma_hat / (s_X * np.sqrt(n))) * np.sqrt((X**2).mean())"
   ]
  },
  {
   "cell_type": "code",
   "execution_count": 233,
   "id": "2ab0a560",
   "metadata": {},
   "outputs": [],
   "source": [
    "wald_beta0 = beta0 / se_beta0"
   ]
  },
  {
   "cell_type": "code",
   "execution_count": 234,
   "id": "8e1a6dbd",
   "metadata": {},
   "outputs": [],
   "source": [
    "se_beta1 = (sigma_hat / (s_X * np.sqrt(n)))"
   ]
  },
  {
   "cell_type": "code",
   "execution_count": 235,
   "id": "44b6f03f",
   "metadata": {},
   "outputs": [],
   "source": [
    "wald_beta1 = beta1 / se_beta1"
   ]
  },
  {
   "cell_type": "code",
   "execution_count": 236,
   "id": "02dfaf85",
   "metadata": {},
   "outputs": [
    {
     "name": "stdout",
     "output_type": "stream",
     "text": [
      "Mean squared error: 0.0243\n",
      "Mean squared error after exponentiating: 29.0044\n",
      "Wald statistic for beta_0: 101.2637\n",
      "Wald statistic for beta_1: -15.0579\n"
     ]
    }
   ],
   "source": [
    "print(f'Mean squared error: {mse:.4f}')\n",
    "print(f'Mean squared error after exponentiating: {comp_mse:.4f}')\n",
    "print(f'Wald statistic for beta_0: {wald_beta0:.4f}')\n",
    "print(f'Wald statistic for beta_1: {wald_beta1:.4f}')"
   ]
  },
  {
   "cell_type": "markdown",
   "id": "3d7c8d33",
   "metadata": {},
   "source": [
    "We see that the Wald statistics are much higher than before. In addition, after exponentiating $Y=\\log(\\text{MPG})$ and the predictions $\\hat Y=\\beta_0 + \\beta_1 X$, we see that the mean squared error is smaller than before. So it seems that a model of the form $Y = e^{\\beta_0 + \\beta_1 X}$ fits the data better."
   ]
  }
 ],
 "metadata": {
  "kernelspec": {
   "display_name": "deeplearn",
   "language": "python",
   "name": "deeplearn"
  },
  "language_info": {
   "codemirror_mode": {
    "name": "ipython",
    "version": 3
   },
   "file_extension": ".py",
   "mimetype": "text/x-python",
   "name": "python",
   "nbconvert_exporter": "python",
   "pygments_lexer": "ipython3",
   "version": "3.10.0"
  }
 },
 "nbformat": 4,
 "nbformat_minor": 5
}
