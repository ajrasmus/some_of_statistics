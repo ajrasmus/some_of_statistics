{
 "cells": [
  {
   "cell_type": "code",
   "execution_count": 1,
   "id": "4084f738",
   "metadata": {},
   "outputs": [],
   "source": [
    "import numpy as np\n",
    "import pandas as pd\n",
    "import scipy"
   ]
  },
  {
   "cell_type": "code",
   "execution_count": 2,
   "id": "a54cfb0e",
   "metadata": {},
   "outputs": [],
   "source": [
    "file_name = 'faithful.dat'"
   ]
  },
  {
   "cell_type": "code",
   "execution_count": 3,
   "id": "e5101188",
   "metadata": {},
   "outputs": [],
   "source": [
    "x = []"
   ]
  },
  {
   "cell_type": "code",
   "execution_count": 4,
   "id": "280b5b34",
   "metadata": {},
   "outputs": [],
   "source": [
    "with open(file_name, 'r') as file:\n",
    "    for line in file:\n",
    "        x.append(line.split())"
   ]
  },
  {
   "cell_type": "code",
   "execution_count": 5,
   "id": "791edf7d",
   "metadata": {},
   "outputs": [],
   "source": [
    "data = np.array([int(z[2]) for z in x[26:]])"
   ]
  },
  {
   "cell_type": "code",
   "execution_count": 6,
   "id": "d7733f53",
   "metadata": {},
   "outputs": [],
   "source": [
    "n = len(data)"
   ]
  },
  {
   "cell_type": "code",
   "execution_count": 7,
   "id": "c047f885",
   "metadata": {},
   "outputs": [],
   "source": [
    "est_mean = np.mean(data)"
   ]
  },
  {
   "cell_type": "code",
   "execution_count": 8,
   "id": "97babf97",
   "metadata": {},
   "outputs": [],
   "source": [
    "std_hat = np.std(data)"
   ]
  },
  {
   "cell_type": "markdown",
   "id": "be21e48d",
   "metadata": {},
   "source": [
    "Below we estimate standard error of the mean using the method in the textbook."
   ]
  },
  {
   "cell_type": "code",
   "execution_count": 9,
   "id": "0479e9d1",
   "metadata": {},
   "outputs": [],
   "source": [
    "se_hat = std_hat / np.sqrt(n)"
   ]
  },
  {
   "cell_type": "code",
   "execution_count": 10,
   "id": "b4a6eb71",
   "metadata": {},
   "outputs": [],
   "source": [
    "alpha = 0.1"
   ]
  },
  {
   "cell_type": "code",
   "execution_count": 11,
   "id": "1012b824",
   "metadata": {},
   "outputs": [],
   "source": [
    "norm = scipy.stats.norm"
   ]
  },
  {
   "cell_type": "code",
   "execution_count": 12,
   "id": "ad09886b",
   "metadata": {},
   "outputs": [],
   "source": [
    "z = norm.ppf(1-alpha/2)"
   ]
  },
  {
   "cell_type": "markdown",
   "id": "1f02bbb9",
   "metadata": {},
   "source": [
    "We use a normal-based interval as our confidence interval."
   ]
  },
  {
   "cell_type": "code",
   "execution_count": 13,
   "id": "5f1e929f",
   "metadata": {},
   "outputs": [],
   "source": [
    "upper = est_mean + z*se_hat"
   ]
  },
  {
   "cell_type": "code",
   "execution_count": 14,
   "id": "d729d6a3",
   "metadata": {},
   "outputs": [],
   "source": [
    "lower = est_mean - z*se_hat"
   ]
  },
  {
   "cell_type": "code",
   "execution_count": 15,
   "id": "28e418e6",
   "metadata": {},
   "outputs": [],
   "source": [
    "est_med = np.median(data)"
   ]
  },
  {
   "cell_type": "markdown",
   "id": "87eb1314",
   "metadata": {},
   "source": [
    "Finally, here are our calculations."
   ]
  },
  {
   "cell_type": "code",
   "execution_count": 16,
   "id": "31b84017",
   "metadata": {},
   "outputs": [
    {
     "name": "stdout",
     "output_type": "stream",
     "text": [
      "Estimated mean waiting time: 70.897\n",
      "Estimated standard error for mean: 0.823\n",
      "Estimated 90% confidence interval for mean waiting time: (69.544, 72.250)\n",
      "Estimated median: 76.000\n"
     ]
    }
   ],
   "source": [
    "print('Estimated mean waiting time: {:.3f}'.format(est_mean))\n",
    "print('Estimated standard error for mean: {:.3f}'.format(se_hat))\n",
    "print(r'Estimated 90% confidence interval for mean waiting time: ({0:.3f}, {1:.3f})'.format(lower, upper))\n",
    "print('Estimated median: {:.3f}'.format(est_med))"
   ]
  }
 ],
 "metadata": {
  "kernelspec": {
   "display_name": "cs224n-cpu",
   "language": "python",
   "name": "cs224n-cpu"
  },
  "language_info": {
   "codemirror_mode": {
    "name": "ipython",
    "version": 3
   },
   "file_extension": ".py",
   "mimetype": "text/x-python",
   "name": "python",
   "nbconvert_exporter": "python",
   "pygments_lexer": "ipython3",
   "version": "3.10.0"
  }
 },
 "nbformat": 4,
 "nbformat_minor": 5
}
