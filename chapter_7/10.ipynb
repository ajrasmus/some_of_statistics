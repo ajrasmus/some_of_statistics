{
 "cells": [
  {
   "cell_type": "code",
   "execution_count": 42,
   "id": "cd331775",
   "metadata": {},
   "outputs": [],
   "source": [
    "import numpy as np\n",
    "import pandas as pd\n",
    "import scipy"
   ]
  },
  {
   "cell_type": "code",
   "execution_count": 43,
   "id": "cd04642f",
   "metadata": {},
   "outputs": [],
   "source": [
    "file_name = 'cloud-seeding.txt'"
   ]
  },
  {
   "cell_type": "code",
   "execution_count": 44,
   "id": "f928ee2f",
   "metadata": {},
   "outputs": [],
   "source": [
    "x = []"
   ]
  },
  {
   "cell_type": "code",
   "execution_count": 45,
   "id": "c58b3fa4",
   "metadata": {},
   "outputs": [],
   "source": [
    "with open(file_name, 'r') as file:\n",
    "    for line in file:\n",
    "        x.append(line.split())"
   ]
  },
  {
   "cell_type": "markdown",
   "id": "f305670a",
   "metadata": {},
   "source": [
    "Below, X1 is the array of precipitation data for the unseeded clouds and X2 is the array of precipitation data for the seeded clouds."
   ]
  },
  {
   "cell_type": "code",
   "execution_count": 46,
   "id": "f1df01df",
   "metadata": {},
   "outputs": [],
   "source": [
    "X1 = np.array([float(z[0]) for z in x[1:]])"
   ]
  },
  {
   "cell_type": "code",
   "execution_count": 47,
   "id": "9cd87275",
   "metadata": {},
   "outputs": [],
   "source": [
    "X2 = np.array([float(z[1]) for z in x[1:]])"
   ]
  },
  {
   "cell_type": "markdown",
   "id": "1e2568c5",
   "metadata": {},
   "source": [
    "Now we compute the estimated difference in mean precipitation: est_mean."
   ]
  },
  {
   "cell_type": "code",
   "execution_count": 48,
   "id": "add88409",
   "metadata": {},
   "outputs": [],
   "source": [
    "n = len(X1)"
   ]
  },
  {
   "cell_type": "code",
   "execution_count": 49,
   "id": "17705c33",
   "metadata": {},
   "outputs": [],
   "source": [
    "mean1 = np.mean(X1)"
   ]
  },
  {
   "cell_type": "code",
   "execution_count": 50,
   "id": "e77339da",
   "metadata": {},
   "outputs": [],
   "source": [
    "mean2 = np.mean(X2)"
   ]
  },
  {
   "cell_type": "code",
   "execution_count": 51,
   "id": "d661f362",
   "metadata": {},
   "outputs": [],
   "source": [
    "est_mean = mean2 - mean1"
   ]
  },
  {
   "cell_type": "markdown",
   "id": "da67fab2",
   "metadata": {},
   "source": [
    "Finally, let's compute estimated standard error and a confidence interval."
   ]
  },
  {
   "cell_type": "code",
   "execution_count": 52,
   "id": "fd34e0bb",
   "metadata": {},
   "outputs": [],
   "source": [
    "var1 = np.var(X1)"
   ]
  },
  {
   "cell_type": "code",
   "execution_count": 53,
   "id": "d59ede10",
   "metadata": {},
   "outputs": [],
   "source": [
    "var2 = np.var(X2)"
   ]
  },
  {
   "cell_type": "code",
   "execution_count": 54,
   "id": "78c75c30",
   "metadata": {},
   "outputs": [],
   "source": [
    "se_hat = np.sqrt(var1 + var2)/np.sqrt(n)"
   ]
  },
  {
   "cell_type": "code",
   "execution_count": 55,
   "id": "1722ac85",
   "metadata": {},
   "outputs": [],
   "source": [
    "norm = scipy.stats.norm"
   ]
  },
  {
   "cell_type": "code",
   "execution_count": 56,
   "id": "56106e99",
   "metadata": {},
   "outputs": [],
   "source": [
    "alpha = 0.05"
   ]
  },
  {
   "cell_type": "code",
   "execution_count": 57,
   "id": "93101641",
   "metadata": {},
   "outputs": [],
   "source": [
    "z = norm.ppf(1-alpha/2)"
   ]
  },
  {
   "cell_type": "code",
   "execution_count": 58,
   "id": "03439499",
   "metadata": {},
   "outputs": [],
   "source": [
    "lower = est_mean - se_hat * z"
   ]
  },
  {
   "cell_type": "code",
   "execution_count": 59,
   "id": "7fd11977",
   "metadata": {},
   "outputs": [],
   "source": [
    "upper = est_mean + se_hat * z"
   ]
  },
  {
   "cell_type": "code",
   "execution_count": 60,
   "id": "dd9f17f0",
   "metadata": {},
   "outputs": [
    {
     "name": "stdout",
     "output_type": "stream",
     "text": [
      "Estimated difference in mean precipitation: 277.396\n",
      "Estimated standard error: 136.124\n",
      "Estimated 95% confidence interval: (10.598, 544.195)\n"
     ]
    }
   ],
   "source": [
    "print('Estimated difference in mean precipitation: {:.3f}'.format(est_mean))\n",
    "print('Estimated standard error: {:.3f}'.format(se_hat))\n",
    "print(r'Estimated 95% confidence interval: ({0:.3f}, {1:.3f})'.format(lower, upper))"
   ]
  }
 ],
 "metadata": {
  "kernelspec": {
   "display_name": "cs224n-cpu",
   "language": "python",
   "name": "cs224n-cpu"
  },
  "language_info": {
   "codemirror_mode": {
    "name": "ipython",
    "version": 3
   },
   "file_extension": ".py",
   "mimetype": "text/x-python",
   "name": "python",
   "nbconvert_exporter": "python",
   "pygments_lexer": "ipython3",
   "version": "3.10.0"
  }
 },
 "nbformat": 4,
 "nbformat_minor": 5
}
