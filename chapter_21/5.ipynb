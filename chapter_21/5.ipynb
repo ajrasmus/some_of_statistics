{
 "cells": [
  {
   "cell_type": "code",
   "execution_count": 1,
   "id": "5e9c16b2",
   "metadata": {},
   "outputs": [],
   "source": [
    "import numpy as np\n",
    "import matplotlib.pyplot as plt\n",
    "import sympy\n",
    "from sympy.utilities.lambdify import lambdify\n",
    "from math import factorial\n",
    "from scipy.integrate import quad"
   ]
  },
  {
   "cell_type": "code",
   "execution_count": 2,
   "id": "02df389f",
   "metadata": {},
   "outputs": [],
   "source": [
    "plt.rcParams['figure.figsize'] = [12, 12]"
   ]
  },
  {
   "cell_type": "markdown",
   "id": "9616b6a2",
   "metadata": {},
   "source": [
    "First we will plot the first five Legendre polynomials. We will do this using symbolic expressions with the package sympy."
   ]
  },
  {
   "cell_type": "code",
   "execution_count": 3,
   "id": "b9a511bd",
   "metadata": {},
   "outputs": [],
   "source": [
    "x = sympy.symbols('x')"
   ]
  },
  {
   "cell_type": "code",
   "execution_count": 4,
   "id": "7535852f",
   "metadata": {},
   "outputs": [],
   "source": [
    "X = np.linspace(-1,1,1000)"
   ]
  },
  {
   "cell_type": "code",
   "execution_count": 5,
   "id": "eb7c9c0c",
   "metadata": {},
   "outputs": [],
   "source": [
    "# An array to hold symbolic expressions for the first five Legendre polynomials\n",
    "exprs = []"
   ]
  },
  {
   "cell_type": "code",
   "execution_count": 6,
   "id": "40291c9a",
   "metadata": {},
   "outputs": [
    {
     "data": {
      "image/png": "[encoded data removed]",
      "text/plain": [
       "<Figure size 1200x1200 with 5 Axes>"
      ]
     },
     "metadata": {},
     "output_type": "display_data"
    }
   ],
   "source": [
    "fig, axs = plt.subplots(1,5)\n",
    "plt.subplots_adjust(hspace=1, wspace=1)\n",
    "\n",
    "for i in range(1,6):\n",
    "    # Compute the ith Legendre polynomial\n",
    "    expr = sympy.diff((x**2 - 1)**i, x, i) / (2**i * factorial(i))\n",
    "    exprs.append(expr)\n",
    "    \n",
    "    # Create a Python function from expr\n",
    "    func = lambdify(x, expr)\n",
    "    \n",
    "    # Plot the ith Legendre polynomial\n",
    "    ax = axs[i-1]\n",
    "    ax.plot(X, func(X))\n",
    "    ax.set_aspect('equal')\n",
    "    ax.set_xlim(-1,1)\n",
    "    ax.set_ylim(-1,1)\n",
    "    ax.set_title(fr'$P_{i}(x)$')"
   ]
  },
  {
   "cell_type": "markdown",
   "id": "e775e470",
   "metadata": {},
   "source": [
    "Below we print the five Legendre polynomials, their products, and the integrals of their products. This will show that $\\int P_i P_j = 0$ exactly if $i\\neq j$."
   ]
  },
  {
   "cell_type": "code",
   "execution_count": 7,
   "id": "09a4fd99",
   "metadata": {},
   "outputs": [
    {
     "name": "stdout",
     "output_type": "stream",
     "text": [
      "P_1(x)=x\n",
      "P_1(x)=x\n",
      "P_1(x)P_1(x)=x**2\n",
      "Integral from -1 to 1: 0.66667\n",
      "\n",
      "P_1(x)=x\n",
      "P_2(x)=(3*x**2 - 1)/2\n",
      "P_1(x)P_2(x)=x*(3*x**2 - 1)/2\n",
      "Integral from -1 to 1: 0.00000\n",
      "\n",
      "P_1(x)=x\n",
      "P_3(x)=x*(5*x**2 - 3)/2\n",
      "P_1(x)P_3(x)=x**2*(5*x**2 - 3)/2\n",
      "Integral from -1 to 1: 0.00000\n",
      "\n",
      "P_1(x)=x\n",
      "P_4(x)=(8*x**4 + 24*x**2*(x**2 - 1) + 3*(x**2 - 1)**2)/8\n",
      "P_1(x)P_4(x)=x*(8*x**4 + 24*x**2*(x**2 - 1) + 3*(x**2 - 1)**2)/8\n",
      "Integral from -1 to 1: 0.00000\n",
      "\n",
      "P_1(x)=x\n",
      "P_5(x)=x*(8*x**4 + 40*x**2*(x**2 - 1) + 15*(x**2 - 1)**2)/8\n",
      "P_1(x)P_5(x)=x**2*(8*x**4 + 40*x**2*(x**2 - 1) + 15*(x**2 - 1)**2)/8\n",
      "Integral from -1 to 1: 0.00000\n",
      "\n",
      "P_2(x)=(3*x**2 - 1)/2\n",
      "P_1(x)=x\n",
      "P_2(x)P_1(x)=x*(3*x**2 - 1)/2\n",
      "Integral from -1 to 1: 0.00000\n",
      "\n",
      "P_2(x)=(3*x**2 - 1)/2\n",
      "P_2(x)=(3*x**2 - 1)/2\n",
      "P_2(x)P_2(x)=(3*x**2 - 1)**2/4\n",
      "Integral from -1 to 1: 0.40000\n",
      "\n",
      "P_2(x)=(3*x**2 - 1)/2\n",
      "P_3(x)=x*(5*x**2 - 3)/2\n",
      "P_2(x)P_3(x)=x*(3*x**2 - 1)*(5*x**2 - 3)/4\n",
      "Integral from -1 to 1: 0.00000\n",
      "\n",
      "P_2(x)=(3*x**2 - 1)/2\n",
      "P_4(x)=(8*x**4 + 24*x**2*(x**2 - 1) + 3*(x**2 - 1)**2)/8\n",
      "P_2(x)P_4(x)=(3*x**2 - 1)*(8*x**4 + 24*x**2*(x**2 - 1) + 3*(x**2 - 1)**2)/16\n",
      "Integral from -1 to 1: 0.00000\n",
      "\n",
      "P_2(x)=(3*x**2 - 1)/2\n",
      "P_5(x)=x*(8*x**4 + 40*x**2*(x**2 - 1) + 15*(x**2 - 1)**2)/8\n",
      "P_2(x)P_5(x)=x*(3*x**2 - 1)*(8*x**4 + 40*x**2*(x**2 - 1) + 15*(x**2 - 1)**2)/16\n",
      "Integral from -1 to 1: 0.00000\n",
      "\n",
      "P_3(x)=x*(5*x**2 - 3)/2\n",
      "P_1(x)=x\n",
      "P_3(x)P_1(x)=x**2*(5*x**2 - 3)/2\n",
      "Integral from -1 to 1: 0.00000\n",
      "\n",
      "P_3(x)=x*(5*x**2 - 3)/2\n",
      "P_2(x)=(3*x**2 - 1)/2\n",
      "P_3(x)P_2(x)=x*(3*x**2 - 1)*(5*x**2 - 3)/4\n",
      "Integral from -1 to 1: 0.00000\n",
      "\n",
      "P_3(x)=x*(5*x**2 - 3)/2\n",
      "P_3(x)=x*(5*x**2 - 3)/2\n",
      "P_3(x)P_3(x)=x**2*(5*x**2 - 3)**2/4\n",
      "Integral from -1 to 1: 0.28571\n",
      "\n",
      "P_3(x)=x*(5*x**2 - 3)/2\n",
      "P_4(x)=(8*x**4 + 24*x**2*(x**2 - 1) + 3*(x**2 - 1)**2)/8\n",
      "P_3(x)P_4(x)=x*(5*x**2 - 3)*(8*x**4 + 24*x**2*(x**2 - 1) + 3*(x**2 - 1)**2)/16\n",
      "Integral from -1 to 1: 0.00000\n",
      "\n",
      "P_3(x)=x*(5*x**2 - 3)/2\n",
      "P_5(x)=x*(8*x**4 + 40*x**2*(x**2 - 1) + 15*(x**2 - 1)**2)/8\n",
      "P_3(x)P_5(x)=x**2*(5*x**2 - 3)*(8*x**4 + 40*x**2*(x**2 - 1) + 15*(x**2 - 1)**2)/16\n",
      "Integral from -1 to 1: 0.00000\n",
      "\n",
      "P_4(x)=(8*x**4 + 24*x**2*(x**2 - 1) + 3*(x**2 - 1)**2)/8\n",
      "P_1(x)=x\n",
      "P_4(x)P_1(x)=x*(8*x**4 + 24*x**2*(x**2 - 1) + 3*(x**2 - 1)**2)/8\n",
      "Integral from -1 to 1: 0.00000\n",
      "\n",
      "P_4(x)=(8*x**4 + 24*x**2*(x**2 - 1) + 3*(x**2 - 1)**2)/8\n",
      "P_2(x)=(3*x**2 - 1)/2\n",
      "P_4(x)P_2(x)=(3*x**2 - 1)*(8*x**4 + 24*x**2*(x**2 - 1) + 3*(x**2 - 1)**2)/16\n",
      "Integral from -1 to 1: 0.00000\n",
      "\n",
      "P_4(x)=(8*x**4 + 24*x**2*(x**2 - 1) + 3*(x**2 - 1)**2)/8\n",
      "P_3(x)=x*(5*x**2 - 3)/2\n",
      "P_4(x)P_3(x)=x*(5*x**2 - 3)*(8*x**4 + 24*x**2*(x**2 - 1) + 3*(x**2 - 1)**2)/16\n",
      "Integral from -1 to 1: 0.00000\n",
      "\n",
      "P_4(x)=(8*x**4 + 24*x**2*(x**2 - 1) + 3*(x**2 - 1)**2)/8\n",
      "P_4(x)=(8*x**4 + 24*x**2*(x**2 - 1) + 3*(x**2 - 1)**2)/8\n",
      "P_4(x)P_4(x)=(8*x**4 + 24*x**2*(x**2 - 1) + 3*(x**2 - 1)**2)**2/64\n",
      "Integral from -1 to 1: 0.22222\n",
      "\n",
      "P_4(x)=(8*x**4 + 24*x**2*(x**2 - 1) + 3*(x**2 - 1)**2)/8\n",
      "P_5(x)=x*(8*x**4 + 40*x**2*(x**2 - 1) + 15*(x**2 - 1)**2)/8\n",
      "P_4(x)P_5(x)=x*(8*x**4 + 24*x**2*(x**2 - 1) + 3*(x**2 - 1)**2)*(8*x**4 + 40*x**2*(x**2 - 1) + 15*(x**2 - 1)**2)/64\n",
      "Integral from -1 to 1: 0.00000\n",
      "\n",
      "P_5(x)=x*(8*x**4 + 40*x**2*(x**2 - 1) + 15*(x**2 - 1)**2)/8\n",
      "P_1(x)=x\n",
      "P_5(x)P_1(x)=x**2*(8*x**4 + 40*x**2*(x**2 - 1) + 15*(x**2 - 1)**2)/8\n",
      "Integral from -1 to 1: 0.00000\n",
      "\n",
      "P_5(x)=x*(8*x**4 + 40*x**2*(x**2 - 1) + 15*(x**2 - 1)**2)/8\n",
      "P_2(x)=(3*x**2 - 1)/2\n",
      "P_5(x)P_2(x)=x*(3*x**2 - 1)*(8*x**4 + 40*x**2*(x**2 - 1) + 15*(x**2 - 1)**2)/16\n",
      "Integral from -1 to 1: 0.00000\n",
      "\n",
      "P_5(x)=x*(8*x**4 + 40*x**2*(x**2 - 1) + 15*(x**2 - 1)**2)/8\n",
      "P_3(x)=x*(5*x**2 - 3)/2\n",
      "P_5(x)P_3(x)=x**2*(5*x**2 - 3)*(8*x**4 + 40*x**2*(x**2 - 1) + 15*(x**2 - 1)**2)/16\n",
      "Integral from -1 to 1: 0.00000\n",
      "\n",
      "P_5(x)=x*(8*x**4 + 40*x**2*(x**2 - 1) + 15*(x**2 - 1)**2)/8\n",
      "P_4(x)=(8*x**4 + 24*x**2*(x**2 - 1) + 3*(x**2 - 1)**2)/8\n",
      "P_5(x)P_4(x)=x*(8*x**4 + 24*x**2*(x**2 - 1) + 3*(x**2 - 1)**2)*(8*x**4 + 40*x**2*(x**2 - 1) + 15*(x**2 - 1)**2)/64\n",
      "Integral from -1 to 1: 0.00000\n",
      "\n",
      "P_5(x)=x*(8*x**4 + 40*x**2*(x**2 - 1) + 15*(x**2 - 1)**2)/8\n",
      "P_5(x)=x*(8*x**4 + 40*x**2*(x**2 - 1) + 15*(x**2 - 1)**2)/8\n",
      "P_5(x)P_5(x)=x**2*(8*x**4 + 40*x**2*(x**2 - 1) + 15*(x**2 - 1)**2)**2/64\n",
      "Integral from -1 to 1: 0.18182\n",
      "\n"
     ]
    }
   ],
   "source": [
    "for i in range(5):\n",
    "    for j in range(5):\n",
    "        # Compute the product of P_i and P_j symbolically\n",
    "        prod = exprs[i] * exprs[j]\n",
    "        \n",
    "        # Create a Python function from the symbolic expression\n",
    "        func = lambdify(x, prod)\n",
    "        \n",
    "        # Compute the integral of the product\n",
    "        integ = quad(func,-1,1)\n",
    "        \n",
    "        # Print P_i, P_j, P_i*P_j, and the integral\n",
    "        print(f'P_{i+1}(x)={exprs[i]}')\n",
    "        print(f'P_{j+1}(x)={exprs[j]}')\n",
    "        print(f'P_{i+1}(x)P_{j+1}(x)={prod}')\n",
    "        print(f'Integral from -1 to 1: {integ[0]:.5f}\\n')"
   ]
  }
 ],
 "metadata": {
  "kernelspec": {
   "display_name": "deeplearn",
   "language": "python",
   "name": "deeplearn"
  },
  "language_info": {
   "codemirror_mode": {
    "name": "ipython",
    "version": 3
   },
   "file_extension": ".py",
   "mimetype": "text/x-python",
   "name": "python",
   "nbconvert_exporter": "python",
   "pygments_lexer": "ipython3",
   "version": "3.10.0"
  }
 },
 "nbformat": 4,
 "nbformat_minor": 5
}
