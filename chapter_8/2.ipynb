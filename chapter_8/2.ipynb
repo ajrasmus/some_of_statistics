{
 "cells": [
  {
   "cell_type": "code",
   "execution_count": 139,
   "id": "3ba5edc3",
   "metadata": {},
   "outputs": [],
   "source": [
    "import numpy as np\n",
    "import pandas as pd\n",
    "import matplotlib.pyplot as plt\n",
    "from scipy.stats import norm"
   ]
  },
  {
   "cell_type": "code",
   "execution_count": 140,
   "id": "54a643fa",
   "metadata": {},
   "outputs": [],
   "source": [
    "np.random.seed(42)"
   ]
  },
  {
   "cell_type": "code",
   "execution_count": 141,
   "id": "13a9036e",
   "metadata": {},
   "outputs": [],
   "source": [
    "n = 50"
   ]
  },
  {
   "cell_type": "markdown",
   "id": "2dcec498",
   "metadata": {},
   "source": [
    "Here Y is a random normal samples as described in the exercise and X is obtained from Y by exponentiating."
   ]
  },
  {
   "cell_type": "code",
   "execution_count": 142,
   "id": "cfe70b36",
   "metadata": {},
   "outputs": [],
   "source": [
    "Y = np.random.normal(size=n)"
   ]
  },
  {
   "cell_type": "code",
   "execution_count": 143,
   "id": "018f23a2",
   "metadata": {},
   "outputs": [],
   "source": [
    "X = np.exp(Y)"
   ]
  },
  {
   "cell_type": "markdown",
   "id": "56c78d8e",
   "metadata": {},
   "source": [
    "Here is a histogram of the random variables $X_i$. We can see that their distribution seems to have positive skew."
   ]
  },
  {
   "cell_type": "code",
   "execution_count": 144,
   "id": "6b766b55",
   "metadata": {},
   "outputs": [
    {
     "data": {
      "text/plain": [
       "Text(0.5, 1.0, 'Histogram of random variables $X_i=e^{Y_i}$')"
      ]
     },
     "execution_count": 144,
     "metadata": {},
     "output_type": "execute_result"
    },
    {
     "data": {
      "image/png": "[encoded data removed]",
      "text/plain": [
       "<Figure size 640x480 with 1 Axes>"
      ]
     },
     "metadata": {},
     "output_type": "display_data"
    }
   ],
   "source": [
    "plt.hist(X)\n",
    "plt.title('Histogram of random variables $X_i=e^{Y_i}$')"
   ]
  },
  {
   "cell_type": "markdown",
   "id": "eaac63cc",
   "metadata": {},
   "source": [
    "We calculate the sample skew below. It does turn out to be positive."
   ]
  },
  {
   "cell_type": "code",
   "execution_count": 145,
   "id": "49a3d82d",
   "metadata": {},
   "outputs": [],
   "source": [
    "skew = lambda x: np.mean((x - np.mean(x))**3)/np.mean((x-np.mean(x))**2)**(3/2)"
   ]
  },
  {
   "cell_type": "code",
   "execution_count": 146,
   "id": "1310a934",
   "metadata": {},
   "outputs": [],
   "source": [
    "T = skew(X)"
   ]
  },
  {
   "cell_type": "code",
   "execution_count": 147,
   "id": "5c9886bb",
   "metadata": {},
   "outputs": [
    {
     "name": "stdout",
     "output_type": "stream",
     "text": [
      "Sample skew: 2.2270\n"
     ]
    }
   ],
   "source": [
    "print('Sample skew: {:.4f}'.format(T))"
   ]
  },
  {
   "cell_type": "markdown",
   "id": "70f9bace",
   "metadata": {},
   "source": [
    "Here we calculate skewness over B bootstrap samples and estimate the standard error using the bootstrap samples."
   ]
  },
  {
   "cell_type": "code",
   "execution_count": 148,
   "id": "ff68c657",
   "metadata": {},
   "outputs": [],
   "source": [
    "B = int(1e5)"
   ]
  },
  {
   "cell_type": "code",
   "execution_count": 149,
   "id": "a1ab504c",
   "metadata": {},
   "outputs": [],
   "source": [
    "T_boot = np.empty(B)"
   ]
  },
  {
   "cell_type": "code",
   "execution_count": 150,
   "id": "a1e53f02",
   "metadata": {},
   "outputs": [],
   "source": [
    "for i in range(B):\n",
    "    X_star = np.random.choice(X, size=n, replace=True)\n",
    "    T_boot[i] = skew(X_star)"
   ]
  },
  {
   "cell_type": "code",
   "execution_count": 151,
   "id": "197c6dd4",
   "metadata": {},
   "outputs": [
    {
     "data": {
      "text/plain": [
       "Text(0.5, 1.0, 'Histogram of skews over B bootstrap samples')"
      ]
     },
     "execution_count": 151,
     "metadata": {},
     "output_type": "execute_result"
    },
    {
     "data": {
      "image/png": "[encoded data removed]",
      "text/plain": [
       "<Figure size 640x480 with 1 Axes>"
      ]
     },
     "metadata": {},
     "output_type": "display_data"
    }
   ],
   "source": [
    "plt.hist(T_boot, bins=20)\n",
    "plt.title('Histogram of skews over B bootstrap samples')"
   ]
  },
  {
   "cell_type": "code",
   "execution_count": 152,
   "id": "1aeddb76",
   "metadata": {},
   "outputs": [],
   "source": [
    "se = np.std(T_boot)"
   ]
  },
  {
   "cell_type": "code",
   "execution_count": 153,
   "id": "543c55d4",
   "metadata": {},
   "outputs": [],
   "source": [
    "alpha = 0.05"
   ]
  },
  {
   "cell_type": "code",
   "execution_count": 154,
   "id": "078a14e7",
   "metadata": {},
   "outputs": [],
   "source": [
    "z = norm.ppf(1-alpha/2)"
   ]
  },
  {
   "cell_type": "code",
   "execution_count": 155,
   "id": "a8a434fb",
   "metadata": {},
   "outputs": [],
   "source": [
    "low_quant = np.quantile(T_boot, alpha/2)"
   ]
  },
  {
   "cell_type": "code",
   "execution_count": 156,
   "id": "67e82279",
   "metadata": {},
   "outputs": [],
   "source": [
    "up_quant = np.quantile(T_boot, 1-alpha/2)"
   ]
  },
  {
   "cell_type": "markdown",
   "id": "509a0967",
   "metadata": {},
   "source": [
    "We calculate confidence intervals using the standard methods."
   ]
  },
  {
   "cell_type": "code",
   "execution_count": 157,
   "id": "7e84aa9f",
   "metadata": {},
   "outputs": [
    {
     "name": "stdout",
     "output_type": "stream",
     "text": [
      "Estimated skewness: 2.227\n",
      "Estimated standard error: 0.468\n",
      "Normal inverval: (1.3092, 3.1447)\n",
      "Pivotal interval: (1.2857, 3.1292)\n",
      "Percentile interval: (1.3247, 3.1682)\n"
     ]
    }
   ],
   "source": [
    "print('Estimated skewness: {:.3f}'.format(T))\n",
    "print('Estimated standard error: {:.3f}'.format(se))\n",
    "print('Normal inverval: ({0:.4f}, {1:.4f})'.format(T-z*se, T+z*se))\n",
    "print('Pivotal interval: ({0:.4f}, {1:.4f})'.format(2*T-up_quant, 2*T-low_quant))\n",
    "print('Percentile interval: ({0:.4f}, {1:.4f})'.format(low_quant, up_quant))"
   ]
  },
  {
   "cell_type": "markdown",
   "id": "18cd5baa",
   "metadata": {},
   "source": [
    "Now let's repeat the same experiment 30 times and calculate confidence intervals each time. Below, normal_lows will be an array of the lower bounds of the normal confidence intervals that we calculate on each repetition. Similarly for pivotal and percentile. skews will hold the sample skews for each repetition, and ses will hold the estimated standard errors for each repetition."
   ]
  },
  {
   "cell_type": "code",
   "execution_count": 158,
   "id": "240a469d",
   "metadata": {},
   "outputs": [],
   "source": [
    "reps = 30"
   ]
  },
  {
   "cell_type": "code",
   "execution_count": 159,
   "id": "3b3961a8",
   "metadata": {},
   "outputs": [],
   "source": [
    "normal_lows = np.empty(reps)\n",
    "normal_ups = np.empty(reps)\n",
    "pivotal_lows = np.empty(reps)\n",
    "pivotal_ups = np.empty(reps)\n",
    "percentile_lows = np.empty(reps)\n",
    "percentile_ups = np.empty(reps)\n",
    "skews = np.empty(reps)\n",
    "ses = np.empty(reps)"
   ]
  },
  {
   "cell_type": "code",
   "execution_count": 160,
   "id": "4161ab83",
   "metadata": {},
   "outputs": [
    {
     "name": "stdout",
     "output_type": "stream",
     "text": [
      "Estimated skewness: 1.1511\n",
      "Estimated standard error: 0.2895\n",
      "Normal inverval: (0.58363, 1.71857)\n",
      "Pivotal interval: (0.53410, 1.66396)\n",
      "Percentile interval: (0.63824, 1.76810)\n",
      "\n",
      "Estimated skewness: 2.0844\n",
      "Estimated standard error: 0.4715\n",
      "Normal inverval: (1.16025, 3.00847)\n",
      "Pivotal interval: (1.27405, 3.16504)\n",
      "Percentile interval: (1.00368, 2.89468)\n",
      "\n",
      "Estimated skewness: 1.8877\n",
      "Estimated standard error: 0.5174\n",
      "Normal inverval: (0.87356, 2.90188)\n",
      "Pivotal interval: (1.19814, 3.20085)\n",
      "Percentile interval: (0.57459, 2.57730)\n",
      "\n",
      "Estimated skewness: 1.9348\n",
      "Estimated standard error: 0.4451\n",
      "Normal inverval: (1.06240, 2.80716)\n",
      "Pivotal interval: (1.13411, 2.87616)\n",
      "Percentile interval: (0.99340, 2.73546)\n",
      "\n",
      "Estimated skewness: 1.2032\n",
      "Estimated standard error: 0.3065\n",
      "Normal inverval: (0.60246, 1.80403)\n",
      "Pivotal interval: (0.55737, 1.76319)\n",
      "Percentile interval: (0.64330, 1.84912)\n",
      "\n",
      "Estimated skewness: 1.6745\n",
      "Estimated standard error: 0.3477\n",
      "Normal inverval: (0.99295, 2.35600)\n",
      "Pivotal interval: (0.96515, 2.33270)\n",
      "Percentile interval: (1.01624, 2.38380)\n",
      "\n",
      "Estimated skewness: 2.3303\n",
      "Estimated standard error: 0.6357\n",
      "Normal inverval: (1.08431, 3.57628)\n",
      "Pivotal interval: (1.45073, 3.76527)\n",
      "Percentile interval: (0.89532, 3.20986)\n",
      "\n",
      "Estimated skewness: 2.2018\n",
      "Estimated standard error: 0.5973\n",
      "Normal inverval: (1.03124, 3.37244)\n",
      "Pivotal interval: (1.47720, 3.83390)\n",
      "Percentile interval: (0.56978, 2.92649)\n",
      "\n",
      "Estimated skewness: 2.3421\n",
      "Estimated standard error: 0.5135\n",
      "Normal inverval: (1.33573, 3.34852)\n",
      "Pivotal interval: (1.56023, 3.93030)\n",
      "Percentile interval: (0.75395, 3.12403)\n",
      "\n",
      "Estimated skewness: 2.1297\n",
      "Estimated standard error: 0.4535\n",
      "Normal inverval: (1.24082, 3.01860)\n",
      "Pivotal interval: (1.37482, 3.31914)\n",
      "Percentile interval: (0.94028, 2.88460)\n",
      "\n",
      "Estimated skewness: 2.1048\n",
      "Estimated standard error: 0.6185\n",
      "Normal inverval: (0.89262, 3.31690)\n",
      "Pivotal interval: (1.27823, 3.47827)\n",
      "Percentile interval: (0.73125, 2.93129)\n",
      "\n",
      "Estimated skewness: 2.3215\n",
      "Estimated standard error: 0.6181\n",
      "Normal inverval: (1.10994, 3.53301)\n",
      "Pivotal interval: (1.52134, 3.94283)\n",
      "Percentile interval: (0.70012, 3.12161)\n",
      "\n",
      "Estimated skewness: 3.1252\n",
      "Estimated standard error: 0.7673\n",
      "Normal inverval: (1.62141, 4.62903)\n",
      "Pivotal interval: (1.96556, 4.89828)\n",
      "Percentile interval: (1.35215, 4.28488)\n",
      "\n",
      "Estimated skewness: 1.2830\n",
      "Estimated standard error: 0.2735\n",
      "Normal inverval: (0.74700, 1.81910)\n",
      "Pivotal interval: (0.73188, 1.80942)\n",
      "Percentile interval: (0.75668, 1.83422)\n",
      "\n",
      "Estimated skewness: 1.1849\n",
      "Estimated standard error: 0.3661\n",
      "Normal inverval: (0.46744, 1.90240)\n",
      "Pivotal interval: (0.56165, 1.94576)\n",
      "Percentile interval: (0.42409, 1.80820)\n",
      "\n",
      "Estimated skewness: 0.9341\n",
      "Estimated standard error: 0.2616\n",
      "Normal inverval: (0.42140, 1.44682)\n",
      "Pivotal interval: (0.38695, 1.41561)\n",
      "Percentile interval: (0.45261, 1.48127)\n",
      "\n",
      "Estimated skewness: 2.7434\n",
      "Estimated standard error: 0.6297\n",
      "Normal inverval: (1.50933, 3.97756)\n",
      "Pivotal interval: (1.41222, 3.86391)\n",
      "Percentile interval: (1.62299, 4.07467)\n",
      "\n",
      "Estimated skewness: 1.5750\n",
      "Estimated standard error: 0.3691\n",
      "Normal inverval: (0.85163, 2.29838)\n",
      "Pivotal interval: (0.96839, 2.45657)\n",
      "Percentile interval: (0.69344, 2.18162)\n",
      "\n",
      "Estimated skewness: 3.4012\n",
      "Estimated standard error: 0.8492\n",
      "Normal inverval: (1.73673, 5.06570)\n",
      "Pivotal interval: (2.05336, 5.60786)\n",
      "Percentile interval: (1.19456, 4.74906)\n",
      "\n",
      "Estimated skewness: 3.0098\n",
      "Estimated standard error: 0.7110\n",
      "Normal inverval: (1.61623, 4.40332)\n",
      "Pivotal interval: (1.82630, 4.53469)\n",
      "Percentile interval: (1.48486, 4.19326)\n",
      "\n",
      "Estimated skewness: 3.2540\n",
      "Estimated standard error: 0.8928\n",
      "Normal inverval: (1.50405, 5.00385)\n",
      "Pivotal interval: (2.18634, 5.64771)\n",
      "Percentile interval: (0.86019, 4.32157)\n",
      "\n",
      "Estimated skewness: 1.9722\n",
      "Estimated standard error: 0.4475\n",
      "Normal inverval: (1.09515, 2.84921)\n",
      "Pivotal interval: (1.17040, 2.95894)\n",
      "Percentile interval: (0.98542, 2.77396)\n",
      "\n",
      "Estimated skewness: 2.8756\n",
      "Estimated standard error: 0.6852\n",
      "Normal inverval: (1.53260, 4.21870)\n",
      "Pivotal interval: (1.72143, 4.40193)\n",
      "Percentile interval: (1.34936, 4.02987)\n",
      "\n",
      "Estimated skewness: 2.0566\n",
      "Estimated standard error: 0.5727\n",
      "Normal inverval: (0.93410, 3.17913)\n",
      "Pivotal interval: (1.24317, 3.35237)\n",
      "Percentile interval: (0.76087, 2.87006)\n",
      "\n",
      "Estimated skewness: 3.0546\n",
      "Estimated standard error: 0.7166\n",
      "Normal inverval: (1.65006, 4.45916)\n",
      "Pivotal interval: (1.46261, 4.36347)\n",
      "Percentile interval: (1.74576, 4.64662)\n",
      "\n",
      "Estimated skewness: 1.3664\n",
      "Estimated standard error: 0.3254\n",
      "Normal inverval: (0.72864, 2.00417)\n",
      "Pivotal interval: (0.70705, 1.98612)\n",
      "Percentile interval: (0.74669, 2.02576)\n",
      "\n",
      "Estimated skewness: 1.7248\n",
      "Estimated standard error: 0.3564\n",
      "Normal inverval: (1.02625, 2.42337)\n",
      "Pivotal interval: (1.02609, 2.43979)\n",
      "Percentile interval: (1.00982, 2.42353)\n",
      "\n",
      "Estimated skewness: 3.3222\n",
      "Estimated standard error: 0.7934\n",
      "Normal inverval: (1.76713, 4.87730)\n",
      "Pivotal interval: (2.08629, 5.16121)\n",
      "Percentile interval: (1.48322, 4.55814)\n",
      "\n",
      "Estimated skewness: 2.8128\n",
      "Estimated standard error: 0.8117\n",
      "Normal inverval: (1.22193, 4.40366)\n",
      "Pivotal interval: (1.89308, 4.70077)\n",
      "Percentile interval: (0.92483, 3.73252)\n",
      "\n",
      "Estimated skewness: 1.2965\n",
      "Estimated standard error: 0.3046\n",
      "Normal inverval: (0.69951, 1.89348)\n",
      "Pivotal interval: (0.73098, 1.93470)\n",
      "Percentile interval: (0.65829, 1.86200)\n",
      "\n"
     ]
    }
   ],
   "source": [
    "for i in range(reps):\n",
    "    Y = np.random.normal(size=n)\n",
    "    X = np.exp(Y)\n",
    "    T = skew(X)\n",
    "    T_boot = np.empty(B)\n",
    "    for j in range(B):\n",
    "        X_star = np.random.choice(X, size=n, replace=True)\n",
    "        T_boot[j] = skew(X_star)\n",
    "    se = np.std(T_boot)\n",
    "    low_quant = np.quantile(T_boot, 0.025)\n",
    "    up_quant = np.quantile(T_boot, 0.975)\n",
    "    normal_low = T-z*se\n",
    "    normal_up = T+z*se\n",
    "    pivotal_low = 2*T-up_quant\n",
    "    pivotal_up = 2*T-low_quant\n",
    "    percentile_low = low_quant\n",
    "    percentile_up = up_quant\n",
    "    normal_lows[i] = normal_low\n",
    "    normal_ups[i] = normal_up\n",
    "    percentile_lows[i] = percentile_low\n",
    "    percentile_ups[i] = percentile_up\n",
    "    pivotal_lows[i] = pivotal_low\n",
    "    pivotal_ups[i] = pivotal_up\n",
    "    skews[i] = T\n",
    "    ses[i] = se\n",
    "    print('Estimated skewness: {:.4f}'.format(T))\n",
    "    print('Estimated standard error: {:.4f}'.format(se))\n",
    "    print('Normal inverval: ({0:.5f}, {1:.5f})'.format(normal_low, normal_up))\n",
    "    print('Pivotal interval: ({0:.5f}, {1:.5f})'.format(pivotal_low, pivotal_up))\n",
    "    print('Percentile interval: ({0:.5f}, {1:.5f})'.format(percentile_low, percentile_up))\n",
    "    print('')"
   ]
  },
  {
   "cell_type": "markdown",
   "id": "2d544d63",
   "metadata": {},
   "source": [
    "Let's draw some histograms."
   ]
  },
  {
   "cell_type": "code",
   "execution_count": 161,
   "id": "228f866b",
   "metadata": {},
   "outputs": [
    {
     "data": {
      "text/plain": [
       "Text(0.5, 1.0, 'Histogram of calculated skews over 30 samples of size 50 from $N(0,1)$')"
      ]
     },
     "execution_count": 161,
     "metadata": {},
     "output_type": "execute_result"
    },
    {
     "data": {
      "image/png": "[encoded data removed]",
      "text/plain": [
       "<Figure size 640x480 with 1 Axes>"
      ]
     },
     "metadata": {},
     "output_type": "display_data"
    }
   ],
   "source": [
    "plt.hist(skews, bins=10)\n",
    "plt.title('Histogram of calculated skews over 30 samples of size 50 from $N(0,1)$')"
   ]
  },
  {
   "cell_type": "code",
   "execution_count": 162,
   "id": "13e52019",
   "metadata": {},
   "outputs": [
    {
     "data": {
      "text/plain": [
       "Text(0.5, 1.0, 'Histogram of normal confidence interval lower bounds')"
      ]
     },
     "execution_count": 162,
     "metadata": {},
     "output_type": "execute_result"
    },
    {
     "data": {
      "image/png": "[encoded data removed]",
      "text/plain": [
       "<Figure size 640x480 with 1 Axes>"
      ]
     },
     "metadata": {},
     "output_type": "display_data"
    }
   ],
   "source": [
    "plt.hist(normal_lows, bins=10)\n",
    "plt.title('Histogram of normal confidence interval lower bounds')"
   ]
  },
  {
   "cell_type": "code",
   "execution_count": 163,
   "id": "bcd932d0",
   "metadata": {},
   "outputs": [
    {
     "data": {
      "text/plain": [
       "Text(0.5, 1.0, 'Histogram of normal confidence interval upper bounds')"
      ]
     },
     "execution_count": 163,
     "metadata": {},
     "output_type": "execute_result"
    },
    {
     "data": {
      "image/png": "[encoded data removed]",
      "text/plain": [
       "<Figure size 640x480 with 1 Axes>"
      ]
     },
     "metadata": {},
     "output_type": "display_data"
    }
   ],
   "source": [
    "plt.hist(normal_ups, bins=10)\n",
    "plt.title('Histogram of normal confidence interval upper bounds')"
   ]
  },
  {
   "cell_type": "markdown",
   "id": "e1b2a814",
   "metadata": {},
   "source": [
    "I'll estimate true confidence intervals from each method by using the average of the confidence intervals over the 30 different repetitions. These tend to be a little bit bigger than the intervals we originally calculated."
   ]
  },
  {
   "cell_type": "code",
   "execution_count": 164,
   "id": "f0b3699f",
   "metadata": {},
   "outputs": [
    {
     "name": "stdout",
     "output_type": "stream",
     "text": [
      "Estimated normal interval: (1.10335, 3.18721)\n",
      "Estimated pivotal interval: (1.28197, 3.35836)\n",
      "Estimated percentile interval: (0.93220, 3.00858)\n"
     ]
    }
   ],
   "source": [
    "print('Estimated normal interval: ({0:.5f}, {1:.5f})'.format(np.mean(normal_lows), np.mean(normal_ups)))\n",
    "print('Estimated pivotal interval: ({0:.5f}, {1:.5f})'.format(np.mean(pivotal_lows), np.mean(pivotal_ups)))\n",
    "print('Estimated percentile interval: ({0:.5f}, {1:.5f})'.format(np.mean(percentile_lows), np.mean(percentile_ups)))"
   ]
  }
 ],
 "metadata": {
  "kernelspec": {
   "display_name": "cs224n-cpu",
   "language": "python",
   "name": "cs224n-cpu"
  },
  "language_info": {
   "codemirror_mode": {
    "name": "ipython",
    "version": 3
   },
   "file_extension": ".py",
   "mimetype": "text/x-python",
   "name": "python",
   "nbconvert_exporter": "python",
   "pygments_lexer": "ipython3",
   "version": "3.10.0"
  }
 },
 "nbformat": 4,
 "nbformat_minor": 5
}
