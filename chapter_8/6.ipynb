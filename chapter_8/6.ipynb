{
 "cells": [
  {
   "cell_type": "code",
   "execution_count": 177,
   "id": "2c14b39c",
   "metadata": {},
   "outputs": [],
   "source": [
    "import numpy as np\n",
    "import matplotlib.pyplot as plt\n",
    "from scipy.stats import norm\n",
    "from scipy import signal"
   ]
  },
  {
   "cell_type": "code",
   "execution_count": 178,
   "id": "bdc2fb3b",
   "metadata": {},
   "outputs": [],
   "source": [
    "np.random.seed(42)"
   ]
  },
  {
   "cell_type": "markdown",
   "id": "8c31c270",
   "metadata": {},
   "source": [
    "Part (a)\n",
    "--"
   ]
  },
  {
   "cell_type": "markdown",
   "id": "ec62b32a",
   "metadata": {},
   "source": [
    "First let's estimate theta, standard error, and confidence intervals, using the standard bootstrapping methods."
   ]
  },
  {
   "cell_type": "code",
   "execution_count": 179,
   "id": "5efffabd",
   "metadata": {},
   "outputs": [],
   "source": [
    "n = 100"
   ]
  },
  {
   "cell_type": "code",
   "execution_count": 180,
   "id": "b0e37442",
   "metadata": {},
   "outputs": [],
   "source": [
    "mu = 5"
   ]
  },
  {
   "cell_type": "code",
   "execution_count": 181,
   "id": "78471494",
   "metadata": {},
   "outputs": [],
   "source": [
    "sigma = 1"
   ]
  },
  {
   "cell_type": "code",
   "execution_count": 182,
   "id": "d6396576",
   "metadata": {},
   "outputs": [],
   "source": [
    "X = np.random.normal(loc=mu, scale=sigma, size=n)"
   ]
  },
  {
   "cell_type": "code",
   "execution_count": 183,
   "id": "b9dbec93",
   "metadata": {},
   "outputs": [],
   "source": [
    "theta = np.exp(mu)"
   ]
  },
  {
   "cell_type": "code",
   "execution_count": 184,
   "id": "fce4989d",
   "metadata": {},
   "outputs": [],
   "source": [
    "X_bar = np.mean(X)"
   ]
  },
  {
   "cell_type": "code",
   "execution_count": 185,
   "id": "cb00a15e",
   "metadata": {},
   "outputs": [],
   "source": [
    "theta_hat = np.exp(X_bar)"
   ]
  },
  {
   "cell_type": "code",
   "execution_count": 186,
   "id": "8e96a74f",
   "metadata": {},
   "outputs": [],
   "source": [
    "B = int(1e5)"
   ]
  },
  {
   "cell_type": "code",
   "execution_count": 187,
   "id": "791ee82d",
   "metadata": {},
   "outputs": [],
   "source": [
    "T_boot = np.empty(B)"
   ]
  },
  {
   "cell_type": "code",
   "execution_count": 188,
   "id": "1c8de9d2",
   "metadata": {},
   "outputs": [],
   "source": [
    "for i in range(B):\n",
    "    X_star = np.random.choice(X, size=n, replace=True)\n",
    "    T_boot[i] = np.exp(np.mean(X_star))"
   ]
  },
  {
   "cell_type": "code",
   "execution_count": 189,
   "id": "894d69ab",
   "metadata": {},
   "outputs": [],
   "source": [
    "se = np.std(T_boot)"
   ]
  },
  {
   "cell_type": "code",
   "execution_count": 190,
   "id": "c9fec0fe",
   "metadata": {},
   "outputs": [],
   "source": [
    "low_quant = np.quantile(T_boot, 0.025)"
   ]
  },
  {
   "cell_type": "code",
   "execution_count": 191,
   "id": "af2486a2",
   "metadata": {},
   "outputs": [],
   "source": [
    "up_quant = np.quantile(T_boot, 0.975)"
   ]
  },
  {
   "cell_type": "code",
   "execution_count": 192,
   "id": "2233f1c6",
   "metadata": {},
   "outputs": [
    {
     "name": "stdout",
     "output_type": "stream",
     "text": [
      "Actual theta: 148.4132\n",
      "Estimated theta: 133.7742\n",
      "Estimated standard error: 12.1581\n",
      "Normal inverval: (109.4580,158.0905)\n",
      "Pivotal interval: (108.0149,155.7411)\n",
      "Percentile interval: (111.8074,159.5336)\n"
     ]
    }
   ],
   "source": [
    "print('Actual theta: {:.4f}'.format(theta))\n",
    "print('Estimated theta: {:.4f}'.format(theta_hat))\n",
    "print('Estimated standard error: {:.4f}'.format(se))\n",
    "print('Normal inverval: ({:.4f},{:.4f})'.format(theta_hat-2*se, theta_hat+2*se))\n",
    "print('Pivotal interval: ({:.4f},{:.4f})'.format(2*theta_hat-up_quant, 2*theta_hat-low_quant))\n",
    "print('Percentile interval: ({:.4f},{:.4f})'.format(low_quant, up_quant))"
   ]
  },
  {
   "cell_type": "markdown",
   "id": "b4fde52d",
   "metadata": {},
   "source": [
    "Part (b)\n",
    "--"
   ]
  },
  {
   "cell_type": "markdown",
   "id": "42e06b86",
   "metadata": {},
   "source": [
    "Here is a histogram of the "
   ]
  },
  {
   "cell_type": "code",
   "execution_count": 193,
   "id": "e62e103b",
   "metadata": {},
   "outputs": [
    {
     "data": {
      "text/plain": [
       "Text(0.5, 1.0, 'Histogram of $e^{\\\\overline{X}}$ sampled from empirical distribution')"
      ]
     },
     "execution_count": 193,
     "metadata": {},
     "output_type": "execute_result"
    },
    {
     "data": {
      "image/png": "[encoded data removed]",
      "text/plain": [
       "<Figure size 640x480 with 1 Axes>"
      ]
     },
     "metadata": {},
     "output_type": "display_data"
    }
   ],
   "source": [
    "plt.hist(T_boot, bins=100)\n",
    "plt.title(r'Histogram of $e^{\\overline{X}}$ sampled from empirical distribution')"
   ]
  },
  {
   "cell_type": "markdown",
   "id": "5b7e2c5d",
   "metadata": {},
   "source": [
    "Now we estimate the actual sampling distribution of $e^{\\overline X}$ by sampling from a normal distribution. The PDF in this case could be computed analytically by using the fact that $\\overline X$ is normal (as a mean of independent normal random variables) and using the standard methods for computing the PDF of its transformation $e^{\\overline X}$."
   ]
  },
  {
   "cell_type": "code",
   "execution_count": 194,
   "id": "7ea4c0b2",
   "metadata": {},
   "outputs": [],
   "source": [
    "sampled = np.empty(B)"
   ]
  },
  {
   "cell_type": "code",
   "execution_count": 195,
   "id": "da150091",
   "metadata": {},
   "outputs": [],
   "source": [
    "for i in range(B):\n",
    "    Y = np.mean(np.random.normal(loc=mu, scale=sigma, size=n))\n",
    "    sampled[i] = np.exp(Y)"
   ]
  },
  {
   "cell_type": "code",
   "execution_count": 196,
   "id": "5e5385b6",
   "metadata": {},
   "outputs": [
    {
     "data": {
      "text/plain": [
       "Text(0.5, 1.0, 'Histogram of $e^{\\\\overline{X}}$ sampled from a normal distribution')"
      ]
     },
     "execution_count": 196,
     "metadata": {},
     "output_type": "execute_result"
    },
    {
     "data": {
      "image/png": "[encoded data removed]",
      "text/plain": [
       "<Figure size 640x480 with 1 Axes>"
      ]
     },
     "metadata": {},
     "output_type": "display_data"
    }
   ],
   "source": [
    "plt.hist(sampled, bins=100)\n",
    "plt.title(r'Histogram of $e^{\\overline{X}}$ sampled from a normal distribution')"
   ]
  },
  {
   "cell_type": "code",
   "execution_count": 198,
   "id": "e1a6c80d",
   "metadata": {},
   "outputs": [
    {
     "data": {
      "text/plain": [
       "Text(0.5, 1.0, 'Histogram of $e^{\\\\overline{X}}$ sampled from both methods')"
      ]
     },
     "execution_count": 198,
     "metadata": {},
     "output_type": "execute_result"
    },
    {
     "data": {
      "image/png": "[encoded data removed]",
      "text/plain": [
       "<Figure size 640x480 with 1 Axes>"
      ]
     },
     "metadata": {},
     "output_type": "display_data"
    }
   ],
   "source": [
    "plt.hist(T_boot, bins=100, alpha=0.5, label='bootstrapped')\n",
    "plt.hist(sampled, bins=100, alpha=0.5, label='sampled from normal')\n",
    "plt.legend()\n",
    "plt.title(r'Histogram of $e^{\\overline{X}}$ sampled from both methods')"
   ]
  },
  {
   "cell_type": "markdown",
   "id": "8a71e410",
   "metadata": {},
   "source": [
    "As you can see, the distributions are close but clearly not equal."
   ]
  }
 ],
 "metadata": {
  "kernelspec": {
   "display_name": "cs224n-cpu",
   "language": "python",
   "name": "cs224n-cpu"
  },
  "language_info": {
   "codemirror_mode": {
    "name": "ipython",
    "version": 3
   },
   "file_extension": ".py",
   "mimetype": "text/x-python",
   "name": "python",
   "nbconvert_exporter": "python",
   "pygments_lexer": "ipython3",
   "version": "3.10.0"
  }
 },
 "nbformat": 4,
 "nbformat_minor": 5
}
