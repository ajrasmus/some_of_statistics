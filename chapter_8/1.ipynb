{
 "cells": [
  {
   "cell_type": "code",
   "execution_count": 128,
   "id": "db5250a9",
   "metadata": {},
   "outputs": [],
   "source": [
    "import pandas as pd\n",
    "import numpy as np\n",
    "import matplotlib.pyplot as plt\n",
    "from scipy.stats import norm"
   ]
  },
  {
   "cell_type": "code",
   "execution_count": 129,
   "id": "ef74b80a",
   "metadata": {},
   "outputs": [],
   "source": [
    "np.random.seed(42)"
   ]
  },
  {
   "cell_type": "code",
   "execution_count": 130,
   "id": "eda9d607",
   "metadata": {},
   "outputs": [],
   "source": [
    "df = pd.DataFrame({\n",
    "    'LSAT': [576, 635,558,578,666,580,555,661,\n",
    "             651,605,653,575,545,572,594],\n",
    "    'GPA': [3.39,3.30,2.81,3.03,3.44,3.07,3.00,3.43,\n",
    "            3.36,3.13,3.12,2.74,2.76,2.88,3.96]\n",
    "})"
   ]
  },
  {
   "cell_type": "code",
   "execution_count": 131,
   "id": "a26f6716",
   "metadata": {},
   "outputs": [],
   "source": [
    "x = np.array(df['LSAT'])"
   ]
  },
  {
   "cell_type": "code",
   "execution_count": 132,
   "id": "b49d6d08",
   "metadata": {},
   "outputs": [],
   "source": [
    "y = np.array(df['GPA'])"
   ]
  },
  {
   "cell_type": "markdown",
   "id": "c6379fdb",
   "metadata": {},
   "source": [
    "First we calculate the plug-in estimator for the correlation coefficient. This is the correlation coefficient between the vectors x and y, calculated below as theta_hat."
   ]
  },
  {
   "cell_type": "code",
   "execution_count": 133,
   "id": "3c1f5ffb",
   "metadata": {},
   "outputs": [],
   "source": [
    "theta_hat = np.mean((x - np.mean(x)) * (y - np.mean(y))) / (np.std(x) * np.std(y))"
   ]
  },
  {
   "cell_type": "code",
   "execution_count": 134,
   "id": "940ddca3",
   "metadata": {},
   "outputs": [
    {
     "name": "stdout",
     "output_type": "stream",
     "text": [
      "Plug-in estimate of correlation coefficient: 0.5459\n"
     ]
    }
   ],
   "source": [
    "print('Plug-in estimate of correlation coefficient: {:.4f}'.format(corr))"
   ]
  },
  {
   "cell_type": "markdown",
   "id": "3ab8b143",
   "metadata": {},
   "source": [
    "Now we estimate the standard error by bootstrapping. We calculate a vector T_boot below and then compute its variance. We calculate T_boot it in two steps. First we find X_stars, which consists of B bootstrap samples. Then we compute the correlation coefficients of each boostrap sample in X_stars."
   ]
  },
  {
   "cell_type": "code",
   "execution_count": 135,
   "id": "60a8a5aa",
   "metadata": {},
   "outputs": [],
   "source": [
    "n = len(x)"
   ]
  },
  {
   "cell_type": "code",
   "execution_count": 136,
   "id": "8e07a205",
   "metadata": {},
   "outputs": [],
   "source": [
    "xy = np.array(df)"
   ]
  },
  {
   "cell_type": "code",
   "execution_count": 137,
   "id": "edad18ed",
   "metadata": {},
   "outputs": [],
   "source": [
    "B = int(1e5)"
   ]
  },
  {
   "cell_type": "code",
   "execution_count": 138,
   "id": "87a77fdd",
   "metadata": {},
   "outputs": [],
   "source": [
    "X_stars = [xy[np.random.randint(low=0, high=n, size=n),:] for _ in range(B)]"
   ]
  },
  {
   "cell_type": "code",
   "execution_count": 139,
   "id": "cdc2309c",
   "metadata": {},
   "outputs": [
    {
     "data": {
      "text/plain": [
       "[array([[555.  ,   3.  ],\n",
       "        [578.  ,   3.03],\n",
       "        [545.  ,   2.76],\n",
       "        [594.  ,   3.96],\n",
       "        [653.  ,   3.12],\n",
       "        [661.  ,   3.43],\n",
       "        [545.  ,   2.76],\n",
       "        [666.  ,   3.44],\n",
       "        [555.  ,   3.  ],\n",
       "        [605.  ,   3.13],\n",
       "        [558.  ,   2.81],\n",
       "        [555.  ,   3.  ],\n",
       "        [653.  ,   3.12],\n",
       "        [653.  ,   3.12],\n",
       "        [661.  ,   3.43]]),\n",
       " array([[666.  ,   3.44],\n",
       "        [578.  ,   3.03],\n",
       "        [661.  ,   3.43],\n",
       "        [661.  ,   3.43],\n",
       "        [558.  ,   2.81],\n",
       "        [580.  ,   3.07],\n",
       "        [666.  ,   3.44],\n",
       "        [635.  ,   3.3 ],\n",
       "        [661.  ,   3.43],\n",
       "        [575.  ,   2.74],\n",
       "        [572.  ,   2.88],\n",
       "        [580.  ,   3.07],\n",
       "        [635.  ,   3.3 ],\n",
       "        [575.  ,   2.74],\n",
       "        [666.  ,   3.44]]),\n",
       " array([[576.  ,   3.39],\n",
       "        [575.  ,   2.74],\n",
       "        [605.  ,   3.13],\n",
       "        [580.  ,   3.07],\n",
       "        [545.  ,   2.76],\n",
       "        [575.  ,   2.74],\n",
       "        [651.  ,   3.36],\n",
       "        [576.  ,   3.39],\n",
       "        [653.  ,   3.12],\n",
       "        [653.  ,   3.12],\n",
       "        [594.  ,   3.96],\n",
       "        [605.  ,   3.13],\n",
       "        [575.  ,   2.74],\n",
       "        [575.  ,   2.74],\n",
       "        [594.  ,   3.96]])]"
      ]
     },
     "execution_count": 139,
     "metadata": {},
     "output_type": "execute_result"
    }
   ],
   "source": [
    "X_stars[:3]"
   ]
  },
  {
   "cell_type": "code",
   "execution_count": 140,
   "id": "747dd9f5",
   "metadata": {},
   "outputs": [],
   "source": [
    "T_boot = np.array([\n",
    "    np.corrcoef(z[:, 0], z[:,1])[1,0] for z in X_stars\n",
    "])"
   ]
  },
  {
   "cell_type": "code",
   "execution_count": 141,
   "id": "0186165c",
   "metadata": {},
   "outputs": [
    {
     "data": {
      "text/plain": [
       "array([0.56350054, 0.95022758, 0.27113916])"
      ]
     },
     "execution_count": 141,
     "metadata": {},
     "output_type": "execute_result"
    }
   ],
   "source": [
    "T_boot[:3]"
   ]
  },
  {
   "cell_type": "code",
   "execution_count": 142,
   "id": "d72cc7c6",
   "metadata": {},
   "outputs": [
    {
     "data": {
      "text/plain": [
       "Text(0.5, 1.0, 'Calculated correlation coefficients for 10000 bootstrap samples')"
      ]
     },
     "execution_count": 142,
     "metadata": {},
     "output_type": "execute_result"
    },
    {
     "data": {
      "image/png": "[encoded data removed]",
      "text/plain": [
       "<Figure size 640x480 with 1 Axes>"
      ]
     },
     "metadata": {},
     "output_type": "display_data"
    }
   ],
   "source": [
    "plt.hist(T_boot, bins=30)\n",
    "plt.title('Calculated correlation coefficients for 10000 bootstrap samples')"
   ]
  },
  {
   "cell_type": "code",
   "execution_count": 143,
   "id": "94ed7524",
   "metadata": {},
   "outputs": [],
   "source": [
    "v_boot = np.var(T_boot)"
   ]
  },
  {
   "cell_type": "code",
   "execution_count": 144,
   "id": "3579e537",
   "metadata": {},
   "outputs": [],
   "source": [
    "se_boot = np.sqrt(v_boot)"
   ]
  },
  {
   "cell_type": "code",
   "execution_count": 145,
   "id": "6e431da2",
   "metadata": {},
   "outputs": [
    {
     "name": "stdout",
     "output_type": "stream",
     "text": [
      "Bootstrap estimated standard error: 0.1965\n"
     ]
    }
   ],
   "source": [
    "print('Bootstrap estimated standard error: {:.4f}'.format(se_boot))"
   ]
  },
  {
   "cell_type": "markdown",
   "id": "2d038a04",
   "metadata": {},
   "source": [
    "Finally we calculate confidence intervals using the methods outlined in the chapter."
   ]
  },
  {
   "cell_type": "code",
   "execution_count": 146,
   "id": "046a8b09",
   "metadata": {},
   "outputs": [],
   "source": [
    "alpha = 0.05"
   ]
  },
  {
   "cell_type": "code",
   "execution_count": 147,
   "id": "f3b1f5cb",
   "metadata": {},
   "outputs": [],
   "source": [
    "z = norm.ppf(1-alpha/2)"
   ]
  },
  {
   "cell_type": "code",
   "execution_count": 148,
   "id": "0ba89dd7",
   "metadata": {},
   "outputs": [],
   "source": [
    "theta_star_up = np.quantile(T_boot, 1-alpha/2)"
   ]
  },
  {
   "cell_type": "code",
   "execution_count": 149,
   "id": "ab7b12ed",
   "metadata": {},
   "outputs": [],
   "source": [
    "theta_star_low = np.quantile(T_boot, alpha/2)"
   ]
  },
  {
   "cell_type": "code",
   "execution_count": 150,
   "id": "4707580d",
   "metadata": {},
   "outputs": [
    {
     "name": "stdout",
     "output_type": "stream",
     "text": [
      "Normal interval: (0.16087, 0.93097)\n",
      "Pivotal interval: (0.15521, 0.88797)\n",
      "Percentile inverval: (0.20387, 0.93663)\n"
     ]
    }
   ],
   "source": [
    "print('Normal interval: ({0:.5f}, {1:.5f})'.format(theta_hat-z*se_boot, theta_hat+z*se_boot))\n",
    "print('Pivotal interval: ({0:.5f}, {1:.5f})'.format(2*theta_hat-theta_star_up, 2*theta_hat-theta_star_low))\n",
    "print('Percentile inverval: ({0:.5f}, {1:.5f})'.format(theta_star_low, theta_star_up))"
   ]
  }
 ],
 "metadata": {
  "kernelspec": {
   "display_name": "Python 3 (ipykernel)",
   "language": "python",
   "name": "python3"
  },
  "language_info": {
   "codemirror_mode": {
    "name": "ipython",
    "version": 3
   },
   "file_extension": ".py",
   "mimetype": "text/x-python",
   "name": "python",
   "nbconvert_exporter": "python",
   "pygments_lexer": "ipython3",
   "version": "3.10.14"
  }
 },
 "nbformat": 4,
 "nbformat_minor": 5
}
