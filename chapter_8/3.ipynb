{
 "cells": [
  {
   "cell_type": "code",
   "execution_count": 51,
   "id": "3e149b07",
   "metadata": {},
   "outputs": [],
   "source": [
    "import numpy as np\n",
    "import pandas as pd\n",
    "import matplotlib.pyplot as plt\n",
    "from scipy.stats import norm"
   ]
  },
  {
   "cell_type": "code",
   "execution_count": 52,
   "id": "b415ba21",
   "metadata": {},
   "outputs": [],
   "source": [
    "np.random.seed(42)"
   ]
  },
  {
   "cell_type": "markdown",
   "id": "b54c60a0",
   "metadata": {},
   "source": [
    "First we calculate the plug-in estimator"
   ]
  },
  {
   "cell_type": "code",
   "execution_count": 53,
   "id": "c0bb345c",
   "metadata": {},
   "outputs": [],
   "source": [
    "n = 25"
   ]
  },
  {
   "cell_type": "code",
   "execution_count": 54,
   "id": "4a2352fe",
   "metadata": {},
   "outputs": [],
   "source": [
    "X = np.random.standard_t(df=3, size=n)"
   ]
  },
  {
   "cell_type": "code",
   "execution_count": 55,
   "id": "c3f5700c",
   "metadata": {},
   "outputs": [],
   "source": [
    "theta = (np.quantile(X, 0.75) - np.quantile(X, 0.25))/1.34"
   ]
  },
  {
   "cell_type": "code",
   "execution_count": 56,
   "id": "c785bbad",
   "metadata": {},
   "outputs": [
    {
     "name": "stdout",
     "output_type": "stream",
     "text": [
      "Plug-in estimator for theta: 1.3957\n"
     ]
    }
   ],
   "source": [
    "print('Plug-in estimator for theta: {:.4f}'.format(theta))"
   ]
  },
  {
   "cell_type": "markdown",
   "id": "062fbd06",
   "metadata": {},
   "source": [
    "Now we'll bootstrap and compute confidence intervals."
   ]
  },
  {
   "cell_type": "code",
   "execution_count": 57,
   "id": "c906eca6",
   "metadata": {},
   "outputs": [],
   "source": [
    "B = int(1e5)"
   ]
  },
  {
   "cell_type": "code",
   "execution_count": 58,
   "id": "85f36998",
   "metadata": {},
   "outputs": [],
   "source": [
    "T_boot = np.empty(B)"
   ]
  },
  {
   "cell_type": "code",
   "execution_count": 59,
   "id": "41ec4397",
   "metadata": {},
   "outputs": [],
   "source": [
    "for i in range(B):\n",
    "    X_star = np.random.choice(X, size=n, replace=True)\n",
    "    T_boot[i] = (np.quantile(X_star,0.75) - np.quantile(X_star,0.25))/1.34"
   ]
  },
  {
   "cell_type": "code",
   "execution_count": 60,
   "id": "5f54c894",
   "metadata": {},
   "outputs": [
    {
     "data": {
      "text/plain": [
       "Text(0.5, 1.0, 'Computed values of plug-in estimator from bootstrapping')"
      ]
     },
     "execution_count": 60,
     "metadata": {},
     "output_type": "execute_result"
    },
    {
     "data": {
      "image/png": "[encoded data removed]",
      "text/plain": [
       "<Figure size 640x480 with 1 Axes>"
      ]
     },
     "metadata": {},
     "output_type": "display_data"
    }
   ],
   "source": [
    "plt.hist(T_boot)\n",
    "plt.title('Computed values of plug-in estimator from bootstrapping')"
   ]
  },
  {
   "cell_type": "code",
   "execution_count": 61,
   "id": "3d044ab8",
   "metadata": {},
   "outputs": [],
   "source": [
    "se = np.std(T_boot)"
   ]
  },
  {
   "cell_type": "code",
   "execution_count": 62,
   "id": "7a4bcea0",
   "metadata": {},
   "outputs": [],
   "source": [
    "alpha = 0.05"
   ]
  },
  {
   "cell_type": "code",
   "execution_count": 63,
   "id": "4dcff35f",
   "metadata": {},
   "outputs": [],
   "source": [
    "z = norm.ppf(1-alpha/2)"
   ]
  },
  {
   "cell_type": "code",
   "execution_count": 64,
   "id": "33fb3bc3",
   "metadata": {},
   "outputs": [],
   "source": [
    "quant_low = np.quantile(T_boot, alpha/2)"
   ]
  },
  {
   "cell_type": "code",
   "execution_count": 65,
   "id": "56181fb6",
   "metadata": {},
   "outputs": [],
   "source": [
    "quant_high = np.quantile(T_boot, 1-alpha/2)"
   ]
  },
  {
   "cell_type": "code",
   "execution_count": 66,
   "id": "0b2823e1",
   "metadata": {},
   "outputs": [
    {
     "name": "stdout",
     "output_type": "stream",
     "text": [
      "Estimated standard error from bootstrapping: 0.3342\n",
      "Normal interval: (0.7407, 2.0506)\n",
      "Percentile interval: (0.5621, 2.1559)\n",
      "Pivotal interval: (0.6355, 2.2293)\n"
     ]
    }
   ],
   "source": [
    "print('Estimated standard error from bootstrapping: {:.4f}'.format(se))\n",
    "print('Normal interval: ({:.4f}, {:.4f})'.format(theta-z*se, theta+z*se))\n",
    "print('Percentile interval: ({:.4f}, {:.4f})'.format(quant_low, quant_high))\n",
    "print('Pivotal interval: ({:.4f}, {:.4f})'.format(2*theta-quant_high, 2*theta-quant_low))"
   ]
  },
  {
   "cell_type": "markdown",
   "id": "df738c63",
   "metadata": {},
   "source": [
    "The three confidence intervals nearly equal in this case."
   ]
  }
 ],
 "metadata": {
  "kernelspec": {
   "display_name": "cs224n-cpu",
   "language": "python",
   "name": "cs224n-cpu"
  },
  "language_info": {
   "codemirror_mode": {
    "name": "ipython",
    "version": 3
   },
   "file_extension": ".py",
   "mimetype": "text/x-python",
   "name": "python",
   "nbconvert_exporter": "python",
   "pygments_lexer": "ipython3",
   "version": "3.10.0"
  }
 },
 "nbformat": 4,
 "nbformat_minor": 5
}
