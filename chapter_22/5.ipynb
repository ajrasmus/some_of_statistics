{
 "cells": [
  {
   "cell_type": "code",
   "execution_count": 1,
   "id": "3ea55504",
   "metadata": {},
   "outputs": [],
   "source": [
    "import numpy as np\n",
    "import pandas as pd\n",
    "import scipy\n",
    "import matplotlib.pyplot as plt\n",
    "from sklearn.decomposition import PCA\n",
    "from sklearn.svm import SVC"
   ]
  },
  {
   "cell_type": "markdown",
   "id": "adab0993",
   "metadata": {},
   "source": [
    "First let's prepare the data."
   ]
  },
  {
   "cell_type": "code",
   "execution_count": 2,
   "id": "0798fe6b",
   "metadata": {},
   "outputs": [],
   "source": [
    "with open('spam.txt', 'r') as f:\n",
    "    arr = []\n",
    "    for line in f:\n",
    "        row = line.split()\n",
    "        row = list(map(lambda x: float(x), row))\n",
    "        arr.append(row)"
   ]
  },
  {
   "cell_type": "code",
   "execution_count": 3,
   "id": "b00450ac",
   "metadata": {},
   "outputs": [],
   "source": [
    "df = pd.DataFrame(arr)"
   ]
  },
  {
   "cell_type": "code",
   "execution_count": 4,
   "id": "7dda7562",
   "metadata": {},
   "outputs": [],
   "source": [
    "df[57] = df[57].astype(int)"
   ]
  },
  {
   "cell_type": "code",
   "execution_count": 5,
   "id": "f80b5b03",
   "metadata": {},
   "outputs": [],
   "source": [
    "ds = df.to_numpy()"
   ]
  },
  {
   "cell_type": "code",
   "execution_count": 6,
   "id": "25864be3",
   "metadata": {},
   "outputs": [],
   "source": [
    "X = ds[:,:-1]"
   ]
  },
  {
   "cell_type": "code",
   "execution_count": 7,
   "id": "f7c29c10",
   "metadata": {},
   "outputs": [],
   "source": [
    "Y = ds[:,-1]"
   ]
  },
  {
   "cell_type": "code",
   "execution_count": 8,
   "id": "5dc2b08e",
   "metadata": {},
   "outputs": [],
   "source": [
    "np.random.seed(42)"
   ]
  },
  {
   "cell_type": "markdown",
   "id": "1ddf5382",
   "metadata": {},
   "source": [
    "Below, we'll use PCA with two components to visualize the spam data. This could help us inform what kind of kernel to use for an SVM."
   ]
  },
  {
   "cell_type": "code",
   "execution_count": 9,
   "id": "56a53b07",
   "metadata": {},
   "outputs": [],
   "source": [
    "pca = PCA(n_components=2)"
   ]
  },
  {
   "cell_type": "code",
   "execution_count": 10,
   "id": "963ed184",
   "metadata": {},
   "outputs": [
    {
     "data": {
      "text/html": [
       "<style>#sk-container-id-1 {color: black;background-color: white;}#sk-container-id-1 pre{padding: 0;}#sk-container-id-1 div.sk-toggleable {background-color: white;}#sk-container-id-1 label.sk-toggleable__label {cursor: pointer;display: block;width: 100%;margin-bottom: 0;padding: 0.3em;box-sizing: border-box;text-align: center;}#sk-container-id-1 label.sk-toggleable__label-arrow:before {content: \"▸\";float: left;margin-right: 0.25em;color: #696969;}#sk-container-id-1 label.sk-toggleable__label-arrow:hover:before {color: black;}#sk-container-id-1 div.sk-estimator:hover label.sk-toggleable__label-arrow:before {color: black;}#sk-container-id-1 div.sk-toggleable__content {max-height: 0;max-width: 0;overflow: hidden;text-align: left;background-color: #f0f8ff;}#sk-container-id-1 div.sk-toggleable__content pre {margin: 0.2em;color: black;border-radius: 0.25em;background-color: #f0f8ff;}#sk-container-id-1 input.sk-toggleable__control:checked~div.sk-toggleable__content {max-height: 200px;max-width: 100%;overflow: auto;}#sk-container-id-1 input.sk-toggleable__control:checked~label.sk-toggleable__label-arrow:before {content: \"▾\";}#sk-container-id-1 div.sk-estimator input.sk-toggleable__control:checked~label.sk-toggleable__label {background-color: #d4ebff;}#sk-container-id-1 div.sk-label input.sk-toggleable__control:checked~label.sk-toggleable__label {background-color: #d4ebff;}#sk-container-id-1 input.sk-hidden--visually {border: 0;clip: rect(1px 1px 1px 1px);clip: rect(1px, 1px, 1px, 1px);height: 1px;margin: -1px;overflow: hidden;padding: 0;position: absolute;width: 1px;}#sk-container-id-1 div.sk-estimator {font-family: monospace;background-color: #f0f8ff;border: 1px dotted black;border-radius: 0.25em;box-sizing: border-box;margin-bottom: 0.5em;}#sk-container-id-1 div.sk-estimator:hover {background-color: #d4ebff;}#sk-container-id-1 div.sk-parallel-item::after {content: \"\";width: 100%;border-bottom: 1px solid gray;flex-grow: 1;}#sk-container-id-1 div.sk-label:hover label.sk-toggleable__label {background-color: #d4ebff;}#sk-container-id-1 div.sk-serial::before {content: \"\";position: absolute;border-left: 1px solid gray;box-sizing: border-box;top: 0;bottom: 0;left: 50%;z-index: 0;}#sk-container-id-1 div.sk-serial {display: flex;flex-direction: column;align-items: center;background-color: white;padding-right: 0.2em;padding-left: 0.2em;position: relative;}#sk-container-id-1 div.sk-item {position: relative;z-index: 1;}#sk-container-id-1 div.sk-parallel {display: flex;align-items: stretch;justify-content: center;background-color: white;position: relative;}#sk-container-id-1 div.sk-item::before, #sk-container-id-1 div.sk-parallel-item::before {content: \"\";position: absolute;border-left: 1px solid gray;box-sizing: border-box;top: 0;bottom: 0;left: 50%;z-index: -1;}#sk-container-id-1 div.sk-parallel-item {display: flex;flex-direction: column;z-index: 1;position: relative;background-color: white;}#sk-container-id-1 div.sk-parallel-item:first-child::after {align-self: flex-end;width: 50%;}#sk-container-id-1 div.sk-parallel-item:last-child::after {align-self: flex-start;width: 50%;}#sk-container-id-1 div.sk-parallel-item:only-child::after {width: 0;}#sk-container-id-1 div.sk-dashed-wrapped {border: 1px dashed gray;margin: 0 0.4em 0.5em 0.4em;box-sizing: border-box;padding-bottom: 0.4em;background-color: white;}#sk-container-id-1 div.sk-label label {font-family: monospace;font-weight: bold;display: inline-block;line-height: 1.2em;}#sk-container-id-1 div.sk-label-container {text-align: center;}#sk-container-id-1 div.sk-container {/* jupyter's `normalize.less` sets `[hidden] { display: none; }` but bootstrap.min.css set `[hidden] { display: none !important; }` so we also need the `!important` here to be able to override the default hidden behavior on the sphinx rendered scikit-learn.org. See: https://github.com/scikit-learn/scikit-learn/issues/21755 */display: inline-block !important;position: relative;}#sk-container-id-1 div.sk-text-repr-fallback {display: none;}</style><div id=\"sk-container-id-1\" class=\"sk-top-container\"><div class=\"sk-text-repr-fallback\"><pre>PCA(n_components=2)</pre><b>In a Jupyter environment, please rerun this cell to show the HTML representation or trust the notebook. <br />On GitHub, the HTML representation is unable to render, please try loading this page with nbviewer.org.</b></div><div class=\"sk-container\" hidden><div class=\"sk-item\"><div class=\"sk-estimator sk-toggleable\"><input class=\"sk-toggleable__control sk-hidden--visually\" id=\"sk-estimator-id-1\" type=\"checkbox\" checked><label for=\"sk-estimator-id-1\" class=\"sk-toggleable__label sk-toggleable__label-arrow\">PCA</label><div class=\"sk-toggleable__content\"><pre>PCA(n_components=2)</pre></div></div></div></div></div>"
      ],
      "text/plain": [
       "PCA(n_components=2)"
      ]
     },
     "execution_count": 10,
     "metadata": {},
     "output_type": "execute_result"
    }
   ],
   "source": [
    "pca.fit(X)"
   ]
  },
  {
   "cell_type": "code",
   "execution_count": 11,
   "id": "ef0c76c0",
   "metadata": {},
   "outputs": [
    {
     "data": {
      "text/plain": [
       "array([[  -3.78689953,    9.41175717],\n",
       "       [ 742.63210097,  -74.00135308],\n",
       "       [2019.85407406,  102.07711051],\n",
       "       ...,\n",
       "       [-170.64380989,  -18.62971243],\n",
       "       [-210.26925286,  -13.08443696],\n",
       "       [-247.75495283,   -6.8512696 ]])"
      ]
     },
     "execution_count": 11,
     "metadata": {},
     "output_type": "execute_result"
    }
   ],
   "source": [
    "pca.transform(X)"
   ]
  },
  {
   "cell_type": "code",
   "execution_count": 12,
   "id": "d414f8e3",
   "metadata": {},
   "outputs": [],
   "source": [
    "# The input data for spam emails\n",
    "X_spam = X[Y == 1.]"
   ]
  },
  {
   "cell_type": "code",
   "execution_count": 13,
   "id": "85c901a1",
   "metadata": {},
   "outputs": [],
   "source": [
    "# The input data for non-spam emails\n",
    "X_not = X[Y == 0.]"
   ]
  },
  {
   "cell_type": "code",
   "execution_count": 14,
   "id": "49354131",
   "metadata": {},
   "outputs": [],
   "source": [
    "# The two PCA components for spam emails\n",
    "X_spam_trans = pca.transform(X_spam)"
   ]
  },
  {
   "cell_type": "code",
   "execution_count": 15,
   "id": "f374d83d",
   "metadata": {},
   "outputs": [],
   "source": [
    "# The two PCA components for non-spam emails\n",
    "X_not_trans = pca.transform(X_not)"
   ]
  },
  {
   "cell_type": "code",
   "execution_count": 16,
   "id": "8c6acf86",
   "metadata": {},
   "outputs": [
    {
     "data": {
      "text/plain": [
       "Text(0.5, 1.0, 'PCA for spam versus non-spam emails')"
      ]
     },
     "execution_count": 16,
     "metadata": {},
     "output_type": "execute_result"
    },
    {
     "data": {
      "image/png": "[encoded data removed]",
      "text/plain": [
       "<Figure size 640x480 with 1 Axes>"
      ]
     },
     "metadata": {},
     "output_type": "display_data"
    }
   ],
   "source": [
    "plt.scatter(X_spam_trans[:,0], X_spam_trans[:,1], marker='x', alpha=0.5, label='spam')\n",
    "plt.scatter(X_not_trans[:,0], X_not_trans[:,1], marker='*', alpha=0.5, label='not spam')\n",
    "plt.legend()\n",
    "plt.title('PCA for spam versus non-spam emails')"
   ]
  },
  {
   "cell_type": "markdown",
   "id": "acc540d7",
   "metadata": {},
   "source": [
    "The PCA is not all that informative as to the choice of a kernel. Below we'll carry out cross-validation to the choose the kernel."
   ]
  },
  {
   "cell_type": "code",
   "execution_count": 17,
   "id": "a3d73826",
   "metadata": {},
   "outputs": [],
   "source": [
    "def create_random_splits(X, Y, num_ch):\n",
    "    \"\"\"\n",
    "        Split the dataset (X, Y) into num_ch random chunks\n",
    "        of equal size (except for possibly the last chunk).\n",
    "        (X, Y): the dataset\n",
    "        num_ch: the number of chunks\n",
    "    \"\"\"\n",
    "    \n",
    "    # Randomly permute (X, Y)\n",
    "    n = len(X)\n",
    "    indices = np.random.permutation(n)\n",
    "    X_perm = X[indices]\n",
    "    Y_perm = Y[indices]\n",
    "    \n",
    "    k = n // num_ch\n",
    "    \n",
    "    # Arrays to hold the chunks\n",
    "    Xs = []\n",
    "    Ys = []\n",
    "    \n",
    "    # Append one chunk at a time\n",
    "    for i in range(num_ch):\n",
    "        if i < num_ch-1:\n",
    "            Xs.append(X_perm[i*k:i*k + k, :])\n",
    "            Ys.append(Y_perm[i*k:i*k + k])\n",
    "        else:\n",
    "            Xs.append(X_perm[i*k:, :])\n",
    "            Ys.append(Y_perm[i*k:])\n",
    "    \n",
    "    return Xs, Ys"
   ]
  },
  {
   "cell_type": "code",
   "execution_count": 18,
   "id": "c6bf58bb",
   "metadata": {},
   "outputs": [],
   "source": [
    "def get_table(Y, Y_pred):\n",
    "    \"\"\"\n",
    "        Compute a 2x2 matrix with (i,j) entry\n",
    "        equal to the number of entries with\n",
    "        Y == i and Y_pred == j.\n",
    "    \"\"\"\n",
    "    \n",
    "    m00 = ((Y == 0) & (Y_pred == 0)).sum()\n",
    "    m01 = ((Y == 0) & (Y_pred == 1)).sum()\n",
    "    m10 = ((Y == 1) & (Y_pred == 0)).sum()\n",
    "    m11 = ((Y == 1) & (Y_pred == 1)).sum()\n",
    "    \n",
    "    return np.array([[m00, m01],[m10, m11]])"
   ]
  },
  {
   "cell_type": "code",
   "execution_count": 19,
   "id": "e6941f66",
   "metadata": {},
   "outputs": [],
   "source": [
    "def cross_validation(X, Y, num_ch, model):\n",
    "    \"\"\"\n",
    "        Perform n-fold cross-validation where\n",
    "        (X, Y): the dataset\n",
    "        num_ch: the number of folds\n",
    "        model: the model to fit to (X,Y)\n",
    "        Returns:\n",
    "            errors: a list of errors for each fold\n",
    "    \"\"\"\n",
    "    errors = []\n",
    "    Xs, Ys = create_random_splits(X, Y, num_ch)\n",
    "    \n",
    "    for i in range(num_ch):\n",
    "        X_left_over = np.concatenate(Xs[:i] + Xs[i+1:], axis=0)\n",
    "        Y_left_over = np.concatenate(Ys[:i] + Ys[i+1:], axis=0)\n",
    "        X_ch = Xs[i]\n",
    "        Y_ch = Ys[i]\n",
    "        \n",
    "        model.fit(X_left_over, Y_left_over)\n",
    "        Y_pred = model.predict(X_ch)\n",
    "        ((m00, m01), (m10, m11)) = get_table(Y_ch, Y_pred)\n",
    "        misc = (m01 + m10) / (m00 + m01 + m10 + m11)\n",
    "        errors.append(misc)\n",
    "\n",
    "    return errors"
   ]
  },
  {
   "cell_type": "markdown",
   "id": "b98bea95",
   "metadata": {},
   "source": [
    "We'll try SVM classifiers with linear, polynomial, or RBF kernel. The scikit-learn SVC class also requires a regularization parameter 'C', which adds an $L^2$ penalty. We'll try values of 'C' in $\\{0.1,1.0,5,10\\}$."
   ]
  },
  {
   "cell_type": "code",
   "execution_count": 20,
   "id": "4442511b",
   "metadata": {},
   "outputs": [],
   "source": [
    "# The models to test cross-validation on\n",
    "models_to_test = []"
   ]
  },
  {
   "cell_type": "code",
   "execution_count": 21,
   "id": "de78322a",
   "metadata": {},
   "outputs": [],
   "source": [
    "# Add all the models\n",
    "for kernel in ['linear', 'poly', 'rbf']:\n",
    "    for C in [0.01, 0.1, 1., 2.]:\n",
    "        models_to_test.append(SVC(C=C, kernel=kernel))"
   ]
  },
  {
   "cell_type": "markdown",
   "id": "2865bc6f",
   "metadata": {},
   "source": [
    "Now we compute the cross-validation errors for each model."
   ]
  },
  {
   "cell_type": "code",
   "execution_count": 22,
   "id": "ee795865",
   "metadata": {},
   "outputs": [],
   "source": [
    "cv_errors = []"
   ]
  },
  {
   "cell_type": "code",
   "execution_count": 23,
   "id": "09fc6a71",
   "metadata": {},
   "outputs": [
    {
     "name": "stdout",
     "output_type": "stream",
     "text": [
      "Model: SVC(C=0.01, kernel='linear'), CV error: 0.0895\n",
      "Model: SVC(C=0.1, kernel='linear'), CV error: 0.0756\n",
      "Model: SVC(kernel='linear'), CV error: 0.0737\n",
      "Model: SVC(C=2.0, kernel='linear'), CV error: 0.0724\n",
      "Model: SVC(C=0.01, kernel='poly'), CV error: 0.3577\n",
      "Model: SVC(C=0.1, kernel='poly'), CV error: 0.3475\n",
      "Model: SVC(kernel='poly'), CV error: 0.3436\n",
      "Model: SVC(C=2.0, kernel='poly'), CV error: 0.3441\n",
      "Model: SVC(C=0.01), CV error: 0.3317\n",
      "Model: SVC(C=0.1), CV error: 0.3095\n",
      "Model: SVC(), CV error: 0.2947\n",
      "Model: SVC(C=2.0), CV error: 0.2775\n"
     ]
    }
   ],
   "source": [
    "for model in models_to_test:\n",
    "    errors = cross_validation(X, Y, 3, model)\n",
    "    cv_error = np.mean(errors)\n",
    "    cv_errors.append(cv_error)\n",
    "    print(f'Model: {model}, CV error: {cv_error:.4f}')"
   ]
  },
  {
   "cell_type": "code",
   "execution_count": 24,
   "id": "cee8a178",
   "metadata": {},
   "outputs": [
    {
     "data": {
      "text/plain": [
       "[0.08954956218353656,\n",
       " 0.07563321016535955,\n",
       " 0.07367881277122275,\n",
       " 0.07237531455995604,\n",
       " 0.35774127359509533,\n",
       " 0.34752902663303803,\n",
       " 0.3436250480737563,\n",
       " 0.34405850868302346,\n",
       " 0.33166847629388346,\n",
       " 0.30949484132296146,\n",
       " 0.2947214838518216,\n",
       " 0.277544969767539]"
      ]
     },
     "execution_count": 24,
     "metadata": {},
     "output_type": "execute_result"
    }
   ],
   "source": [
    "cv_errors"
   ]
  },
  {
   "cell_type": "markdown",
   "id": "e238bae1",
   "metadata": {},
   "source": [
    "The lowest mean cross-validation error comes from a linear kernel with regularization parameter $C=2.0$."
   ]
  }
 ],
 "metadata": {
  "kernelspec": {
   "display_name": "deeplearn",
   "language": "python",
   "name": "deeplearn"
  },
  "language_info": {
   "codemirror_mode": {
    "name": "ipython",
    "version": 3
   },
   "file_extension": ".py",
   "mimetype": "text/x-python",
   "name": "python",
   "nbconvert_exporter": "python",
   "pygments_lexer": "ipython3",
   "version": "3.10.0"
  }
 },
 "nbformat": 4,
 "nbformat_minor": 5
}
