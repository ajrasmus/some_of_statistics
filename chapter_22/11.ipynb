{
 "cells": [
  {
   "cell_type": "code",
   "execution_count": 1,
   "id": "7ad108ec",
   "metadata": {},
   "outputs": [],
   "source": [
    "import numpy as np\n",
    "import pandas as pd\n",
    "import scipy\n",
    "from numpy.linalg import inv, det\n",
    "from sklearn.tree import DecisionTreeClassifier\n",
    "from functools import partial\n",
    "from scipy.stats import norm"
   ]
  },
  {
   "cell_type": "markdown",
   "id": "2aaa73d3",
   "metadata": {},
   "source": [
    "First let's prepare the data."
   ]
  },
  {
   "cell_type": "code",
   "execution_count": 2,
   "id": "f3b88b99",
   "metadata": {},
   "outputs": [],
   "source": [
    "with open('spam.txt', 'r') as f:\n",
    "    arr = []\n",
    "    for line in f:\n",
    "        row = line.split()\n",
    "        row = list(map(lambda x: float(x), row))\n",
    "        arr.append(row)\n",
    "\n",
    "df = pd.DataFrame(arr)\n",
    "df[57] = df[57].astype(int)\n",
    "\n",
    "ds = df.to_numpy()\n",
    "ds\n",
    "\n",
    "X = ds[:,:-1]\n",
    "Y = ds[:,-1]"
   ]
  },
  {
   "cell_type": "markdown",
   "id": "cd62cf89",
   "metadata": {},
   "source": [
    "We'll use sci-kit learn's decision tree class as our base tree in order to speed training."
   ]
  },
  {
   "cell_type": "code",
   "execution_count": 3,
   "id": "9b7b6ba6",
   "metadata": {},
   "outputs": [],
   "source": [
    "base_clf = DecisionTreeClassifier(criterion='gini', min_samples_split=10, random_state=42)"
   ]
  },
  {
   "cell_type": "code",
   "execution_count": 4,
   "id": "45917414",
   "metadata": {},
   "outputs": [
    {
     "data": {
      "text/html": [
       "<style>#sk-container-id-1 {color: black;background-color: white;}#sk-container-id-1 pre{padding: 0;}#sk-container-id-1 div.sk-toggleable {background-color: white;}#sk-container-id-1 label.sk-toggleable__label {cursor: pointer;display: block;width: 100%;margin-bottom: 0;padding: 0.3em;box-sizing: border-box;text-align: center;}#sk-container-id-1 label.sk-toggleable__label-arrow:before {content: \"▸\";float: left;margin-right: 0.25em;color: #696969;}#sk-container-id-1 label.sk-toggleable__label-arrow:hover:before {color: black;}#sk-container-id-1 div.sk-estimator:hover label.sk-toggleable__label-arrow:before {color: black;}#sk-container-id-1 div.sk-toggleable__content {max-height: 0;max-width: 0;overflow: hidden;text-align: left;background-color: #f0f8ff;}#sk-container-id-1 div.sk-toggleable__content pre {margin: 0.2em;color: black;border-radius: 0.25em;background-color: #f0f8ff;}#sk-container-id-1 input.sk-toggleable__control:checked~div.sk-toggleable__content {max-height: 200px;max-width: 100%;overflow: auto;}#sk-container-id-1 input.sk-toggleable__control:checked~label.sk-toggleable__label-arrow:before {content: \"▾\";}#sk-container-id-1 div.sk-estimator input.sk-toggleable__control:checked~label.sk-toggleable__label {background-color: #d4ebff;}#sk-container-id-1 div.sk-label input.sk-toggleable__control:checked~label.sk-toggleable__label {background-color: #d4ebff;}#sk-container-id-1 input.sk-hidden--visually {border: 0;clip: rect(1px 1px 1px 1px);clip: rect(1px, 1px, 1px, 1px);height: 1px;margin: -1px;overflow: hidden;padding: 0;position: absolute;width: 1px;}#sk-container-id-1 div.sk-estimator {font-family: monospace;background-color: #f0f8ff;border: 1px dotted black;border-radius: 0.25em;box-sizing: border-box;margin-bottom: 0.5em;}#sk-container-id-1 div.sk-estimator:hover {background-color: #d4ebff;}#sk-container-id-1 div.sk-parallel-item::after {content: \"\";width: 100%;border-bottom: 1px solid gray;flex-grow: 1;}#sk-container-id-1 div.sk-label:hover label.sk-toggleable__label {background-color: #d4ebff;}#sk-container-id-1 div.sk-serial::before {content: \"\";position: absolute;border-left: 1px solid gray;box-sizing: border-box;top: 0;bottom: 0;left: 50%;z-index: 0;}#sk-container-id-1 div.sk-serial {display: flex;flex-direction: column;align-items: center;background-color: white;padding-right: 0.2em;padding-left: 0.2em;position: relative;}#sk-container-id-1 div.sk-item {position: relative;z-index: 1;}#sk-container-id-1 div.sk-parallel {display: flex;align-items: stretch;justify-content: center;background-color: white;position: relative;}#sk-container-id-1 div.sk-item::before, #sk-container-id-1 div.sk-parallel-item::before {content: \"\";position: absolute;border-left: 1px solid gray;box-sizing: border-box;top: 0;bottom: 0;left: 50%;z-index: -1;}#sk-container-id-1 div.sk-parallel-item {display: flex;flex-direction: column;z-index: 1;position: relative;background-color: white;}#sk-container-id-1 div.sk-parallel-item:first-child::after {align-self: flex-end;width: 50%;}#sk-container-id-1 div.sk-parallel-item:last-child::after {align-self: flex-start;width: 50%;}#sk-container-id-1 div.sk-parallel-item:only-child::after {width: 0;}#sk-container-id-1 div.sk-dashed-wrapped {border: 1px dashed gray;margin: 0 0.4em 0.5em 0.4em;box-sizing: border-box;padding-bottom: 0.4em;background-color: white;}#sk-container-id-1 div.sk-label label {font-family: monospace;font-weight: bold;display: inline-block;line-height: 1.2em;}#sk-container-id-1 div.sk-label-container {text-align: center;}#sk-container-id-1 div.sk-container {/* jupyter's `normalize.less` sets `[hidden] { display: none; }` but bootstrap.min.css set `[hidden] { display: none !important; }` so we also need the `!important` here to be able to override the default hidden behavior on the sphinx rendered scikit-learn.org. See: https://github.com/scikit-learn/scikit-learn/issues/21755 */display: inline-block !important;position: relative;}#sk-container-id-1 div.sk-text-repr-fallback {display: none;}</style><div id=\"sk-container-id-1\" class=\"sk-top-container\"><div class=\"sk-text-repr-fallback\"><pre>DecisionTreeClassifier(min_samples_split=10, random_state=42)</pre><b>In a Jupyter environment, please rerun this cell to show the HTML representation or trust the notebook. <br />On GitHub, the HTML representation is unable to render, please try loading this page with nbviewer.org.</b></div><div class=\"sk-container\" hidden><div class=\"sk-item\"><div class=\"sk-estimator sk-toggleable\"><input class=\"sk-toggleable__control sk-hidden--visually\" id=\"sk-estimator-id-1\" type=\"checkbox\" checked><label for=\"sk-estimator-id-1\" class=\"sk-toggleable__label sk-toggleable__label-arrow\">DecisionTreeClassifier</label><div class=\"sk-toggleable__content\"><pre>DecisionTreeClassifier(min_samples_split=10, random_state=42)</pre></div></div></div></div></div>"
      ],
      "text/plain": [
       "DecisionTreeClassifier(min_samples_split=10, random_state=42)"
      ]
     },
     "execution_count": 4,
     "metadata": {},
     "output_type": "execute_result"
    }
   ],
   "source": [
    "base_clf.fit(X, Y)"
   ]
  },
  {
   "cell_type": "markdown",
   "id": "db366dd4",
   "metadata": {},
   "source": [
    "Now we create a function to bag several decision trees."
   ]
  },
  {
   "cell_type": "code",
   "execution_count": 5,
   "id": "581ed9eb",
   "metadata": {},
   "outputs": [],
   "source": [
    "def bag_trees(X, Y, num_bootstrap_samples=1000, min_samples_split=10, random_state=42):\n",
    "    \"\"\"\n",
    "        Create a bagging classifier with many trees.\n",
    "        X, Y: the dataset to train on, numpy arrays with X.shape[0] = Y.shape[0]\n",
    "        num_bootstrap_samples: the number of trees to train\n",
    "        min_samples_split: the minimum number of samples in a leaf node\n",
    "            before it can be split\n",
    "        random_state: random state to use for the decision trees\n",
    "        returns:\n",
    "            classifier: a Python function which is the estimator\n",
    "                resulting from bagging\n",
    "    \"\"\"\n",
    "    \n",
    "    # Create an array to store the different decision trees in the model\n",
    "    n = len(X)\n",
    "    indices = np.array(list(range(n)))\n",
    "    models = []\n",
    "    \n",
    "    for i in range(num_bootstrap_samples):\n",
    "        # Choose a bootstrap sample from X, Y\n",
    "        ind_boot = np.random.choice(indices, size=n, replace=True)\n",
    "        X_boot = X[ind_boot]\n",
    "        Y_boot = Y[ind_boot]\n",
    "        \n",
    "        # Fit a decision tree classifier to the bootstrapped\n",
    "        # dataset. Store the decision tree for later use.\n",
    "        classifier = DecisionTreeClassifier(criterion='gini', min_samples_split=min_samples_split,\n",
    "                                            random_state=random_state+i)\n",
    "        classifier.fit(X_boot, Y_boot)\n",
    "        models.append(classifier)\n",
    "    \n",
    "    # The bagging classifier\n",
    "    def classifier(inp):\n",
    "        \n",
    "        # Get the output of each tree on inp and return\n",
    "        # the majority vote\n",
    "        output = np.array([model.predict(inp) for model in models])\n",
    "        total = np.sum(output, axis=0)\n",
    "        threshold = num_bootstrap_samples / 2\n",
    "        return (total > threshold).astype(int)\n",
    "    \n",
    "    return classifier"
   ]
  },
  {
   "cell_type": "markdown",
   "id": "310a8670",
   "metadata": {},
   "source": [
    "Now we'll use cross-validation to compare the bagging classifier and the base tree."
   ]
  },
  {
   "cell_type": "code",
   "execution_count": 11,
   "id": "59896c27",
   "metadata": {},
   "outputs": [],
   "source": [
    "def create_random_splits(X, Y, num_ch):\n",
    "    \"\"\"\n",
    "        Split the dataset (X, Y) into num_ch random chunks\n",
    "        of equal size (except for possibly the last chunk).\n",
    "        (X, Y): the dataset\n",
    "        num_ch: the number of chunks\n",
    "    \"\"\"\n",
    "    \n",
    "    # Randomly permute (X, Y)\n",
    "    n = len(X)\n",
    "    indices = np.random.permutation(n)\n",
    "    X_perm = X[indices]\n",
    "    Y_perm = Y[indices]\n",
    "    \n",
    "    k = n // num_ch\n",
    "    \n",
    "    # Arrays to hold the chunks\n",
    "    Xs = []\n",
    "    Ys = []\n",
    "    \n",
    "    # Append one chunk at a time\n",
    "    for i in range(num_ch):\n",
    "        if i < num_ch-1:\n",
    "            Xs.append(X_perm[i*k:i*k + k, :])\n",
    "            Ys.append(Y_perm[i*k:i*k + k])\n",
    "        else:\n",
    "            Xs.append(X_perm[i*k:, :])\n",
    "            Ys.append(Y_perm[i*k:])\n",
    "    \n",
    "    return Xs, Ys"
   ]
  },
  {
   "cell_type": "code",
   "execution_count": 12,
   "id": "1a121255",
   "metadata": {},
   "outputs": [],
   "source": [
    "def cross_validation(X, Y, num_ch, num_bootstrap_samples=1000, min_samples_split=10, random_state=42):\n",
    "    \"\"\"\n",
    "        Perform n-fold cross-validation to compare a decision tree\n",
    "            and a bagged model where\n",
    "        (X, Y): the dataset\n",
    "        num_ch: the number of folds\n",
    "        Returns:\n",
    "            base_errors: a list of errors for the base tree on each fold\n",
    "            bag_errors: a list of errors for the bagged model on each fold\n",
    "    \"\"\"\n",
    "    base_errors = []\n",
    "    bag_errors = []\n",
    "    Xs, Ys = create_random_splits(X, Y, num_ch)\n",
    "\n",
    "    # Train the model for each fold and compute\n",
    "    # the error on the held out test set.\n",
    "    for i in range(num_ch):\n",
    "        # (X_left_over, Y_left_over) is the training dataset\n",
    "        # for this fold.\n",
    "        # (X_ch, Y_ch) is the held out test set.\n",
    "        X_left_over = np.concatenate(Xs[:i] + Xs[i+1:], axis=0)\n",
    "        Y_left_over = np.concatenate(Ys[:i] + Ys[i+1:], axis=0)\n",
    "        X_ch = Xs[i]\n",
    "        Y_ch = Ys[i]\n",
    "\n",
    "        # Fit a tree on X_left_over, Y_left_over and\n",
    "        # compute the error on X_ch, Y_ch\n",
    "        base_clf = DecisionTreeClassifier(criterion='gini', min_samples_split=min_samples_split,\n",
    "                                        random_state=random_state)\n",
    "        base_clf.fit(X_left_over, Y_left_over)\n",
    "        Y_pred_base = base_clf.predict(X_ch)\n",
    "        base_error = (Y_ch != Y_pred_base).mean()\n",
    "        \n",
    "        # Fit a bagging model on X_left_over, Y_left_over and\n",
    "        # compute the error on X_ch, Y_ch\n",
    "        bagged_clf = bag_trees(X_left_over, Y_left_over, num_bootstrap_samples=num_bootstrap_samples,\n",
    "                               min_samples_split=min_samples_split, random_state=random_state)\n",
    "        Y_pred_bagged = bagged_clf(X_ch)\n",
    "        bagged_error = (Y_ch != Y_pred_bagged).mean()\n",
    "        \n",
    "        base_errors.append(base_error)\n",
    "        bag_errors.append(bagged_error)\n",
    "\n",
    "    return base_errors, bag_errors"
   ]
  },
  {
   "cell_type": "code",
   "execution_count": 13,
   "id": "5dbcc682",
   "metadata": {},
   "outputs": [],
   "source": [
    "base_errors, bagged_errors = cross_validation(X, Y, 5)"
   ]
  },
  {
   "cell_type": "code",
   "execution_count": 17,
   "id": "baab56f5",
   "metadata": {},
   "outputs": [
    {
     "name": "stdout",
     "output_type": "stream",
     "text": [
      "Fold: 0, tree error: 0.07717, bagging model error: 0.04348\n",
      "Fold: 1, tree error: 0.07609, bagging model error: 0.05870\n",
      "Fold: 2, tree error: 0.09348, bagging model error: 0.06196\n",
      "Fold: 3, tree error: 0.08370, bagging model error: 0.05652\n",
      "Fold: 4, tree error: 0.09989, bagging model error: 0.06080\n"
     ]
    }
   ],
   "source": [
    "for i in range(5):\n",
    "    base_err = base_errors[i]\n",
    "    bag_err = bagged_errors[i]\n",
    "    print(f'Fold: {i}, tree error: {base_err:.5f}, bagging model error: {bag_err:.5f}')"
   ]
  },
  {
   "cell_type": "code",
   "execution_count": 18,
   "id": "dea6f5b8",
   "metadata": {},
   "outputs": [
    {
     "name": "stdout",
     "output_type": "stream",
     "text": [
      "Base tree mean CV error: 0.08607\n",
      "Bagged model mean CV error: 0.05629\n"
     ]
    }
   ],
   "source": [
    "mean_base_error = np.mean(base_errors)\n",
    "mean_bag_error = np.mean(bagged_errors)\n",
    "print(f'Base tree mean CV error: {mean_base_error:.5f}')\n",
    "print(f'Bagged model mean CV error: {mean_bag_error:.5f}')"
   ]
  },
  {
   "cell_type": "markdown",
   "id": "ec7ee58c",
   "metadata": {},
   "source": [
    "Thus we see that the bagged model does improve performance quite a bit. Namely, the CV error is reduced by approximately 35%."
   ]
  }
 ],
 "metadata": {
  "kernelspec": {
   "display_name": "deeplearn",
   "language": "python",
   "name": "deeplearn"
  },
  "language_info": {
   "codemirror_mode": {
    "name": "ipython",
    "version": 3
   },
   "file_extension": ".py",
   "mimetype": "text/x-python",
   "name": "python",
   "nbconvert_exporter": "python",
   "pygments_lexer": "ipython3",
   "version": "3.10.0"
  }
 },
 "nbformat": 4,
 "nbformat_minor": 5
}
