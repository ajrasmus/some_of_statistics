{
 "cells": [
  {
   "cell_type": "code",
   "execution_count": 43,
   "id": "4630be0a",
   "metadata": {},
   "outputs": [],
   "source": [
    "import pandas as pd\n",
    "import matplotlib.pyplot as plt\n",
    "import numpy as np\n",
    "from numpy.linalg import inv"
   ]
  },
  {
   "cell_type": "markdown",
   "id": "75c1599b",
   "metadata": {},
   "source": [
    "First let's prepare the data."
   ]
  },
  {
   "cell_type": "code",
   "execution_count": 44,
   "id": "95c58336",
   "metadata": {},
   "outputs": [],
   "source": [
    "ds = pd.read_csv('iris.csv')"
   ]
  },
  {
   "cell_type": "code",
   "execution_count": 45,
   "id": "496edfcf",
   "metadata": {},
   "outputs": [
    {
     "data": {
      "text/plain": [
       "array(['setosa', 'versicolor', 'virginica'], dtype=object)"
      ]
     },
     "execution_count": 45,
     "metadata": {},
     "output_type": "execute_result"
    }
   ],
   "source": [
    "ds.species.unique()"
   ]
  },
  {
   "cell_type": "code",
   "execution_count": 46,
   "id": "7bd1cde3",
   "metadata": {},
   "outputs": [],
   "source": [
    "# The rows corresponding to Setosa\n",
    "setosa = ds[ds.species == 'setosa']"
   ]
  },
  {
   "cell_type": "code",
   "execution_count": 47,
   "id": "4454a278",
   "metadata": {},
   "outputs": [],
   "source": [
    "# The rows corresponding to Versicolor\n",
    "versicolor = ds[ds.species == 'versicolor']"
   ]
  },
  {
   "cell_type": "code",
   "execution_count": 48,
   "id": "7d57a1d9",
   "metadata": {},
   "outputs": [],
   "source": [
    "# The rows corresponding to Virginica\n",
    "virginica = ds[ds.species == 'virginica']"
   ]
  },
  {
   "cell_type": "markdown",
   "id": "61a1c7a4",
   "metadata": {},
   "source": [
    "Below we plot petal length versus sepal length for the three Iris species."
   ]
  },
  {
   "cell_type": "code",
   "execution_count": 49,
   "id": "4e8466de",
   "metadata": {},
   "outputs": [
    {
     "data": {
      "text/plain": [
       "<matplotlib.legend.Legend at 0x7f7ad22a98a0>"
      ]
     },
     "execution_count": 49,
     "metadata": {},
     "output_type": "execute_result"
    },
    {
     "data": {
      "image/png": "[encoded data removed]",
      "text/plain": [
       "<Figure size 640x480 with 1 Axes>"
      ]
     },
     "metadata": {},
     "output_type": "display_data"
    }
   ],
   "source": [
    "plt.scatter(versicolor['sepal_length'], versicolor['petal_length'], label='versicolor')\n",
    "plt.scatter(setosa['sepal_length'], setosa['petal_length'], label='setosa')\n",
    "plt.scatter(virginica['sepal_length'], virginica['petal_length'], label='virginica')\n",
    "plt.legend()"
   ]
  },
  {
   "cell_type": "markdown",
   "id": "d5416b48",
   "metadata": {},
   "source": [
    "Below we replace the class labels by $1,2,3$."
   ]
  },
  {
   "cell_type": "code",
   "execution_count": 50,
   "id": "e6c2e369",
   "metadata": {},
   "outputs": [],
   "source": [
    "ds.replace('setosa', 1, inplace=True)"
   ]
  },
  {
   "cell_type": "code",
   "execution_count": 51,
   "id": "62ce8fb7",
   "metadata": {},
   "outputs": [],
   "source": [
    "ds.replace('versicolor', 2, inplace=True)"
   ]
  },
  {
   "cell_type": "code",
   "execution_count": 52,
   "id": "4eeeecb9",
   "metadata": {},
   "outputs": [],
   "source": [
    "ds.replace('virginica', 3, inplace=True)"
   ]
  },
  {
   "cell_type": "code",
   "execution_count": 53,
   "id": "81815607",
   "metadata": {},
   "outputs": [],
   "source": [
    "# The input data\n",
    "X = ds[['sepal_length', 'sepal_width', 'petal_length', 'petal_width']].to_numpy()"
   ]
  },
  {
   "cell_type": "code",
   "execution_count": 54,
   "id": "0f92dc9c",
   "metadata": {},
   "outputs": [],
   "source": [
    "# The class labels\n",
    "Y = ds['species'].to_numpy()"
   ]
  },
  {
   "cell_type": "code",
   "execution_count": 55,
   "id": "17b69929",
   "metadata": {},
   "outputs": [],
   "source": [
    "def LDA(X, Y, k):\n",
    "    \"\"\"\n",
    "        Construct the LDA classifier defined by explanatory variable X\n",
    "        and response variable Y and return it.\n",
    "        Returns: h, a Python function taking a row with length X.shape[0]\n",
    "        and returning a class between 1 and k.\n",
    "    \"\"\"\n",
    "    \n",
    "    # The rows of X corresponding to the different class labels\n",
    "    Xs = [X[Y == i] for i in list(range(1,k+1))]\n",
    "    \n",
    "    # Number of instances of each class\n",
    "    ns = [len(x) for x in Xs]\n",
    "    n = len(X)\n",
    "    \n",
    "    # Proportion of each class out of the total\n",
    "    pis = [m / n for m in ns]\n",
    "    \n",
    "    # Mean input vector for each class\n",
    "    mus = [x.mean(axis=0) for x in Xs]\n",
    "    \n",
    "    # The matrices appearing in the sum for S_i in LDA\n",
    "    matrices = [np.array([(Xs[j] - mus[j])[i].reshape(-1,1) @ (Xs[j] - mus[j])[i].reshape(1,-1)\n",
    "                          for i in range(ns[j])]) for j in range(k)]\n",
    "    \n",
    "    # The matrices S_i in LDA\n",
    "    Sigmas = [mat.mean(axis=0) for mat in matrices]\n",
    "    \n",
    "    # The matrix S in LDA\n",
    "    Sigma = sum(m * S for (m, S) in zip(ns, Sigmas)) / n\n",
    "    \n",
    "    # The classification functions delta in LDA\n",
    "    deltas = [lambda x, j=j: x @ inv(Sigma) @ mus[j].T - 0.5 * mus[j] @ inv(Sigma) @ mus[j].T + np.log(pis[j])\n",
    "             for j in range(k)]\n",
    "\n",
    "    # The LDA classifier\n",
    "    h = lambda x: np.argmax([delta(x) for delta in deltas]) + 1\n",
    "    \n",
    "    return h"
   ]
  },
  {
   "cell_type": "markdown",
   "id": "d355e910",
   "metadata": {},
   "source": [
    "Below we train an LDA classifier and study its errors."
   ]
  },
  {
   "cell_type": "code",
   "execution_count": 56,
   "id": "00d7e554",
   "metadata": {},
   "outputs": [],
   "source": [
    "# The LDA classifier for X and Y\n",
    "h = LDA(X, Y, 3)"
   ]
  },
  {
   "cell_type": "code",
   "execution_count": 57,
   "id": "2c3bd3cd",
   "metadata": {},
   "outputs": [],
   "source": [
    "# The predicted classes using LDA\n",
    "Y_pred = list(map(h, X))"
   ]
  },
  {
   "cell_type": "code",
   "execution_count": 58,
   "id": "f50035b2",
   "metadata": {},
   "outputs": [],
   "source": [
    "# The training error of the LDA classifier\n",
    "train_error = (Y != Y_pred).mean()"
   ]
  },
  {
   "cell_type": "code",
   "execution_count": 59,
   "id": "edf06ca1",
   "metadata": {},
   "outputs": [
    {
     "name": "stdout",
     "output_type": "stream",
     "text": [
      "Observed training error: 0.020\n"
     ]
    }
   ],
   "source": [
    "print(f'Observed training error: {train_error:.3f}')"
   ]
  },
  {
   "cell_type": "markdown",
   "id": "6ea60c82",
   "metadata": {},
   "source": [
    "Since LDA is a linear classifier, we can use Theorem 22.26 to compute a $1-\\alpha$ confidence interval. To do this we need to calculate $\\epsilon_n$."
   ]
  },
  {
   "cell_type": "code",
   "execution_count": 60,
   "id": "20fc5ef3",
   "metadata": {},
   "outputs": [],
   "source": [
    "n = len(Y)"
   ]
  },
  {
   "cell_type": "code",
   "execution_count": 61,
   "id": "bd606b45",
   "metadata": {},
   "outputs": [],
   "source": [
    "d = X.shape[1]"
   ]
  },
  {
   "cell_type": "code",
   "execution_count": 62,
   "id": "d51f5f5c",
   "metadata": {},
   "outputs": [],
   "source": [
    "alpha = 0.05"
   ]
  },
  {
   "cell_type": "code",
   "execution_count": 63,
   "id": "a2519c7b",
   "metadata": {},
   "outputs": [],
   "source": [
    "eps = np.sqrt((32 / n) * np.log((8 * (n**(d+1) + 1)) / alpha))"
   ]
  },
  {
   "cell_type": "code",
   "execution_count": 64,
   "id": "dc68286d",
   "metadata": {},
   "outputs": [
    {
     "name": "stdout",
     "output_type": "stream",
     "text": [
      "95% confidence interval for true error rate: (-2.5152, 2.5552)\n"
     ]
    }
   ],
   "source": [
    "print(f'95% confidence interval for true error rate: ({(train_error - eps):.4f}, {(train_error + eps):.4f})')"
   ]
  }
 ],
 "metadata": {
  "kernelspec": {
   "display_name": "deeplearn",
   "language": "python",
   "name": "deeplearn"
  },
  "language_info": {
   "codemirror_mode": {
    "name": "ipython",
    "version": 3
   },
   "file_extension": ".py",
   "mimetype": "text/x-python",
   "name": "python",
   "nbconvert_exporter": "python",
   "pygments_lexer": "ipython3",
   "version": "3.10.0"
  }
 },
 "nbformat": 4,
 "nbformat_minor": 5
}
