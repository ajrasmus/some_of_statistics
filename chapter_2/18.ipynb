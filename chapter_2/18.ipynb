{
 "cells": [
  {
   "cell_type": "code",
   "execution_count": 15,
   "id": "fbfcfab0",
   "metadata": {},
   "outputs": [],
   "source": [
    "from scipy.stats import norm"
   ]
  },
  {
   "cell_type": "code",
   "execution_count": 16,
   "id": "8804613f",
   "metadata": {},
   "outputs": [],
   "source": [
    "Phi = lambda x : norm.cdf(x)"
   ]
  },
  {
   "cell_type": "markdown",
   "id": "9f199a27",
   "metadata": {},
   "source": [
    "Part (a)\n",
    "--"
   ]
  },
  {
   "cell_type": "markdown",
   "id": "4e0edd28",
   "metadata": {},
   "source": [
    "$\\mathbb{P}(X<7)=\\mathbb{P}(\\frac{X-3}{4} < 1) = \\Phi(1)$"
   ]
  },
  {
   "cell_type": "code",
   "execution_count": 17,
   "id": "5b4040fe",
   "metadata": {},
   "outputs": [
    {
     "name": "stdout",
     "output_type": "stream",
     "text": [
      "Answer to part (a): 0.8413447460685429\n"
     ]
    }
   ],
   "source": [
    "print('Answer to part (a): {}'.format(Phi(1)))"
   ]
  },
  {
   "cell_type": "markdown",
   "id": "f68a10fe",
   "metadata": {},
   "source": [
    "Part (b)\n",
    "--"
   ]
  },
  {
   "cell_type": "markdown",
   "id": "a5813d89",
   "metadata": {},
   "source": [
    "$\\mathbb{P}(X > -2) = 1 - \\Phi(\\frac{-2-3}{4})=1-\\Phi(-5/4)$"
   ]
  },
  {
   "cell_type": "code",
   "execution_count": 18,
   "id": "d17191d8",
   "metadata": {},
   "outputs": [
    {
     "name": "stdout",
     "output_type": "stream",
     "text": [
      "Answer to part (b): 0.8943502263331446\n"
     ]
    }
   ],
   "source": [
    "print('Answer to part (b): {}'.format(1-Phi(-5/4)))"
   ]
  },
  {
   "cell_type": "markdown",
   "id": "fb505538",
   "metadata": {},
   "source": [
    "Part (c)\n",
    "--"
   ]
  },
  {
   "cell_type": "markdown",
   "id": "dec67639",
   "metadata": {},
   "source": [
    "$\\mathbb{P}(X > x) = 0.05$ exactly if $\\Phi(\\frac{x-3}{4}) = 0.95$. You can find $(x-3)/4$ approximately by using a normal table and then solve for $x$. We'll use scipy for this instead."
   ]
  },
  {
   "cell_type": "code",
   "execution_count": 19,
   "id": "1a04c504",
   "metadata": {},
   "outputs": [],
   "source": [
    "x = 4 * norm.ppf(0.95) + 3"
   ]
  },
  {
   "cell_type": "code",
   "execution_count": 20,
   "id": "727534d7",
   "metadata": {},
   "outputs": [
    {
     "name": "stdout",
     "output_type": "stream",
     "text": [
      "Answer to part (c): 9.57941450780589\n"
     ]
    }
   ],
   "source": [
    "print('Answer to part (c): {}'.format(x))"
   ]
  },
  {
   "cell_type": "markdown",
   "id": "28177f4a",
   "metadata": {},
   "source": [
    "Part (d)\n",
    "--"
   ]
  },
  {
   "cell_type": "markdown",
   "id": "ff5436d7",
   "metadata": {},
   "source": [
    "$\\mathbb{P}(0\\leq X < 4) = \\Phi(\\frac{4-3}{4}) - \\Phi(\\frac{0-3}{4}) = \\Phi(0.25) - \\Phi(-0.75)$"
   ]
  },
  {
   "cell_type": "code",
   "execution_count": 21,
   "id": "6ec56ec7",
   "metadata": {},
   "outputs": [
    {
     "name": "stdout",
     "output_type": "stream",
     "text": [
      "Answer to part (d): 0.3720789733060555\n"
     ]
    }
   ],
   "source": [
    "print('Answer to part (d): {}'.format(Phi(0.25) - Phi(-0.75)))"
   ]
  },
  {
   "cell_type": "markdown",
   "id": "f81eeef2",
   "metadata": {},
   "source": [
    "Part (e)\n",
    "--"
   ]
  },
  {
   "cell_type": "markdown",
   "id": "4d7a1bd4",
   "metadata": {},
   "source": [
    "We want to solve $\\mathbb P(X > x) + \\mathbb P(X < -x) =\\mathbb{P}(|X| > x) = 0.05$. This is equal to $1- \\Phi(\\frac{x-3}{4}) + \\Phi(\\frac{-x-3}{4})$ so we want to solve $\\Phi(y) - \\Phi(-y-\\frac{3}{2})=0.95$ where $y = \\frac{x-3}{4}$. Using that $\\Phi(-z)=1-\\Phi(z)$, we get $\\Phi(y) + \\Phi(y+\\frac{3}{2})=1.95$."
   ]
  },
  {
   "cell_type": "markdown",
   "id": "279dfb50",
   "metadata": {},
   "source": [
    "This equation is easier to approach using a normal table. Scan along the table, keeping track of $\\Phi(y)$ and $\\Phi(y+1.5)$ until you see the two numbers adding up to $1.95$. We see that $\\Phi(1.65) + \\Phi(3.15)$ is"
   ]
  },
  {
   "cell_type": "code",
   "execution_count": 22,
   "id": "db50051f",
   "metadata": {},
   "outputs": [
    {
     "name": "stdout",
     "output_type": "stream",
     "text": [
      "0.9505 + 0.9992 = 1.9497\n"
     ]
    }
   ],
   "source": [
    "print('{0:.4f} + {1:.4f} = {2:.4f}'.format(\n",
    "    Phi(1.65), Phi(3.15), Phi(1.65) + Phi(3.15)))"
   ]
  },
  {
   "cell_type": "markdown",
   "id": "3287b549",
   "metadata": {},
   "source": [
    "So $y=1.65$ is an approximate solution. And $x=4(1.65)+3=9.6$ is an approximate solution to the original equation."
   ]
  },
  {
   "cell_type": "code",
   "execution_count": 23,
   "id": "c7cb442f",
   "metadata": {},
   "outputs": [
    {
     "name": "stdout",
     "output_type": "stream",
     "text": [
      "Approximate answer to part (e): 9.6\n"
     ]
    }
   ],
   "source": [
    "print('Approximate answer to part (e): {}'.format(9.6))"
   ]
  }
 ],
 "metadata": {
  "kernelspec": {
   "display_name": "cs224n-cpu",
   "language": "python",
   "name": "cs224n-cpu"
  },
  "language_info": {
   "codemirror_mode": {
    "name": "ipython",
    "version": 3
   },
   "file_extension": ".py",
   "mimetype": "text/x-python",
   "name": "python",
   "nbconvert_exporter": "python",
   "pygments_lexer": "ipython3",
   "version": "3.10.0"
  }
 },
 "nbformat": 4,
 "nbformat_minor": 5
}
