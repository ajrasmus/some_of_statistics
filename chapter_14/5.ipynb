{
 "cells": [
  {
   "cell_type": "code",
   "execution_count": 1,
   "id": "322ce6de",
   "metadata": {},
   "outputs": [],
   "source": [
    "from scipy.linalg import sqrtm\n",
    "from scipy.stats import norm\n",
    "import numpy as np\n",
    "from numpy.random import multivariate_normal\n",
    "import matplotlib.pyplot as plt"
   ]
  },
  {
   "cell_type": "markdown",
   "id": "e0902a95",
   "metadata": {},
   "source": [
    "First let's make the scatterplot."
   ]
  },
  {
   "cell_type": "code",
   "execution_count": 2,
   "id": "bbe91561",
   "metadata": {},
   "outputs": [],
   "source": [
    "mu = np.array([3,8])"
   ]
  },
  {
   "cell_type": "code",
   "execution_count": 3,
   "id": "55ebcb4e",
   "metadata": {},
   "outputs": [],
   "source": [
    "Sigma = np.array([[1,1],[1,2]])"
   ]
  },
  {
   "cell_type": "code",
   "execution_count": 4,
   "id": "034b6aa9",
   "metadata": {},
   "outputs": [],
   "source": [
    "np.random.seed(42)"
   ]
  },
  {
   "cell_type": "code",
   "execution_count": 5,
   "id": "3b916e97",
   "metadata": {},
   "outputs": [],
   "source": [
    "X = multivariate_normal(mean=mu, cov=Sigma, size=100)"
   ]
  },
  {
   "cell_type": "code",
   "execution_count": 7,
   "id": "334bfa0a",
   "metadata": {},
   "outputs": [
    {
     "data": {
      "text/plain": [
       "Text(0.5, 1.0, 'Multivariate normal distribution')"
      ]
     },
     "execution_count": 7,
     "metadata": {},
     "output_type": "execute_result"
    },
    {
     "data": {
      "image/png": "[encoded data removed]",
      "text/plain": [
       "<Figure size 640x480 with 1 Axes>"
      ]
     },
     "metadata": {},
     "output_type": "display_data"
    }
   ],
   "source": [
    "plt.scatter(X[:,0], X[:,1])\n",
    "plt.title('Multivariate normal distribution')"
   ]
  },
  {
   "cell_type": "markdown",
   "id": "00478ac0",
   "metadata": {},
   "source": [
    "Now let's compute the maximum likelihood estimators for $\\mu$ and $\\Sigma$."
   ]
  },
  {
   "cell_type": "code",
   "execution_count": 11,
   "id": "c2cf6b96",
   "metadata": {},
   "outputs": [],
   "source": [
    "mu_hat = np.mean(X, axis=0)"
   ]
  },
  {
   "cell_type": "code",
   "execution_count": 12,
   "id": "df84cc3a",
   "metadata": {},
   "outputs": [],
   "source": [
    "Sigma_hat = np.cov(X.T)"
   ]
  },
  {
   "cell_type": "code",
   "execution_count": 20,
   "id": "5d8d11bf",
   "metadata": {},
   "outputs": [
    {
     "name": "stdout",
     "output_type": "stream",
     "text": [
      "MLE for mu: [3.080418232285407, 8.170115074267017]\n",
      "MLE for Sigma: [[0.8310909391031617, 0.7004632874338991], [0.7004632874338991, 1.4697354290018452]]\n"
     ]
    }
   ],
   "source": [
    "print(f'MLE for mu: {mu_hat.tolist()}')\n",
    "print(f'MLE for Sigma: {Sigma_hat.tolist()}')"
   ]
  },
  {
   "cell_type": "markdown",
   "id": "c43f12d6",
   "metadata": {},
   "source": [
    "These are pretty close to the true values."
   ]
  },
  {
   "cell_type": "markdown",
   "id": "cf67c3cd",
   "metadata": {},
   "source": [
    "Let's compute the sample correlation. We have $\\text{Cov}(X_1,X_2)=1$, $\\mathbb V(X_1)=1$, $\\mathbb V(X_2)=2$, so the correlation is $\\rho=1/\\sqrt{2}$."
   ]
  },
  {
   "cell_type": "code",
   "execution_count": 21,
   "id": "d7016422",
   "metadata": {},
   "outputs": [],
   "source": [
    "rho = 1/np.sqrt(2)"
   ]
  },
  {
   "cell_type": "code",
   "execution_count": 22,
   "id": "15929fd3",
   "metadata": {},
   "outputs": [],
   "source": [
    "rho_hat = np.dot(X[:,0] - X[:,0].mean(), X[:,1] - X[:,1].mean()) / (np.linalg.norm(X[:,0] - X[:,0].mean()) * np.linalg.norm(X[:,1] - X[:,1].mean()))"
   ]
  },
  {
   "cell_type": "code",
   "execution_count": 23,
   "id": "e9b5bf90",
   "metadata": {},
   "outputs": [
    {
     "name": "stdout",
     "output_type": "stream",
     "text": [
      "True correlation: 0.7071\n",
      "Sample correlation: 0.6338\n"
     ]
    }
   ],
   "source": [
    "print(f'True correlation: {rho:.4f}')\n",
    "print(f'Sample correlation: {rho_hat:.4f}')"
   ]
  },
  {
   "cell_type": "markdown",
   "id": "cbf39ffe",
   "metadata": {},
   "source": [
    "Now let's find a 95% confidence interval using Fisher's method."
   ]
  },
  {
   "cell_type": "code",
   "execution_count": 24,
   "id": "ee6ccd70",
   "metadata": {},
   "outputs": [],
   "source": [
    "f = lambda r: (np.log(1+r) - np.log(1-r))/2"
   ]
  },
  {
   "cell_type": "code",
   "execution_count": 25,
   "id": "54c21112",
   "metadata": {},
   "outputs": [],
   "source": [
    "g = lambda z: (np.exp(2*z) - 1)/(np.exp(2*z) + 1)"
   ]
  },
  {
   "cell_type": "code",
   "execution_count": 26,
   "id": "5aa9a92f",
   "metadata": {},
   "outputs": [],
   "source": [
    "theta_hat = f(rho_hat)"
   ]
  },
  {
   "cell_type": "code",
   "execution_count": 27,
   "id": "c297b679",
   "metadata": {},
   "outputs": [],
   "source": [
    "n = len(X)"
   ]
  },
  {
   "cell_type": "code",
   "execution_count": 28,
   "id": "a7477c11",
   "metadata": {},
   "outputs": [],
   "source": [
    "se_hat = 1/np.sqrt(n-3)"
   ]
  },
  {
   "cell_type": "code",
   "execution_count": 29,
   "id": "b0803149",
   "metadata": {},
   "outputs": [],
   "source": [
    "z = norm.ppf(1 - 0.05/2)"
   ]
  },
  {
   "cell_type": "code",
   "execution_count": 34,
   "id": "3d045dbf",
   "metadata": {},
   "outputs": [],
   "source": [
    "# a and b are the endpoints of the confidence interval for f(rho)\n",
    "a = theta_hat - z*se_hat"
   ]
  },
  {
   "cell_type": "code",
   "execution_count": 35,
   "id": "9b7ce168",
   "metadata": {},
   "outputs": [],
   "source": [
    "b = theta_hat + z*se_hat"
   ]
  },
  {
   "cell_type": "code",
   "execution_count": 36,
   "id": "74508450",
   "metadata": {},
   "outputs": [],
   "source": [
    "# c and d are the endpoints of the confidence interval for rho,\n",
    "# as described in Fisher's method.\n",
    "c = g(a)"
   ]
  },
  {
   "cell_type": "code",
   "execution_count": 37,
   "id": "2591fd11",
   "metadata": {},
   "outputs": [],
   "source": [
    "d = g(b)"
   ]
  },
  {
   "cell_type": "code",
   "execution_count": 49,
   "id": "5a4dec20",
   "metadata": {},
   "outputs": [
    {
     "name": "stdout",
     "output_type": "stream",
     "text": [
      "95% confidence interval from Fisher's method: (0.4996, 0.7383)\n"
     ]
    }
   ],
   "source": [
    "print(f\"95% confidence interval from Fisher's method: ({c:.4f}, {d:.4f})\")"
   ]
  },
  {
   "cell_type": "markdown",
   "id": "cad21749",
   "metadata": {},
   "source": [
    "Now let's compute a confidence interval using bootstrapping."
   ]
  },
  {
   "cell_type": "code",
   "execution_count": 50,
   "id": "f2ccd90f",
   "metadata": {},
   "outputs": [],
   "source": [
    "B = int(1e5)"
   ]
  },
  {
   "cell_type": "code",
   "execution_count": 51,
   "id": "5b23fa3e",
   "metadata": {},
   "outputs": [],
   "source": [
    "T_boot = np.empty(B)"
   ]
  },
  {
   "cell_type": "code",
   "execution_count": 52,
   "id": "db3bccc7",
   "metadata": {},
   "outputs": [],
   "source": [
    "for i in range(B):\n",
    "    X_star = X[np.random.choice(range(n), size=n, replace=True)]\n",
    "    T_boot[i] = np.corrcoef(X_star[:,0], X_star[:,1])[0,1]"
   ]
  },
  {
   "cell_type": "code",
   "execution_count": 53,
   "id": "81421a18",
   "metadata": {},
   "outputs": [],
   "source": [
    "v_boot = T_boot.var()"
   ]
  },
  {
   "cell_type": "code",
   "execution_count": 54,
   "id": "4face7bb",
   "metadata": {},
   "outputs": [],
   "source": [
    "se_boot = np.sqrt(v_boot)"
   ]
  },
  {
   "cell_type": "code",
   "execution_count": 55,
   "id": "37f2c136",
   "metadata": {},
   "outputs": [],
   "source": [
    "# c_boot and d_boot are the endpoints of the confidence interval from bootstrapping.\n",
    "c_boot = rho_hat - z*se_boot"
   ]
  },
  {
   "cell_type": "code",
   "execution_count": 56,
   "id": "4a108a67",
   "metadata": {},
   "outputs": [],
   "source": [
    "d_boot = rho_hat + z*se_boot"
   ]
  },
  {
   "cell_type": "code",
   "execution_count": 57,
   "id": "ee0d3d3b",
   "metadata": {},
   "outputs": [
    {
     "name": "stdout",
     "output_type": "stream",
     "text": [
      "95% confidence interval from bootstrapping: (0.5119, 0.7557)\n"
     ]
    }
   ],
   "source": [
    "print(f\"95% confidence interval from bootstrapping: ({c_boot:.4f}, {d_boot:.4f})\")"
   ]
  },
  {
   "cell_type": "markdown",
   "id": "f487d960",
   "metadata": {},
   "source": [
    "We see that the bootstrap confidence interval is shifted upwards a bit from Fisher's interval."
   ]
  }
 ],
 "metadata": {
  "kernelspec": {
   "display_name": "deeplearn",
   "language": "python",
   "name": "deeplearn"
  },
  "language_info": {
   "codemirror_mode": {
    "name": "ipython",
    "version": 3
   },
   "file_extension": ".py",
   "mimetype": "text/x-python",
   "name": "python",
   "nbconvert_exporter": "python",
   "pygments_lexer": "ipython3",
   "version": "3.10.0"
  }
 },
 "nbformat": 4,
 "nbformat_minor": 5
}
