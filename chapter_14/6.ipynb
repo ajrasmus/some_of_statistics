{
 "cells": [
  {
   "cell_type": "code",
   "execution_count": 19,
   "id": "244ce9cd",
   "metadata": {},
   "outputs": [],
   "source": [
    "from scipy.linalg import sqrtm\n",
    "from scipy.stats import norm\n",
    "import numpy as np\n",
    "from numpy.random import multivariate_normal\n",
    "import matplotlib.pyplot as plt"
   ]
  },
  {
   "cell_type": "code",
   "execution_count": 20,
   "id": "54e0e5b0",
   "metadata": {},
   "outputs": [],
   "source": [
    "mu = np.array([3,8])"
   ]
  },
  {
   "cell_type": "code",
   "execution_count": 21,
   "id": "19c3c0a6",
   "metadata": {},
   "outputs": [],
   "source": [
    "Sigma = np.array([[1,1],[1,2]])"
   ]
  },
  {
   "cell_type": "code",
   "execution_count": 22,
   "id": "c3a2bdae",
   "metadata": {},
   "outputs": [],
   "source": [
    "rho = 1/np.sqrt(2)"
   ]
  },
  {
   "cell_type": "code",
   "execution_count": 23,
   "id": "5ee46750",
   "metadata": {},
   "outputs": [],
   "source": [
    "np.random.seed(42)"
   ]
  },
  {
   "cell_type": "code",
   "execution_count": 24,
   "id": "20158b9f",
   "metadata": {},
   "outputs": [],
   "source": [
    "# The lengths of the confidence intervals for each\n",
    "# repetition of the experiment\n",
    "fisher_lens = np.empty(1000)\n",
    "boot_lens = np.empty(1000)\n",
    "\n",
    "# Whether the computed confidence interval contains the\n",
    "# true correlation for each repetition of the experiment\n",
    "fisher_coverage = np.empty(1000)\n",
    "boot_coverage = np.empty(1000)"
   ]
  },
  {
   "cell_type": "code",
   "execution_count": 25,
   "id": "80452c4e",
   "metadata": {},
   "outputs": [],
   "source": [
    "f = lambda r: (np.log(1+r) - np.log(1-r))/2\n",
    "g = lambda z: (np.exp(2*z) - 1)/(np.exp(2*z) + 1)\n",
    "n = 100\n",
    "z = norm.ppf(1 - 0.05/2)"
   ]
  },
  {
   "cell_type": "code",
   "execution_count": 26,
   "id": "63cad3e7",
   "metadata": {},
   "outputs": [],
   "source": [
    "for i in range(1000):\n",
    "    X = multivariate_normal(mean=mu, cov=Sigma, size=n)\n",
    "    \n",
    "    # The predicted correlation\n",
    "    rho_hat = np.corrcoef(X[:,0], X[:,1])[0,1]\n",
    "    \n",
    "    # Apply Fisher's method\n",
    "    theta_hat = f(rho_hat)\n",
    "    se_hat = 1/np.sqrt(n-3)\n",
    "    a = theta_hat - z*se_hat\n",
    "    b = theta_hat + z*se_hat\n",
    "    c = g(a)\n",
    "    d = g(b)\n",
    "    fisher_lens[i] = d-c\n",
    "    fisher_coverage[i] = 1 if (c <= rho and rho <= d) else 0\n",
    "    \n",
    "    # Apply the bootstrap\n",
    "    B = int(1e3)\n",
    "    T_boot = np.empty(B)\n",
    "    for j in range(B):\n",
    "        X_star = X[np.random.choice(range(n), size=n, replace=True)]\n",
    "        T_boot[j] = np.corrcoef(X_star[:,0], X_star[:,1])[0,1]\n",
    "    v_boot = T_boot.var()\n",
    "    se_boot = np.sqrt(v_boot)\n",
    "    c_boot = rho_hat - z*se_boot\n",
    "    d_boot = rho_hat + z*se_boot\n",
    "    boot_lens[i] = d_boot - c_boot\n",
    "    boot_coverage[i] = 1 if (c_boot <= rho and rho <= d_boot) else 0"
   ]
  },
  {
   "cell_type": "markdown",
   "id": "a4f10110",
   "metadata": {},
   "source": [
    "Let's plot a histogram of the lengths of the confidence intervals to compare them."
   ]
  },
  {
   "cell_type": "code",
   "execution_count": 27,
   "id": "ab7d7cec",
   "metadata": {},
   "outputs": [
    {
     "data": {
      "text/plain": [
       "<matplotlib.legend.Legend at 0x7fd511209510>"
      ]
     },
     "execution_count": 27,
     "metadata": {},
     "output_type": "execute_result"
    },
    {
     "data": {
      "image/png": "[encoded data removed]",
      "text/plain": [
       "<Figure size 640x480 with 1 Axes>"
      ]
     },
     "metadata": {},
     "output_type": "display_data"
    }
   ],
   "source": [
    "bins = np.arange(0,0.4,0.01)\n",
    "plt.hist(fisher_lens, alpha=0.5, bins=bins, label='Fisher')\n",
    "plt.hist(boot_lens, alpha=0.5, bins=bins, label='Bootstrap')\n",
    "plt.legend()"
   ]
  },
  {
   "cell_type": "markdown",
   "id": "8b8eae7f",
   "metadata": {},
   "source": [
    "We see that the bootstrap generates confidence interval lengths which tend to be a bit more extreme: either very short or very long."
   ]
  },
  {
   "cell_type": "code",
   "execution_count": 28,
   "id": "0ef05bc6",
   "metadata": {},
   "outputs": [],
   "source": [
    "fisher_proportion = fisher_coverage.mean()"
   ]
  },
  {
   "cell_type": "code",
   "execution_count": 29,
   "id": "dcc8e928",
   "metadata": {},
   "outputs": [],
   "source": [
    "bootstrap_proportion = boot_coverage.mean()"
   ]
  },
  {
   "cell_type": "code",
   "execution_count": 30,
   "id": "688190e5",
   "metadata": {},
   "outputs": [
    {
     "name": "stdout",
     "output_type": "stream",
     "text": [
      "Coverage for Fisher's method: 0.956\n",
      "Coverage for the bootstrap: 0.933\n"
     ]
    }
   ],
   "source": [
    "print(f\"Coverage for Fisher's method: {fisher_proportion:.3f}\")\n",
    "print(f\"Coverage for the bootstrap: {bootstrap_proportion:.3f}\")"
   ]
  },
  {
   "cell_type": "markdown",
   "id": "d5c2d431",
   "metadata": {},
   "source": [
    "So Fisher's method has higher coverage for this problem."
   ]
  }
 ],
 "metadata": {
  "kernelspec": {
   "display_name": "deeplearn",
   "language": "python",
   "name": "deeplearn"
  },
  "language_info": {
   "codemirror_mode": {
    "name": "ipython",
    "version": 3
   },
   "file_extension": ".py",
   "mimetype": "text/x-python",
   "name": "python",
   "nbconvert_exporter": "python",
   "pygments_lexer": "ipython3",
   "version": "3.10.0"
  }
 },
 "nbformat": 4,
 "nbformat_minor": 5
}
