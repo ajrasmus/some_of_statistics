{
 "cells": [
  {
   "cell_type": "code",
   "execution_count": 24,
   "id": "24b36105",
   "metadata": {},
   "outputs": [],
   "source": [
    "import matplotlib.pyplot as plt\n",
    "import numpy as np\n",
    "from scipy.stats import norm"
   ]
  },
  {
   "cell_type": "markdown",
   "id": "34e46bec",
   "metadata": {},
   "source": [
    "# Part (a)"
   ]
  },
  {
   "cell_type": "markdown",
   "id": "28386ed4",
   "metadata": {},
   "source": [
    "The MLE for $\\psi=p_2-p_1$ is $\\hat \\psi =\\hat p_2 - \\hat p_1$ where $\\hat p_i = X_i/n$ where $X_i$ is the number of patients with improvement in group $i$ and $n=50$ is the total number of patients in each group (see Chapter 9, Exercise 7)."
   ]
  },
  {
   "cell_type": "code",
   "execution_count": 25,
   "id": "64a79e31",
   "metadata": {},
   "outputs": [],
   "source": [
    "n = 50"
   ]
  },
  {
   "cell_type": "code",
   "execution_count": 26,
   "id": "b0f01699",
   "metadata": {},
   "outputs": [],
   "source": [
    "X_1 = 30"
   ]
  },
  {
   "cell_type": "code",
   "execution_count": 27,
   "id": "b2bc9b9d",
   "metadata": {},
   "outputs": [],
   "source": [
    "X_2 = 40"
   ]
  },
  {
   "cell_type": "code",
   "execution_count": 28,
   "id": "38ce7028",
   "metadata": {},
   "outputs": [],
   "source": [
    "p_1_hat = X_1 / n"
   ]
  },
  {
   "cell_type": "code",
   "execution_count": 29,
   "id": "b2ff0db2",
   "metadata": {},
   "outputs": [],
   "source": [
    "p_2_hat = X_2 / n"
   ]
  },
  {
   "cell_type": "code",
   "execution_count": 30,
   "id": "f50502a1",
   "metadata": {},
   "outputs": [],
   "source": [
    "psi_hat = p_2_hat - p_1_hat"
   ]
  },
  {
   "cell_type": "code",
   "execution_count": 31,
   "id": "da1e879f",
   "metadata": {},
   "outputs": [
    {
     "name": "stdout",
     "output_type": "stream",
     "text": [
      "MLE for p_2 - p_1: 0.2000\n"
     ]
    }
   ],
   "source": [
    "print(f'MLE for p_2 - p_1: {psi_hat:.4f}')"
   ]
  },
  {
   "cell_type": "markdown",
   "id": "5da15c4c",
   "metadata": {},
   "source": [
    "We use the multiparameter Delta method to estimate the standard error. We have $\\psi=g(p_1,p_2)=p_2-p_1$ and $\\nabla g = (-1,1)^T$. Consider the function $\\ell = \\sum_{i=1}^2 \\log \\left( \\binom{n}{X_i} p_i^{X_i} (1-p_i)^{n-X_i}\\right)$. Then $\\partial l / \\partial p_i \\partial p_j = 0$ for $i\\neq j$ and\n",
    "$$\\frac{\\partial^2 \\ell}{\\partial p_i^2} = -\\frac{np_i}{p_i^2} - \\frac{n-np_i}{(1-p_i)^2} \\text{ and }\n",
    "\\mathbb{E}_{(p_1,p_2)}(\\partial^2 \\ell/ \\partial p_i^2) = -\\frac{n}{p_i(1-p_i)}.$$ Thus, the Fisher information is\n",
    "$$I(p_1,p_2)=n \\begin{pmatrix} \\frac{1}{p_1(1-p_1)} & 0 \\\\ 0 & \\frac{1}{p_2(1-p_2)}\\end{pmatrix} \\text{ with inverse }\n",
    "J(p_1,p_2)=\\frac{1}{n} \\begin{pmatrix} p_1(1-p_1) & 0 \\\\ 0 & p_2(1-p_2)\\end{pmatrix}.$$\n",
    "By the multiparameter delta method,\n",
    "$$\\hat{\\mathrm{se}}(\\hat \\psi)=\\frac{1}{\\sqrt{n}}\\sqrt{\\hat p_1(1 - \\hat p_1) + \\hat p_2 (1 - \\hat p_2)}.$$"
   ]
  },
  {
   "cell_type": "code",
   "execution_count": 32,
   "id": "2e15b41c",
   "metadata": {},
   "outputs": [],
   "source": [
    "se_hat = n**(-1/2) * (p_1_hat * (1 - p_1_hat) + p_2_hat * (1 - p_2_hat))**(1/2)"
   ]
  },
  {
   "cell_type": "code",
   "execution_count": 33,
   "id": "98639835",
   "metadata": {},
   "outputs": [
    {
     "name": "stdout",
     "output_type": "stream",
     "text": [
      "Estimated standard error using delta method: 0.0894\n"
     ]
    }
   ],
   "source": [
    "print(f'Estimated standard error using delta method: {se_hat:.4f}')"
   ]
  },
  {
   "cell_type": "markdown",
   "id": "e44e53f0",
   "metadata": {},
   "source": [
    "Now we use this to estimate a 90% confidence interval."
   ]
  },
  {
   "cell_type": "code",
   "execution_count": 39,
   "id": "56a08a0f",
   "metadata": {},
   "outputs": [],
   "source": [
    "alpha = 0.1"
   ]
  },
  {
   "cell_type": "code",
   "execution_count": 40,
   "id": "212d57e5",
   "metadata": {},
   "outputs": [],
   "source": [
    "z = norm.ppf(1 - alpha/2)"
   ]
  },
  {
   "cell_type": "code",
   "execution_count": 41,
   "id": "f7f262c9",
   "metadata": {},
   "outputs": [],
   "source": [
    "lower = psi_hat - z * se_hat"
   ]
  },
  {
   "cell_type": "code",
   "execution_count": 42,
   "id": "2f413670",
   "metadata": {},
   "outputs": [],
   "source": [
    "upper = psi_hat + z * se_hat"
   ]
  },
  {
   "cell_type": "code",
   "execution_count": 43,
   "id": "4facfc35",
   "metadata": {},
   "outputs": [
    {
     "name": "stdout",
     "output_type": "stream",
     "text": [
      "Estimated 90% confidence interval: (0.0529, 0.3471)\n"
     ]
    }
   ],
   "source": [
    "print(f'Estimated 90% confidence interval: ({lower:.4f}, {upper:.4f})')"
   ]
  },
  {
   "cell_type": "markdown",
   "id": "cc1a9564",
   "metadata": {},
   "source": [
    "# Part (b)"
   ]
  },
  {
   "cell_type": "markdown",
   "id": "c6d74c3a",
   "metadata": {},
   "source": [
    "Now we estimate the standard error using the parametric pootstrap. We sample from the distributions $\\mathrm{Bern}(\\hat p_1)$ and $\\mathrm{Bern}(\\hat p_2)$ to create each bootstrap sample."
   ]
  },
  {
   "cell_type": "code",
   "execution_count": 46,
   "id": "8fc91241",
   "metadata": {},
   "outputs": [],
   "source": [
    "B = int(1e5)"
   ]
  },
  {
   "cell_type": "code",
   "execution_count": 47,
   "id": "d535fd00",
   "metadata": {},
   "outputs": [],
   "source": [
    "bootstrap = np.empty(B)"
   ]
  },
  {
   "cell_type": "code",
   "execution_count": 48,
   "id": "07e477ae",
   "metadata": {},
   "outputs": [],
   "source": [
    "for i in range(B):\n",
    "    X_1_star = np.random.binomial(n, p_1_hat)\n",
    "    X_2_star = np.random.binomial(n, p_2_hat)\n",
    "    p_1_star = X_1_star / n\n",
    "    p_2_star = X_2_star / n\n",
    "    psi_star = p_2_star - p_1_star\n",
    "    bootstrap[i] = psi_star"
   ]
  },
  {
   "cell_type": "code",
   "execution_count": 50,
   "id": "202ef21c",
   "metadata": {},
   "outputs": [],
   "source": [
    "se_boot = np.sqrt(((bootstrap - psi_hat)**2).sum() / B)"
   ]
  },
  {
   "cell_type": "code",
   "execution_count": 51,
   "id": "c3033c85",
   "metadata": {},
   "outputs": [
    {
     "name": "stdout",
     "output_type": "stream",
     "text": [
      "Bootstrap standard error: 0.0893\n"
     ]
    }
   ],
   "source": [
    "print(f'Bootstrap standard error: {se_boot:.4f}')"
   ]
  },
  {
   "cell_type": "code",
   "execution_count": 53,
   "id": "2e64ee20",
   "metadata": {},
   "outputs": [],
   "source": [
    "lower = psi_hat - z * se_boot"
   ]
  },
  {
   "cell_type": "code",
   "execution_count": 54,
   "id": "462d0a4b",
   "metadata": {},
   "outputs": [],
   "source": [
    "upper = psi_hat + z * se_boot"
   ]
  },
  {
   "cell_type": "code",
   "execution_count": 55,
   "id": "345aeb9a",
   "metadata": {},
   "outputs": [
    {
     "name": "stdout",
     "output_type": "stream",
     "text": [
      "Estimated 90% confidence interval: (0.0531, 0.3469)\n"
     ]
    }
   ],
   "source": [
    "print(f'Estimated 90% confidence interval: ({lower:.4f}, {upper:.4f})')"
   ]
  },
  {
   "cell_type": "markdown",
   "id": "16f68cc1",
   "metadata": {},
   "source": [
    "# Part (c)"
   ]
  },
  {
   "cell_type": "markdown",
   "id": "f9dd1ac4",
   "metadata": {},
   "source": [
    "# Part (d)"
   ]
  },
  {
   "cell_type": "markdown",
   "id": "443b1aed",
   "metadata": {},
   "source": [
    "# Part (e)"
   ]
  }
 ],
 "metadata": {
  "kernelspec": {
   "display_name": "deeplearn",
   "language": "python",
   "name": "deeplearn"
  },
  "language_info": {
   "codemirror_mode": {
    "name": "ipython",
    "version": 3
   },
   "file_extension": ".py",
   "mimetype": "text/x-python",
   "name": "python",
   "nbconvert_exporter": "python",
   "pygments_lexer": "ipython3",
   "version": "3.10.0"
  }
 },
 "nbformat": 4,
 "nbformat_minor": 5
}
