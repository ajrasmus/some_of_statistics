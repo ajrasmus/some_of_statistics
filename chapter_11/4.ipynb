{
 "cells": [
  {
   "cell_type": "code",
   "execution_count": 57,
   "id": "24b36105",
   "metadata": {},
   "outputs": [],
   "source": [
    "import matplotlib.pyplot as plt\n",
    "import numpy as np\n",
    "from scipy.stats import norm, beta"
   ]
  },
  {
   "cell_type": "markdown",
   "id": "34e46bec",
   "metadata": {},
   "source": [
    "# Part (a)"
   ]
  },
  {
   "cell_type": "markdown",
   "id": "28386ed4",
   "metadata": {},
   "source": [
    "The MLE for $\\psi=p_2-p_1$ is $\\hat \\psi =\\hat p_2 - \\hat p_1$ where $\\hat p_i = X_i/n$ where $X_i$ is the number of patients with improvement in group $i$ and $n=50$ is the total number of patients in each group (see Chapter 9, Exercise 7)."
   ]
  },
  {
   "cell_type": "markdown",
   "id": "fb1abc61",
   "metadata": {},
   "source": [
    "Now let's estimate the standard error and a confidence interval."
   ]
  },
  {
   "cell_type": "code",
   "execution_count": 58,
   "id": "64a79e31",
   "metadata": {},
   "outputs": [],
   "source": [
    "n = 50"
   ]
  },
  {
   "cell_type": "code",
   "execution_count": 59,
   "id": "b0f01699",
   "metadata": {},
   "outputs": [],
   "source": [
    "X_1 = 30"
   ]
  },
  {
   "cell_type": "code",
   "execution_count": 60,
   "id": "b2bc9b9d",
   "metadata": {},
   "outputs": [],
   "source": [
    "X_2 = 40"
   ]
  },
  {
   "cell_type": "code",
   "execution_count": 61,
   "id": "38ce7028",
   "metadata": {},
   "outputs": [],
   "source": [
    "p_1_hat = X_1 / n"
   ]
  },
  {
   "cell_type": "code",
   "execution_count": 62,
   "id": "b2ff0db2",
   "metadata": {},
   "outputs": [],
   "source": [
    "p_2_hat = X_2 / n"
   ]
  },
  {
   "cell_type": "code",
   "execution_count": 63,
   "id": "f50502a1",
   "metadata": {},
   "outputs": [],
   "source": [
    "psi_hat = p_2_hat - p_1_hat"
   ]
  },
  {
   "cell_type": "code",
   "execution_count": 64,
   "id": "da1e879f",
   "metadata": {},
   "outputs": [
    {
     "name": "stdout",
     "output_type": "stream",
     "text": [
      "MLE for p_2 - p_1: 0.2000\n"
     ]
    }
   ],
   "source": [
    "print(f'MLE for p_2 - p_1: {psi_hat:.4f}')"
   ]
  },
  {
   "cell_type": "markdown",
   "id": "5da15c4c",
   "metadata": {},
   "source": [
    "We use the multiparameter Delta method to estimate the standard error. We have $\\psi=g(p_1,p_2)=p_2-p_1$ and $\\nabla g = (-1,1)^T$. Consider the function $\\ell = \\sum_{i=1}^2 \\log \\left( \\binom{n}{X_i} p_i^{X_i} (1-p_i)^{n-X_i}\\right)$. Then $\\partial l / \\partial p_i \\partial p_j = 0$ for $i\\neq j$ and\n",
    "$$\\frac{\\partial^2 \\ell}{\\partial p_i^2} = -\\frac{np_i}{p_i^2} - \\frac{n-np_i}{(1-p_i)^2} \\text{ and }\n",
    "\\mathbb{E}_{(p_1,p_2)}(\\partial^2 \\ell/ \\partial p_i^2) = -\\frac{n}{p_i(1-p_i)}.$$ Thus, the Fisher information is\n",
    "$$I(p_1,p_2)=n \\begin{pmatrix} \\frac{1}{p_1(1-p_1)} & 0 \\\\ 0 & \\frac{1}{p_2(1-p_2)}\\end{pmatrix} \\text{ with inverse }\n",
    "J(p_1,p_2)=\\frac{1}{n} \\begin{pmatrix} p_1(1-p_1) & 0 \\\\ 0 & p_2(1-p_2)\\end{pmatrix}.$$\n",
    "By the multiparameter delta method,\n",
    "$$\\hat{\\mathrm{se}}(\\hat \\psi)=\\frac{1}{\\sqrt{n}}\\sqrt{\\hat p_1(1 - \\hat p_1) + \\hat p_2 (1 - \\hat p_2)}.$$"
   ]
  },
  {
   "cell_type": "code",
   "execution_count": 65,
   "id": "2e15b41c",
   "metadata": {},
   "outputs": [],
   "source": [
    "se_hat = n**(-1/2) * (p_1_hat * (1 - p_1_hat) + p_2_hat * (1 - p_2_hat))**(1/2)"
   ]
  },
  {
   "cell_type": "code",
   "execution_count": 66,
   "id": "98639835",
   "metadata": {},
   "outputs": [
    {
     "name": "stdout",
     "output_type": "stream",
     "text": [
      "Estimated standard error using delta method: 0.0894\n"
     ]
    }
   ],
   "source": [
    "print(f'Estimated standard error using delta method: {se_hat:.4f}')"
   ]
  },
  {
   "cell_type": "markdown",
   "id": "e44e53f0",
   "metadata": {},
   "source": [
    "Now we use this to estimate a 90% confidence interval."
   ]
  },
  {
   "cell_type": "code",
   "execution_count": 67,
   "id": "56a08a0f",
   "metadata": {},
   "outputs": [],
   "source": [
    "alpha = 0.1"
   ]
  },
  {
   "cell_type": "code",
   "execution_count": 68,
   "id": "212d57e5",
   "metadata": {},
   "outputs": [],
   "source": [
    "z = norm.ppf(1 - alpha/2)"
   ]
  },
  {
   "cell_type": "code",
   "execution_count": 69,
   "id": "f7f262c9",
   "metadata": {},
   "outputs": [],
   "source": [
    "lower = psi_hat - z * se_hat"
   ]
  },
  {
   "cell_type": "code",
   "execution_count": 70,
   "id": "2f413670",
   "metadata": {},
   "outputs": [],
   "source": [
    "upper = psi_hat + z * se_hat"
   ]
  },
  {
   "cell_type": "code",
   "execution_count": 71,
   "id": "4facfc35",
   "metadata": {},
   "outputs": [
    {
     "name": "stdout",
     "output_type": "stream",
     "text": [
      "Estimated 90% confidence interval: (0.0529, 0.3471)\n"
     ]
    }
   ],
   "source": [
    "print(f'Estimated 90% confidence interval: ({lower:.4f}, {upper:.4f})')"
   ]
  },
  {
   "cell_type": "markdown",
   "id": "cc1a9564",
   "metadata": {},
   "source": [
    "# Part (b)"
   ]
  },
  {
   "cell_type": "markdown",
   "id": "c6d74c3a",
   "metadata": {},
   "source": [
    "Now we estimate the standard error using the parametric bootstrap. We sample from the distributions $\\mathrm{Bern}(\\hat p_1)$ and $\\mathrm{Bern}(\\hat p_2)$ to create each bootstrap sample."
   ]
  },
  {
   "cell_type": "code",
   "execution_count": 72,
   "id": "8fc91241",
   "metadata": {},
   "outputs": [],
   "source": [
    "B = int(1e5)"
   ]
  },
  {
   "cell_type": "code",
   "execution_count": 73,
   "id": "d535fd00",
   "metadata": {},
   "outputs": [],
   "source": [
    "# The bootstrap estimates of tau\n",
    "bootstrap = np.empty(B)"
   ]
  },
  {
   "cell_type": "code",
   "execution_count": 74,
   "id": "07e477ae",
   "metadata": {},
   "outputs": [],
   "source": [
    "for i in range(B):\n",
    "    X_1_star = np.random.binomial(n, p_1_hat)\n",
    "    X_2_star = np.random.binomial(n, p_2_hat)\n",
    "    p_1_star = X_1_star / n\n",
    "    p_2_star = X_2_star / n\n",
    "    psi_star = p_2_star - p_1_star\n",
    "    bootstrap[i] = psi_star"
   ]
  },
  {
   "cell_type": "code",
   "execution_count": 75,
   "id": "202ef21c",
   "metadata": {},
   "outputs": [],
   "source": [
    "# Standard error of the bootstrap estimates\n",
    "se_boot = np.sqrt(((bootstrap - psi_hat)**2).sum() / B)"
   ]
  },
  {
   "cell_type": "code",
   "execution_count": 76,
   "id": "c3033c85",
   "metadata": {},
   "outputs": [
    {
     "name": "stdout",
     "output_type": "stream",
     "text": [
      "Bootstrap standard error: 0.0895\n"
     ]
    }
   ],
   "source": [
    "print(f'Bootstrap standard error: {se_boot:.4f}')"
   ]
  },
  {
   "cell_type": "code",
   "execution_count": 77,
   "id": "2e64ee20",
   "metadata": {},
   "outputs": [],
   "source": [
    "lower = psi_hat - z * se_boot"
   ]
  },
  {
   "cell_type": "code",
   "execution_count": 78,
   "id": "462d0a4b",
   "metadata": {},
   "outputs": [],
   "source": [
    "upper = psi_hat + z * se_boot"
   ]
  },
  {
   "cell_type": "code",
   "execution_count": 79,
   "id": "345aeb9a",
   "metadata": {},
   "outputs": [
    {
     "name": "stdout",
     "output_type": "stream",
     "text": [
      "Estimated 90% confidence interval: (0.0528, 0.3472)\n"
     ]
    }
   ],
   "source": [
    "print(f'Estimated 90% confidence interval: ({lower:.4f}, {upper:.4f})')"
   ]
  },
  {
   "cell_type": "markdown",
   "id": "16f68cc1",
   "metadata": {},
   "source": [
    "# Part (c)"
   ]
  },
  {
   "cell_type": "markdown",
   "id": "46ac4535",
   "metadata": {},
   "source": [
    "Now we estimate the posterior mean and a posterior confidence interval by sampling. The posterior distribution $p_i|x_i$ is $\\mathrm{Beta}(x_i+1,n-x_i+1)$. Thus we sample from a $\\mathrm{Beta}(x_i+1,n-x_i+1)$ for each $i$ and estimate the posterior mean of $\\tau=p_2-p_1$ by transforming the two samples."
   ]
  },
  {
   "cell_type": "code",
   "execution_count": 80,
   "id": "7bc08716",
   "metadata": {},
   "outputs": [],
   "source": [
    "B = int(1e5)"
   ]
  },
  {
   "cell_type": "code",
   "execution_count": 81,
   "id": "6e647c6e",
   "metadata": {},
   "outputs": [],
   "source": [
    "P_1 = beta.rvs(a=X_1+1, b=n-X_1+1, size=B)"
   ]
  },
  {
   "cell_type": "code",
   "execution_count": 82,
   "id": "75f6b2e2",
   "metadata": {
    "scrolled": true
   },
   "outputs": [],
   "source": [
    "P_2 = beta.rvs(a=X_2+1, b=n-X_2+1, size=B)"
   ]
  },
  {
   "cell_type": "code",
   "execution_count": 83,
   "id": "6cf6ef53",
   "metadata": {},
   "outputs": [],
   "source": [
    "Tau = P_2 - P_1"
   ]
  },
  {
   "cell_type": "code",
   "execution_count": 84,
   "id": "ab494e92",
   "metadata": {},
   "outputs": [],
   "source": [
    "tau_hat = Tau.mean()"
   ]
  },
  {
   "cell_type": "code",
   "execution_count": 85,
   "id": "275daefd",
   "metadata": {},
   "outputs": [
    {
     "name": "stdout",
     "output_type": "stream",
     "text": [
      "Estimate of posterior mean from sampling: 0.1923\n"
     ]
    }
   ],
   "source": [
    "print(f'Estimate of posterior mean from sampling: {tau_hat:.4f}')"
   ]
  },
  {
   "cell_type": "code",
   "execution_count": 86,
   "id": "ce33fc0c",
   "metadata": {},
   "outputs": [],
   "source": [
    "lower = np.quantile(Tau, alpha / 2)"
   ]
  },
  {
   "cell_type": "code",
   "execution_count": 87,
   "id": "00ea3dbb",
   "metadata": {},
   "outputs": [],
   "source": [
    "upper = np.quantile(Tau, 1 - alpha / 2)"
   ]
  },
  {
   "cell_type": "code",
   "execution_count": 88,
   "id": "7a1abf9b",
   "metadata": {},
   "outputs": [
    {
     "name": "stdout",
     "output_type": "stream",
     "text": [
      "Estimated posterior confidence interval from sampling: (0.0461, 0.3347)\n"
     ]
    }
   ],
   "source": [
    "print(f'Estimated posterior confidence interval from sampling: ({lower:.4f}, {upper:.4f})')"
   ]
  },
  {
   "cell_type": "markdown",
   "id": "f9dd1ac4",
   "metadata": {},
   "source": [
    "# Part (d)"
   ]
  },
  {
   "cell_type": "markdown",
   "id": "febd90d9",
   "metadata": {},
   "source": [
    "By equivariance, the MLE of $\\psi$ is\n",
    "$$\\hat \\psi = \\log\\left(\\frac{\\hat p_1}{1-\\hat p_1} \\div \\frac{\\hat p_2}{1-\\hat p_2}\\right)$$ \n",
    "where $\\hat p_i = X_i / n$ is the MLE for $p_i$. Setting $g(p_1,p_2)=\\psi$, we have $\\nabla g = \\left(\\frac{1}{p_1(1-p_1)}, -\\frac{1}{p_2(1-p_2)}\\right)^T$. The Fisher information is\n",
    "$$I(p_1,p_2)=n \\begin{pmatrix} \\frac{1}{p_1(1-p_1)} & 0 \\\\ 0 & \\frac{1}{p_2(1-p_2)}\\end{pmatrix} \\text{ with inverse }\n",
    "J(p_1,p_2)=\\frac{1}{n} \\begin{pmatrix} p_1(1-p_1) & 0 \\\\ 0 & p_2(1-p_2)\\end{pmatrix}.$$ Thus, an estimate of the standard error is\n",
    "$$\\hat{\\mathrm{se}} = \\sqrt{(\\hat \\nabla g)^T \\hat J (\\hat \\nabla g)} = \\sqrt{\\frac{1}{n}\\left(\\frac{1}{p_1(1-p_1)} + \\frac{1}{p_2(1-p_2)}\\right)}.$$\n",
    "We compute this for the given values of $X_1,X_2$ below."
   ]
  },
  {
   "cell_type": "code",
   "execution_count": 91,
   "id": "d589acea",
   "metadata": {},
   "outputs": [],
   "source": [
    "psi_hat = np.log(p_1_hat / (1 - p_1_hat)) - np.log(p_2_hat / (1 - p_2_hat))"
   ]
  },
  {
   "cell_type": "code",
   "execution_count": 92,
   "id": "a1a27ffa",
   "metadata": {},
   "outputs": [
    {
     "name": "stdout",
     "output_type": "stream",
     "text": [
      "MLE of psi: -0.9808\n"
     ]
    }
   ],
   "source": [
    "print(f'MLE of psi: {psi_hat:.4f}')"
   ]
  },
  {
   "cell_type": "code",
   "execution_count": 93,
   "id": "efcf33f2",
   "metadata": {},
   "outputs": [],
   "source": [
    "se_hat = (1 / (n * p_1_hat * (1 - p_1_hat)) + 1 / (n * p_2_hat * (1 - p_2_hat)))**(1/2) "
   ]
  },
  {
   "cell_type": "code",
   "execution_count": 94,
   "id": "916b4fd7",
   "metadata": {},
   "outputs": [],
   "source": [
    "lower = psi_hat - z * se_hat"
   ]
  },
  {
   "cell_type": "code",
   "execution_count": 95,
   "id": "bc1e2f61",
   "metadata": {},
   "outputs": [],
   "source": [
    "upper = psi_hat + z * se_hat"
   ]
  },
  {
   "cell_type": "code",
   "execution_count": 96,
   "id": "0efab75c",
   "metadata": {},
   "outputs": [
    {
     "name": "stdout",
     "output_type": "stream",
     "text": [
      "90% confidence interval for psi: (-1.7316, -0.2301)\n"
     ]
    }
   ],
   "source": [
    "print(f'90% confidence interval for psi: ({lower:.4f}, {upper:.4f})')"
   ]
  },
  {
   "cell_type": "markdown",
   "id": "443b1aed",
   "metadata": {},
   "source": [
    "# Part (e)"
   ]
  },
  {
   "cell_type": "markdown",
   "id": "38bbec32",
   "metadata": {},
   "source": [
    "Finally, we estimate the posterior mean and a posterior confidence interval for $\\psi$ by sampling. The posterior distribution $p_i|x_i$ is $\\mathrm{Beta}(x_i+1,n-x_i+1)$. Thus we sample from a $\\mathrm{Beta}(x_i+1,n-x_i+1)$ for each $i$ and estimate the posterior mean of $\\psi=\\log(p_1 / (1-p_1) \\div p_2 / (1-p_2))$ by transforming the two samples."
   ]
  },
  {
   "cell_type": "code",
   "execution_count": 97,
   "id": "64577cb1",
   "metadata": {},
   "outputs": [],
   "source": [
    "P_1 = beta.rvs(a=X_1+1, b=n-X_1+1, size=B)"
   ]
  },
  {
   "cell_type": "code",
   "execution_count": 98,
   "id": "cb685380",
   "metadata": {},
   "outputs": [],
   "source": [
    "P_2 = beta.rvs(a=X_2+1, b=n-X_2+1, size=B)"
   ]
  },
  {
   "cell_type": "code",
   "execution_count": 99,
   "id": "d8c32194",
   "metadata": {},
   "outputs": [],
   "source": [
    "Psi = np.log(P_1 / (1 - P_1)) - np.log(P_2 / (1 - P_2))"
   ]
  },
  {
   "cell_type": "code",
   "execution_count": 100,
   "id": "e062dfbe",
   "metadata": {},
   "outputs": [],
   "source": [
    "psi_hat = Psi.mean()"
   ]
  },
  {
   "cell_type": "code",
   "execution_count": 101,
   "id": "40fc509a",
   "metadata": {},
   "outputs": [
    {
     "name": "stdout",
     "output_type": "stream",
     "text": [
      "Estimate of posterior mean from sampling: -0.9518\n"
     ]
    }
   ],
   "source": [
    "print(f'Estimate of posterior mean from sampling: {psi_hat:.4f}')"
   ]
  },
  {
   "cell_type": "code",
   "execution_count": 102,
   "id": "924ab834",
   "metadata": {},
   "outputs": [
    {
     "name": "stdout",
     "output_type": "stream",
     "text": [
      "Estimated posterior confidence interval from sampling: (-1.6998, -0.2212)\n"
     ]
    }
   ],
   "source": [
    "lower = np.quantile(Psi, alpha / 2)\n",
    "\n",
    "upper = np.quantile(Psi, 1 - alpha / 2)\n",
    "\n",
    "print(f'Estimated posterior confidence interval from sampling: ({lower:.4f}, {upper:.4f})')"
   ]
  },
  {
   "cell_type": "markdown",
   "id": "9a3c3b07",
   "metadata": {},
   "source": [
    "We see that in all cases the posterior mean and confidence interval match closely whether obtained via sampling or via the delta method."
   ]
  }
 ],
 "metadata": {
  "kernelspec": {
   "display_name": "deeplearn",
   "language": "python",
   "name": "deeplearn"
  },
  "language_info": {
   "codemirror_mode": {
    "name": "ipython",
    "version": 3
   },
   "file_extension": ".py",
   "mimetype": "text/x-python",
   "name": "python",
   "nbconvert_exporter": "python",
   "pygments_lexer": "ipython3",
   "version": "3.10.0"
  }
 },
 "nbformat": 4,
 "nbformat_minor": 5
}
