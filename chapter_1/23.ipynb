{
 "cells": [
  {
   "cell_type": "code",
   "execution_count": 1,
   "id": "cf50f2e8",
   "metadata": {},
   "outputs": [
    {
     "name": "stdout",
     "output_type": "stream",
     "text": [
      "Intel MKL WARNING: Support of Intel(R) Streaming SIMD Extensions 4.2 (Intel(R) SSE4.2) enabled only processors has been deprecated. Intel oneAPI Math Kernel Library 2025.0 will require Intel(R) Advanced Vector Extensions (Intel(R) AVX) instructions.\n",
      "Intel MKL WARNING: Support of Intel(R) Streaming SIMD Extensions 4.2 (Intel(R) SSE4.2) enabled only processors has been deprecated. Intel oneAPI Math Kernel Library 2025.0 will require Intel(R) Advanced Vector Extensions (Intel(R) AVX) instructions.\n"
     ]
    }
   ],
   "source": [
    "import numpy as np"
   ]
  },
  {
   "cell_type": "code",
   "execution_count": 2,
   "id": "8929b5a5",
   "metadata": {},
   "outputs": [],
   "source": [
    "np.random.seed(42)"
   ]
  },
  {
   "cell_type": "code",
   "execution_count": 3,
   "id": "04103c5f",
   "metadata": {},
   "outputs": [],
   "source": [
    "n = 1000"
   ]
  },
  {
   "cell_type": "markdown",
   "id": "3309b6d4",
   "metadata": {},
   "source": [
    "Let's try the simulation with independent events: $A=\\{2,4,6\\}$, $B=\\{1,2,3,4\\}$"
   ]
  },
  {
   "cell_type": "code",
   "execution_count": 4,
   "id": "7f218fbc",
   "metadata": {},
   "outputs": [],
   "source": [
    "x = np.array(range(n))"
   ]
  },
  {
   "cell_type": "code",
   "execution_count": 5,
   "id": "c60c0e61",
   "metadata": {},
   "outputs": [],
   "source": [
    "y = np.random.choice(range(1,7), size=n)"
   ]
  },
  {
   "cell_type": "code",
   "execution_count": 6,
   "id": "5e192d83",
   "metadata": {},
   "outputs": [],
   "source": [
    "A = np.array(list(map(lambda x: int(x in [2,4,6]),y)))"
   ]
  },
  {
   "cell_type": "code",
   "execution_count": 7,
   "id": "a7cfa59d",
   "metadata": {},
   "outputs": [],
   "source": [
    "B = np.array(list(map(lambda x: int(x in [1,2,3,4]),y)))"
   ]
  },
  {
   "cell_type": "code",
   "execution_count": 8,
   "id": "3b356994",
   "metadata": {},
   "outputs": [],
   "source": [
    "AB = A * B"
   ]
  },
  {
   "cell_type": "code",
   "execution_count": 9,
   "id": "e0b1480d",
   "metadata": {},
   "outputs": [],
   "source": [
    "a = np.mean(A)"
   ]
  },
  {
   "cell_type": "code",
   "execution_count": 10,
   "id": "bcf370c3",
   "metadata": {},
   "outputs": [],
   "source": [
    "b = np.mean(B)"
   ]
  },
  {
   "cell_type": "code",
   "execution_count": 11,
   "id": "ff043db0",
   "metadata": {},
   "outputs": [],
   "source": [
    "ab = np.mean(AB)"
   ]
  },
  {
   "cell_type": "code",
   "execution_count": 12,
   "id": "055fc72d",
   "metadata": {},
   "outputs": [
    {
     "name": "stdout",
     "output_type": "stream",
     "text": [
      "Estimated probability of event A: 0.49300\n"
     ]
    }
   ],
   "source": [
    "print('Estimated probability of event A: {0:.5f}'.format(a))"
   ]
  },
  {
   "cell_type": "code",
   "execution_count": 13,
   "id": "ed690b84",
   "metadata": {},
   "outputs": [
    {
     "name": "stdout",
     "output_type": "stream",
     "text": [
      "Estimated probability of event B: 0.67300\n"
     ]
    }
   ],
   "source": [
    "print('Estimated probability of event B: {0:.5f}'.format(b))"
   ]
  },
  {
   "cell_type": "code",
   "execution_count": 14,
   "id": "e62d8df7",
   "metadata": {},
   "outputs": [
    {
     "name": "stdout",
     "output_type": "stream",
     "text": [
      "Estimated probability of event AB: 0.33800\n"
     ]
    }
   ],
   "source": [
    "print('Estimated probability of event AB: {0:.5f}'.format(ab))"
   ]
  },
  {
   "cell_type": "markdown",
   "id": "108a7ffa",
   "metadata": {},
   "source": [
    "Result: events $A$ and $B$ are independent and we see that $\\hat{\\mathbb{P}}(A)\\hat{\\mathbb{P}}(B) \\approx \\hat{\\mathbb{P}}(AB)$."
   ]
  },
  {
   "cell_type": "markdown",
   "id": "10755e87",
   "metadata": {},
   "source": [
    "Now let's try the same simulation with two non-independent events: $A=\\{1,2,3\\}$, $B=\\{2,3,4\\}$."
   ]
  },
  {
   "cell_type": "code",
   "execution_count": 15,
   "id": "860b32f3",
   "metadata": {},
   "outputs": [],
   "source": [
    "x = np.array(range(n))"
   ]
  },
  {
   "cell_type": "code",
   "execution_count": 16,
   "id": "acc3d5b0",
   "metadata": {},
   "outputs": [],
   "source": [
    "y = np.random.choice(range(1,7), size=n)"
   ]
  },
  {
   "cell_type": "code",
   "execution_count": 17,
   "id": "6c5dae71",
   "metadata": {},
   "outputs": [],
   "source": [
    "A = np.array(list(map(lambda x: int(x in [1,2,3]),y)))"
   ]
  },
  {
   "cell_type": "code",
   "execution_count": 18,
   "id": "ef1637c2",
   "metadata": {},
   "outputs": [],
   "source": [
    "B = np.array(list(map(lambda x: int(x in [2,3,4]),y)))"
   ]
  },
  {
   "cell_type": "code",
   "execution_count": 19,
   "id": "20b2224a",
   "metadata": {},
   "outputs": [],
   "source": [
    "AB = A * B"
   ]
  },
  {
   "cell_type": "code",
   "execution_count": 20,
   "id": "1816ae78",
   "metadata": {},
   "outputs": [],
   "source": [
    "a = np.mean(A)"
   ]
  },
  {
   "cell_type": "code",
   "execution_count": 21,
   "id": "f080ea42",
   "metadata": {},
   "outputs": [],
   "source": [
    "b = np.mean(B)"
   ]
  },
  {
   "cell_type": "code",
   "execution_count": 22,
   "id": "3fdda37b",
   "metadata": {},
   "outputs": [],
   "source": [
    "ab = np.mean(AB)"
   ]
  },
  {
   "cell_type": "code",
   "execution_count": 23,
   "id": "81deb8df",
   "metadata": {},
   "outputs": [
    {
     "name": "stdout",
     "output_type": "stream",
     "text": [
      "Estimated probability of event A: 0.50800\n"
     ]
    }
   ],
   "source": [
    "print('Estimated probability of event A: {0:.5f}'.format(a))"
   ]
  },
  {
   "cell_type": "code",
   "execution_count": 24,
   "id": "7e9bd23a",
   "metadata": {},
   "outputs": [
    {
     "name": "stdout",
     "output_type": "stream",
     "text": [
      "Estimated probability of event B: 0.48900\n"
     ]
    }
   ],
   "source": [
    "print('Estimated probability of event B: {0:.5f}'.format(b))"
   ]
  },
  {
   "cell_type": "code",
   "execution_count": 25,
   "id": "a46435a0",
   "metadata": {},
   "outputs": [
    {
     "name": "stdout",
     "output_type": "stream",
     "text": [
      "Estimated probability of event AB: 0.33700\n"
     ]
    }
   ],
   "source": [
    "print('Estimated probability of event AB: {0:.5f}'.format(ab))"
   ]
  },
  {
   "cell_type": "markdown",
   "id": "1cd549a6",
   "metadata": {},
   "source": [
    "Result: events $A$ and $B$ are not independent and we see that $\\hat{\\mathbb{P}}(A)\\hat{\\mathbb{P}}(B) \\not\\approx \\hat{\\mathbb{P}}(AB)$."
   ]
  }
 ],
 "metadata": {
  "kernelspec": {
   "display_name": "tf",
   "language": "python",
   "name": "tf"
  },
  "language_info": {
   "codemirror_mode": {
    "name": "ipython",
    "version": 3
   },
   "file_extension": ".py",
   "mimetype": "text/x-python",
   "name": "python",
   "nbconvert_exporter": "python",
   "pygments_lexer": "ipython3",
   "version": "3.11.3"
  }
 },
 "nbformat": 4,
 "nbformat_minor": 5
}
